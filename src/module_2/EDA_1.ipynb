{
 "cells": [
  {
   "cell_type": "code",
   "execution_count": null,
   "metadata": {},
   "outputs": [],
   "source": [
    "import boto3\n",
    "import pandas as pd\n",
    "from dotenv import load_dotenv\n",
    "import os\n",
    "from io import BytesIO\n"
   ]
  },
  {
   "cell_type": "code",
   "execution_count": null,
   "metadata": {},
   "outputs": [],
   "source": [
    "load_dotenv(\"/mnt/c/Users/Daniel Sánchez/Desktop/ZRIVE DS/zrive-ds/src/module_2/credentials.env\")\n",
    "\n",
    "aws_access_key = os.getenv('AWS_ACCESS_KEY_ID')\n",
    "aws_secret_key = os.getenv('AWS_SECRET_ACCESS_KEY')\n",
    "aws_region = os.getenv('AWS_DEFAULT_REGION')"
   ]
  },
  {
   "cell_type": "code",
   "execution_count": null,
   "metadata": {},
   "outputs": [],
   "source": [
    "# Initialize S3 client\n",
    "s3 = boto3.client(\n",
    "    's3',\n",
    "    aws_access_key_id=os.getenv('AWS_ACCESS_KEY_ID'),\n",
    "    aws_secret_access_key=os.getenv('AWS_SECRET_ACCESS_KEY'),\n",
    "    region_name=os.getenv('AWS_DEFAULT_REGION')\n",
    ")\n",
    "\n",
    "# Define the bucket and prefix\n",
    "bucket_name = 'zrive-ds-data'\n",
    "prefix = 'groceries/sampled-datasets/'\n",
    "\n",
    "# List objects in the S3 bucket\n",
    "response = s3.list_objects_v2(Bucket=bucket_name, Prefix=prefix)\n",
    "\n",
    "# Print the list of files\n",
    "if 'Contents' in response:\n",
    "    for obj in response['Contents']:\n",
    "        print(obj['Key'])\n",
    "else:\n",
    "    print(\"No files found in the bucket.\")\n"
   ]
  },
  {
   "cell_type": "code",
   "execution_count": null,
   "metadata": {},
   "outputs": [],
   "source": [
    "# Define the file you want to download (e.g., orders.parquet)\n",
    "\n",
    "orders = 'groceries/sampled-datasets/orders.parquet'\n",
    "regulars ='groceries/sampled-datasets/regulars.parquet'\n",
    "inventory = 'groceries/sampled-datasets/inventory.parquet'\n",
    "abandoned_carts = 'groceries/sampled-datasets/abandoned_carts.parquet'\n",
    "users= 'groceries/sampled-datasets/users.parquet'\n",
    "\n",
    "# Download the Parquet file from S3\n",
    "\n",
    "response_orders = s3.get_object(Bucket=bucket_name, Key=orders)\n",
    "response_regulars = s3.get_object(Bucket=bucket_name, Key=regulars)\n",
    "response_inventory = s3.get_object(Bucket=bucket_name, Key=inventory)\n",
    "response_abandoned_carts = s3.get_object(Bucket=bucket_name, Key=abandoned_carts)\n",
    "response_users = s3.get_object(Bucket=bucket_name, Key=users)\n",
    "\n",
    "# Load the Parquet file into a Pandas DataFrame\n",
    "df_orders = pd.read_parquet(BytesIO(response_orders['Body'].read()))\n",
    "df_regulars = pd.read_parquet(BytesIO(response_regulars['Body'].read()))\n",
    "df_inventory = pd.read_parquet(BytesIO(response_inventory['Body'].read()))\n",
    "df_abandoned_carts = pd.read_parquet(BytesIO(response_abandoned_carts['Body'].read()))\n",
    "df_users = pd.read_parquet(BytesIO(response_users['Body'].read()))\n",
    "\n"
   ]
  }
 ],
 "metadata": {
  "kernelspec": {
   "display_name": ".venv",
   "language": "python",
   "name": "python3"
  },
  "language_info": {
   "name": "python",
   "version": "3.11.0"
  }
 },
 "nbformat": 4,
 "nbformat_minor": 2
}
