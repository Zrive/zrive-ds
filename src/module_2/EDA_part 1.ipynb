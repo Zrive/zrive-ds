{
 "cells": [
  {
   "cell_type": "markdown",
   "metadata": {},
   "source": [
    "Importing all necessary modules to access the data"
   ]
  },
  {
   "cell_type": "markdown",
   "metadata": {},
   "source": []
  },
  {
   "cell_type": "code",
   "execution_count": 1,
   "metadata": {},
   "outputs": [],
   "source": [
    "import boto3\n",
    "import pandas as pd\n",
    "from dotenv import load_dotenv\n",
    "import os\n",
    "from io import BytesIO\n",
    "\n"
   ]
  },
  {
   "cell_type": "markdown",
   "metadata": {},
   "source": [
    "Before accessing the AWS server we will be getting the Keys stored in the .env file ."
   ]
  },
  {
   "cell_type": "code",
   "execution_count": 2,
   "metadata": {},
   "outputs": [],
   "source": [
    "load_dotenv(\"/mnt/c/Users/Daniel Sánchez/Desktop/ZRIVE DS/zrive-ds/src/module_2/credentials.env\")\n",
    "\n",
    "aws_access_key = os.getenv('AWS_ACCESS_KEY_ID')\n",
    "aws_secret_key = os.getenv('AWS_SECRET_ACCESS_KEY')\n",
    "aws_region = os.getenv('AWS_DEFAULT_REGION')"
   ]
  },
  {
   "cell_type": "markdown",
   "metadata": {},
   "source": [
    "This part of the code access AWS and getting all data-sets in parquet format: "
   ]
  },
  {
   "cell_type": "code",
   "execution_count": 3,
   "metadata": {},
   "outputs": [
    {
     "name": "stdout",
     "output_type": "stream",
     "text": [
      "groceries/sampled-datasets/abandoned_carts.parquet\n",
      "groceries/sampled-datasets/inventory.parquet\n",
      "groceries/sampled-datasets/orders.parquet\n",
      "groceries/sampled-datasets/regulars.parquet\n",
      "groceries/sampled-datasets/users.parquet\n"
     ]
    }
   ],
   "source": [
    "\n",
    "# Initialize S3 client\n",
    "s3 = boto3.client(\n",
    "    's3',\n",
    "    aws_access_key_id=os.getenv('AWS_ACCESS_KEY_ID'),\n",
    "    aws_secret_access_key=os.getenv('AWS_SECRET_ACCESS_KEY'),\n",
    "    region_name=os.getenv('AWS_DEFAULT_REGION')\n",
    ")\n",
    "\n",
    "# Define the bucket and prefix\n",
    "bucket_name = 'zrive-ds-data'\n",
    "prefix = 'groceries/sampled-datasets/'\n",
    "\n",
    "# List objects in the S3 bucket\n",
    "response = s3.list_objects_v2(Bucket=bucket_name, Prefix=prefix)\n",
    "\n",
    "# Print the list of files\n",
    "if 'Contents' in response:\n",
    "    for obj in response['Contents']:\n",
    "        print(obj['Key'])\n",
    "else:\n",
    "    print(\"No files found in the bucket.\")\n"
   ]
  },
  {
   "cell_type": "markdown",
   "metadata": {},
   "source": [
    "Now we will define all files we want to download and load them into data sets using pandas"
   ]
  },
  {
   "cell_type": "code",
   "execution_count": 4,
   "metadata": {},
   "outputs": [],
   "source": [
    "\n",
    "\n",
    "# Define the file you want to download (e.g., orders.parquet)\n",
    "\n",
    "orders = 'groceries/sampled-datasets/orders.parquet'\n",
    "regulars ='groceries/sampled-datasets/regulars.parquet'\n",
    "inventory = 'groceries/sampled-datasets/inventory.parquet'\n",
    "abandoned_carts = 'groceries/sampled-datasets/abandoned_carts.parquet'\n",
    "users= 'groceries/sampled-datasets/users.parquet'\n",
    "\n",
    "# Download the Parquet file from S3\n",
    "\n",
    "response_orders = s3.get_object(Bucket=bucket_name, Key=orders)\n",
    "response_regulars = s3.get_object(Bucket=bucket_name, Key=regulars)\n",
    "response_inventory = s3.get_object(Bucket=bucket_name, Key=inventory)\n",
    "response_abandoned_carts = s3.get_object(Bucket=bucket_name, Key=abandoned_carts)\n",
    "response_users = s3.get_object(Bucket=bucket_name, Key=users)\n",
    "\n",
    "# Load the Parquet file into a Pandas DataFrame\n",
    "df_orders = pd.read_parquet(BytesIO(response_orders['Body'].read()))\n",
    "df_regulars = pd.read_parquet(BytesIO(response_regulars['Body'].read()))\n",
    "df_inventory = pd.read_parquet(BytesIO(response_inventory['Body'].read()))\n",
    "df_abandoned_carts = pd.read_parquet(BytesIO(response_abandoned_carts['Body'].read()))\n",
    "df_users = pd.read_parquet(BytesIO(response_users['Body'].read()))\n",
    "\n"
   ]
  },
  {
   "cell_type": "code",
   "execution_count": 24,
   "metadata": {},
   "outputs": [
    {
     "data": {
      "text/html": [
       "<div>\n",
       "<style scoped>\n",
       "    .dataframe tbody tr th:only-of-type {\n",
       "        vertical-align: middle;\n",
       "    }\n",
       "\n",
       "    .dataframe tbody tr th {\n",
       "        vertical-align: top;\n",
       "    }\n",
       "\n",
       "    .dataframe thead th {\n",
       "        text-align: right;\n",
       "    }\n",
       "</style>\n",
       "<table border=\"1\" class=\"dataframe\">\n",
       "  <thead>\n",
       "    <tr style=\"text-align: right;\">\n",
       "      <th></th>\n",
       "      <th>id</th>\n",
       "      <th>user_id</th>\n",
       "      <th>created_at</th>\n",
       "      <th>variant_id</th>\n",
       "    </tr>\n",
       "  </thead>\n",
       "  <tbody>\n",
       "    <tr>\n",
       "      <th>0</th>\n",
       "      <td>12858560217220</td>\n",
       "      <td>5c4e5953f13ddc3bc9659a3453356155e5efe4739d7a2b...</td>\n",
       "      <td>2020-05-20 13:53:24</td>\n",
       "      <td>[33826459287684, 33826457616516, 3366719212762...</td>\n",
       "    </tr>\n",
       "    <tr>\n",
       "      <th>13</th>\n",
       "      <td>20352449839236</td>\n",
       "      <td>9d6187545c005d39e44d0456d87790db18611d7c7379bd...</td>\n",
       "      <td>2021-06-27 05:24:13</td>\n",
       "      <td>[34415988179076, 34037940158596, 3450282236326...</td>\n",
       "    </tr>\n",
       "    <tr>\n",
       "      <th>45</th>\n",
       "      <td>20478401413252</td>\n",
       "      <td>e83fb0273d70c37a2968fee107113698fd4f389c442c0b...</td>\n",
       "      <td>2021-07-18 08:23:49</td>\n",
       "      <td>[34543001337988, 34037939372164, 3411360609088...</td>\n",
       "    </tr>\n",
       "    <tr>\n",
       "      <th>50</th>\n",
       "      <td>20481783103620</td>\n",
       "      <td>10c42e10e530284b7c7c50f3a23a98726d5747b8128084...</td>\n",
       "      <td>2021-07-18 21:29:36</td>\n",
       "      <td>[33667268116612, 34037940224132, 3443605520397...</td>\n",
       "    </tr>\n",
       "    <tr>\n",
       "      <th>52</th>\n",
       "      <td>20485321687172</td>\n",
       "      <td>d9989439524b3f6fc4f41686d043f315fb408b954d6153...</td>\n",
       "      <td>2021-07-19 12:17:05</td>\n",
       "      <td>[33667268083844, 34284950454404, 33973246886020]</td>\n",
       "    </tr>\n",
       "  </tbody>\n",
       "</table>\n",
       "</div>"
      ],
      "text/plain": [
       "                id                                            user_id  \\\n",
       "0   12858560217220  5c4e5953f13ddc3bc9659a3453356155e5efe4739d7a2b...   \n",
       "13  20352449839236  9d6187545c005d39e44d0456d87790db18611d7c7379bd...   \n",
       "45  20478401413252  e83fb0273d70c37a2968fee107113698fd4f389c442c0b...   \n",
       "50  20481783103620  10c42e10e530284b7c7c50f3a23a98726d5747b8128084...   \n",
       "52  20485321687172  d9989439524b3f6fc4f41686d043f315fb408b954d6153...   \n",
       "\n",
       "            created_at                                         variant_id  \n",
       "0  2020-05-20 13:53:24  [33826459287684, 33826457616516, 3366719212762...  \n",
       "13 2021-06-27 05:24:13  [34415988179076, 34037940158596, 3450282236326...  \n",
       "45 2021-07-18 08:23:49  [34543001337988, 34037939372164, 3411360609088...  \n",
       "50 2021-07-18 21:29:36  [33667268116612, 34037940224132, 3443605520397...  \n",
       "52 2021-07-19 12:17:05   [33667268083844, 34284950454404, 33973246886020]  "
      ]
     },
     "execution_count": 24,
     "metadata": {},
     "output_type": "execute_result"
    }
   ],
   "source": [
    "df_abandoned_carts.head()\n",
    "\n"
   ]
  }
 ],
 "metadata": {
  "kernelspec": {
   "display_name": ".venv",
   "language": "python",
   "name": "python3"
  },
  "language_info": {
   "codemirror_mode": {
    "name": "ipython",
    "version": 3
   },
   "file_extension": ".py",
   "mimetype": "text/x-python",
   "name": "python",
   "nbconvert_exporter": "python",
   "pygments_lexer": "ipython3",
   "version": "3.11.0"
  }
 },
 "nbformat": 4,
 "nbformat_minor": 2
}
