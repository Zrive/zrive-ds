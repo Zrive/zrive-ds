{
 "cells": [
  {
   "cell_type": "markdown",
   "metadata": {},
   "source": [
    "# Module 2: EDA\n",
    "\n",
    "## Exercise 1. Understanding the problem space"
   ]
  },
  {
   "cell_type": "code",
   "execution_count": 1,
   "metadata": {},
   "outputs": [],
   "source": [
    "import pandas as pd\n",
    "import numpy as np\n",
    "import matplotlib.pyplot as plt\n",
    "import os"
   ]
  },
  {
   "cell_type": "code",
   "execution_count": 2,
   "metadata": {},
   "outputs": [],
   "source": [
    "data_path = \"/mnt/c/Users/Adriana/Desktop/ZRIVE/data/groceries/sampled-datasets/\""
   ]
  },
  {
   "cell_type": "markdown",
   "metadata": {},
   "source": [
    "## Reading and understanding the files\n",
    "**orders_parquet**: An order history of customers. \n",
    "Each row is an order and the item_ids for the order are stored as a list in the ordered_items column."
   ]
  },
  {
   "cell_type": "code",
   "execution_count": 3,
   "metadata": {},
   "outputs": [
    {
     "data": {
      "text/html": [
       "<div>\n",
       "<style scoped>\n",
       "    .dataframe tbody tr th:only-of-type {\n",
       "        vertical-align: middle;\n",
       "    }\n",
       "\n",
       "    .dataframe tbody tr th {\n",
       "        vertical-align: top;\n",
       "    }\n",
       "\n",
       "    .dataframe thead th {\n",
       "        text-align: right;\n",
       "    }\n",
       "</style>\n",
       "<table border=\"1\" class=\"dataframe\">\n",
       "  <thead>\n",
       "    <tr style=\"text-align: right;\">\n",
       "      <th></th>\n",
       "      <th>id</th>\n",
       "      <th>user_id</th>\n",
       "      <th>created_at</th>\n",
       "      <th>order_date</th>\n",
       "      <th>user_order_seq</th>\n",
       "      <th>ordered_items</th>\n",
       "    </tr>\n",
       "  </thead>\n",
       "  <tbody>\n",
       "    <tr>\n",
       "      <th>10</th>\n",
       "      <td>2204073066628</td>\n",
       "      <td>62e271062eb827e411bd73941178d29b022f5f2de9d37f...</td>\n",
       "      <td>2020-04-30 14:32:19</td>\n",
       "      <td>2020-04-30</td>\n",
       "      <td>1</td>\n",
       "      <td>[33618849693828, 33618860179588, 3361887404045...</td>\n",
       "    </tr>\n",
       "    <tr>\n",
       "      <th>20</th>\n",
       "      <td>2204707520644</td>\n",
       "      <td>bf591c887c46d5d3513142b6a855dd7ffb9cc00697f6f5...</td>\n",
       "      <td>2020-04-30 17:39:00</td>\n",
       "      <td>2020-04-30</td>\n",
       "      <td>1</td>\n",
       "      <td>[33618835243140, 33618835964036, 3361886244058...</td>\n",
       "    </tr>\n",
       "    <tr>\n",
       "      <th>21</th>\n",
       "      <td>2204838822020</td>\n",
       "      <td>329f08c66abb51f8c0b8a9526670da2d94c0c6eef06700...</td>\n",
       "      <td>2020-04-30 18:12:30</td>\n",
       "      <td>2020-04-30</td>\n",
       "      <td>1</td>\n",
       "      <td>[33618891145348, 33618893570180, 3361889766618...</td>\n",
       "    </tr>\n",
       "    <tr>\n",
       "      <th>34</th>\n",
       "      <td>2208967852164</td>\n",
       "      <td>f6451fce7b1c58d0effbe37fcb4e67b718193562766470...</td>\n",
       "      <td>2020-05-01 19:44:11</td>\n",
       "      <td>2020-05-01</td>\n",
       "      <td>1</td>\n",
       "      <td>[33618830196868, 33618846580868, 3361891234624...</td>\n",
       "    </tr>\n",
       "    <tr>\n",
       "      <th>49</th>\n",
       "      <td>2215889436804</td>\n",
       "      <td>68e872ff888303bff58ec56a3a986f77ddebdbe5c279e7...</td>\n",
       "      <td>2020-05-03 21:56:14</td>\n",
       "      <td>2020-05-03</td>\n",
       "      <td>1</td>\n",
       "      <td>[33667166699652, 33667166699652, 3366717122163...</td>\n",
       "    </tr>\n",
       "  </tbody>\n",
       "</table>\n",
       "</div>"
      ],
      "text/plain": [
       "               id                                            user_id  \\\n",
       "10  2204073066628  62e271062eb827e411bd73941178d29b022f5f2de9d37f...   \n",
       "20  2204707520644  bf591c887c46d5d3513142b6a855dd7ffb9cc00697f6f5...   \n",
       "21  2204838822020  329f08c66abb51f8c0b8a9526670da2d94c0c6eef06700...   \n",
       "34  2208967852164  f6451fce7b1c58d0effbe37fcb4e67b718193562766470...   \n",
       "49  2215889436804  68e872ff888303bff58ec56a3a986f77ddebdbe5c279e7...   \n",
       "\n",
       "            created_at order_date  user_order_seq  \\\n",
       "10 2020-04-30 14:32:19 2020-04-30               1   \n",
       "20 2020-04-30 17:39:00 2020-04-30               1   \n",
       "21 2020-04-30 18:12:30 2020-04-30               1   \n",
       "34 2020-05-01 19:44:11 2020-05-01               1   \n",
       "49 2020-05-03 21:56:14 2020-05-03               1   \n",
       "\n",
       "                                        ordered_items  \n",
       "10  [33618849693828, 33618860179588, 3361887404045...  \n",
       "20  [33618835243140, 33618835964036, 3361886244058...  \n",
       "21  [33618891145348, 33618893570180, 3361889766618...  \n",
       "34  [33618830196868, 33618846580868, 3361891234624...  \n",
       "49  [33667166699652, 33667166699652, 3366717122163...  "
      ]
     },
     "execution_count": 3,
     "metadata": {},
     "output_type": "execute_result"
    }
   ],
   "source": [
    "orders = pd.read_parquet(data_path + \"orders.parquet\")\n",
    "orders.head()"
   ]
  },
  {
   "cell_type": "code",
   "execution_count": 4,
   "metadata": {},
   "outputs": [
    {
     "name": "stdout",
     "output_type": "stream",
     "text": [
      "<class 'pandas.core.frame.DataFrame'>\n",
      "Index: 8773 entries, 10 to 64538\n",
      "Data columns (total 6 columns):\n",
      " #   Column          Non-Null Count  Dtype         \n",
      "---  ------          --------------  -----         \n",
      " 0   id              8773 non-null   int64         \n",
      " 1   user_id         8773 non-null   object        \n",
      " 2   created_at      8773 non-null   datetime64[us]\n",
      " 3   order_date      8773 non-null   datetime64[us]\n",
      " 4   user_order_seq  8773 non-null   int64         \n",
      " 5   ordered_items   8773 non-null   object        \n",
      "dtypes: datetime64[us](2), int64(2), object(2)\n",
      "memory usage: 479.8+ KB\n"
     ]
    }
   ],
   "source": [
    "orders.info()"
   ]
  },
  {
   "cell_type": "code",
   "execution_count": 5,
   "metadata": {},
   "outputs": [
    {
     "data": {
      "text/plain": [
       "array([ 1,  2,  3,  4,  5,  6,  7,  8,  9, 10, 11, 12, 13, 14, 15, 16, 17,\n",
       "       18, 19, 20, 21, 22, 23, 24, 25])"
      ]
     },
     "execution_count": 5,
     "metadata": {},
     "output_type": "execute_result"
    }
   ],
   "source": [
    "orders['user_order_seq'].unique()"
   ]
  },
  {
   "cell_type": "markdown",
   "metadata": {},
   "source": [
    "\n",
    "This dataset contains several key columns that provide comprehensive details about each order:\n",
    "\n",
    "1. Order ID: unique identifier for each order\n",
    "2. User ID: unique identifier for the user who placed the order.\n",
    "3. Created At: timestamp that indicates the exact time when the order was placed.\n",
    "4. Order Date:  day on which the order was created, separate from the time. \n",
    "5. User Order Sequence (user_order_seq): likely represents the sequential number of the order for each user, with '1' indicating the user's first order, and so on. This will help in understanding customer ordering behavior, such as frequency and retention.\n",
    "6. Ordered Items: list of the items that were included in each order."
   ]
  },
  {
   "cell_type": "markdown",
   "metadata": {},
   "source": [
    "**regulars.parquet**: Users are allowed to specify items that they wish to buy regularly. \n",
    "This data gives the items each user has asked to get regularly, along with when they input that information.\n"
   ]
  },
  {
   "cell_type": "code",
   "execution_count": 6,
   "metadata": {},
   "outputs": [
    {
     "data": {
      "text/html": [
       "<div>\n",
       "<style scoped>\n",
       "    .dataframe tbody tr th:only-of-type {\n",
       "        vertical-align: middle;\n",
       "    }\n",
       "\n",
       "    .dataframe tbody tr th {\n",
       "        vertical-align: top;\n",
       "    }\n",
       "\n",
       "    .dataframe thead th {\n",
       "        text-align: right;\n",
       "    }\n",
       "</style>\n",
       "<table border=\"1\" class=\"dataframe\">\n",
       "  <thead>\n",
       "    <tr style=\"text-align: right;\">\n",
       "      <th></th>\n",
       "      <th>user_id</th>\n",
       "      <th>variant_id</th>\n",
       "      <th>created_at</th>\n",
       "    </tr>\n",
       "  </thead>\n",
       "  <tbody>\n",
       "    <tr>\n",
       "      <th>3</th>\n",
       "      <td>68e872ff888303bff58ec56a3a986f77ddebdbe5c279e7...</td>\n",
       "      <td>33618848088196</td>\n",
       "      <td>2020-04-30 15:07:03</td>\n",
       "    </tr>\n",
       "    <tr>\n",
       "      <th>11</th>\n",
       "      <td>aed88fc0b004270a62ff1fe4b94141f6b1db1496dbb0c0...</td>\n",
       "      <td>33667178659972</td>\n",
       "      <td>2020-05-05 23:34:35</td>\n",
       "    </tr>\n",
       "    <tr>\n",
       "      <th>18</th>\n",
       "      <td>68e872ff888303bff58ec56a3a986f77ddebdbe5c279e7...</td>\n",
       "      <td>33619009208452</td>\n",
       "      <td>2020-04-30 15:07:03</td>\n",
       "    </tr>\n",
       "    <tr>\n",
       "      <th>46</th>\n",
       "      <td>aed88fc0b004270a62ff1fe4b94141f6b1db1496dbb0c0...</td>\n",
       "      <td>33667305373828</td>\n",
       "      <td>2020-05-05 23:34:35</td>\n",
       "    </tr>\n",
       "    <tr>\n",
       "      <th>47</th>\n",
       "      <td>4594e99557113d5a1c5b59bf31b8704aafe5c7bd180b32...</td>\n",
       "      <td>33667247341700</td>\n",
       "      <td>2020-05-06 14:42:11</td>\n",
       "    </tr>\n",
       "    <tr>\n",
       "      <th>...</th>\n",
       "      <td>...</td>\n",
       "      <td>...</td>\n",
       "      <td>...</td>\n",
       "    </tr>\n",
       "    <tr>\n",
       "      <th>37644</th>\n",
       "      <td>20a41b8fa616484b39812aaa377ea1b53247f6941c0586...</td>\n",
       "      <td>39265878999172</td>\n",
       "      <td>2022-03-13 16:02:13</td>\n",
       "    </tr>\n",
       "    <tr>\n",
       "      <th>37717</th>\n",
       "      <td>ba068a3398230c10a98868ced1fcc5b889b21e6f112fd0...</td>\n",
       "      <td>39459281272964</td>\n",
       "      <td>2022-03-14 07:49:24</td>\n",
       "    </tr>\n",
       "    <tr>\n",
       "      <th>37718</th>\n",
       "      <td>ba068a3398230c10a98868ced1fcc5b889b21e6f112fd0...</td>\n",
       "      <td>33973246951556</td>\n",
       "      <td>2022-03-14 07:49:24</td>\n",
       "    </tr>\n",
       "    <tr>\n",
       "      <th>37719</th>\n",
       "      <td>ba068a3398230c10a98868ced1fcc5b889b21e6f112fd0...</td>\n",
       "      <td>39587297656964</td>\n",
       "      <td>2022-03-14 07:49:24</td>\n",
       "    </tr>\n",
       "    <tr>\n",
       "      <th>37720</th>\n",
       "      <td>ba068a3398230c10a98868ced1fcc5b889b21e6f112fd0...</td>\n",
       "      <td>34415987753092</td>\n",
       "      <td>2022-03-14 07:49:24</td>\n",
       "    </tr>\n",
       "  </tbody>\n",
       "</table>\n",
       "<p>18105 rows × 3 columns</p>\n",
       "</div>"
      ],
      "text/plain": [
       "                                                 user_id      variant_id  \\\n",
       "3      68e872ff888303bff58ec56a3a986f77ddebdbe5c279e7...  33618848088196   \n",
       "11     aed88fc0b004270a62ff1fe4b94141f6b1db1496dbb0c0...  33667178659972   \n",
       "18     68e872ff888303bff58ec56a3a986f77ddebdbe5c279e7...  33619009208452   \n",
       "46     aed88fc0b004270a62ff1fe4b94141f6b1db1496dbb0c0...  33667305373828   \n",
       "47     4594e99557113d5a1c5b59bf31b8704aafe5c7bd180b32...  33667247341700   \n",
       "...                                                  ...             ...   \n",
       "37644  20a41b8fa616484b39812aaa377ea1b53247f6941c0586...  39265878999172   \n",
       "37717  ba068a3398230c10a98868ced1fcc5b889b21e6f112fd0...  39459281272964   \n",
       "37718  ba068a3398230c10a98868ced1fcc5b889b21e6f112fd0...  33973246951556   \n",
       "37719  ba068a3398230c10a98868ced1fcc5b889b21e6f112fd0...  39587297656964   \n",
       "37720  ba068a3398230c10a98868ced1fcc5b889b21e6f112fd0...  34415987753092   \n",
       "\n",
       "               created_at  \n",
       "3     2020-04-30 15:07:03  \n",
       "11    2020-05-05 23:34:35  \n",
       "18    2020-04-30 15:07:03  \n",
       "46    2020-05-05 23:34:35  \n",
       "47    2020-05-06 14:42:11  \n",
       "...                   ...  \n",
       "37644 2022-03-13 16:02:13  \n",
       "37717 2022-03-14 07:49:24  \n",
       "37718 2022-03-14 07:49:24  \n",
       "37719 2022-03-14 07:49:24  \n",
       "37720 2022-03-14 07:49:24  \n",
       "\n",
       "[18105 rows x 3 columns]"
      ]
     },
     "execution_count": 6,
     "metadata": {},
     "output_type": "execute_result"
    }
   ],
   "source": [
    "regulars = pd.read_parquet(data_path + \"regulars.parquet\")\n",
    "regulars"
   ]
  },
  {
   "cell_type": "markdown",
   "metadata": {},
   "source": [
    "This dataset provides us with information about the user's regular items:\n",
    "1. user_id: unique identifier for the user who added a product to his/her regular list.\n",
    "2. variant_id: unique identifier for the product that has been added to the regular list.\n",
    "3. created_at: timestamp that indicates the exact time when the product was added to the user's regular's list."
   ]
  },
  {
   "cell_type": "markdown",
   "metadata": {},
   "source": [
    "I group by user_id and created_at to get a list of regular items for each user. This way, I have the complete list of regular items of each user until each day."
   ]
  },
  {
   "cell_type": "code",
   "execution_count": 7,
   "metadata": {},
   "outputs": [
    {
     "data": {
      "text/html": [
       "<div>\n",
       "<style scoped>\n",
       "    .dataframe tbody tr th:only-of-type {\n",
       "        vertical-align: middle;\n",
       "    }\n",
       "\n",
       "    .dataframe tbody tr th {\n",
       "        vertical-align: top;\n",
       "    }\n",
       "\n",
       "    .dataframe thead th {\n",
       "        text-align: right;\n",
       "    }\n",
       "</style>\n",
       "<table border=\"1\" class=\"dataframe\">\n",
       "  <thead>\n",
       "    <tr style=\"text-align: right;\">\n",
       "      <th></th>\n",
       "      <th>user_id</th>\n",
       "      <th>created_at</th>\n",
       "      <th>regular_items</th>\n",
       "    </tr>\n",
       "  </thead>\n",
       "  <tbody>\n",
       "    <tr>\n",
       "      <th>0</th>\n",
       "      <td>004b3e3cb9a9f5b0974ce4179db394057c72e7a82077bf...</td>\n",
       "      <td>2021-12-21 21:48:05</td>\n",
       "      <td>[33667274997892]</td>\n",
       "    </tr>\n",
       "    <tr>\n",
       "      <th>1</th>\n",
       "      <td>005743eefffa4ce840608c4f47b8c548b134d89be5c390...</td>\n",
       "      <td>2021-06-09 08:40:19</td>\n",
       "      <td>[34081589887108, 34519123951748]</td>\n",
       "    </tr>\n",
       "    <tr>\n",
       "      <th>2</th>\n",
       "      <td>0074992079c1836c6509eec748a973dc97388b4877e770...</td>\n",
       "      <td>2020-05-18 20:35:53</td>\n",
       "      <td>[33667222896772, 33826414526596, 3382641364186...</td>\n",
       "    </tr>\n",
       "    <tr>\n",
       "      <th>3</th>\n",
       "      <td>00ecced73edb11d4bab08e794656dcf9d9b89ea89c5918...</td>\n",
       "      <td>2021-01-23 09:01:42</td>\n",
       "      <td>[33667283648644, 33667214246020, 34221708083332]</td>\n",
       "    </tr>\n",
       "    <tr>\n",
       "      <th>4</th>\n",
       "      <td>014301579c18e7c7f034e544ab3d4ee235ef2de43ee5db...</td>\n",
       "      <td>2021-06-15 09:09:37</td>\n",
       "      <td>[33803538432132, 34221708771460, 3366718265766...</td>\n",
       "    </tr>\n",
       "  </tbody>\n",
       "</table>\n",
       "</div>"
      ],
      "text/plain": [
       "                                             user_id          created_at  \\\n",
       "0  004b3e3cb9a9f5b0974ce4179db394057c72e7a82077bf... 2021-12-21 21:48:05   \n",
       "1  005743eefffa4ce840608c4f47b8c548b134d89be5c390... 2021-06-09 08:40:19   \n",
       "2  0074992079c1836c6509eec748a973dc97388b4877e770... 2020-05-18 20:35:53   \n",
       "3  00ecced73edb11d4bab08e794656dcf9d9b89ea89c5918... 2021-01-23 09:01:42   \n",
       "4  014301579c18e7c7f034e544ab3d4ee235ef2de43ee5db... 2021-06-15 09:09:37   \n",
       "\n",
       "                                       regular_items  \n",
       "0                                   [33667274997892]  \n",
       "1                   [34081589887108, 34519123951748]  \n",
       "2  [33667222896772, 33826414526596, 3382641364186...  \n",
       "3   [33667283648644, 33667214246020, 34221708083332]  \n",
       "4  [33803538432132, 34221708771460, 3366718265766...  "
      ]
     },
     "execution_count": 7,
     "metadata": {},
     "output_type": "execute_result"
    }
   ],
   "source": [
    "grouped_regulars = regulars.groupby(['user_id', 'created_at']).agg({\n",
    "    'variant_id': lambda x: list(x)\n",
    "}).reset_index()\n",
    "\n",
    "# Renaming column for clarity\n",
    "grouped_regulars.rename(columns={'variant_id': 'regular_items'}, inplace=True)\n",
    "\n",
    "grouped_regulars.head()"
   ]
  },
  {
   "cell_type": "markdown",
   "metadata": {},
   "source": [
    "**abandoned_cart.parquet**: If a user has added items to their basket but not bought them, we capture that information. \n",
    "Items that were abandoned are stored as a list in variant_id."
   ]
  },
  {
   "cell_type": "code",
   "execution_count": 8,
   "metadata": {},
   "outputs": [
    {
     "data": {
      "text/html": [
       "<div>\n",
       "<style scoped>\n",
       "    .dataframe tbody tr th:only-of-type {\n",
       "        vertical-align: middle;\n",
       "    }\n",
       "\n",
       "    .dataframe tbody tr th {\n",
       "        vertical-align: top;\n",
       "    }\n",
       "\n",
       "    .dataframe thead th {\n",
       "        text-align: right;\n",
       "    }\n",
       "</style>\n",
       "<table border=\"1\" class=\"dataframe\">\n",
       "  <thead>\n",
       "    <tr style=\"text-align: right;\">\n",
       "      <th></th>\n",
       "      <th>id</th>\n",
       "      <th>user_id</th>\n",
       "      <th>created_at</th>\n",
       "      <th>variant_id</th>\n",
       "    </tr>\n",
       "  </thead>\n",
       "  <tbody>\n",
       "    <tr>\n",
       "      <th>0</th>\n",
       "      <td>12858560217220</td>\n",
       "      <td>5c4e5953f13ddc3bc9659a3453356155e5efe4739d7a2b...</td>\n",
       "      <td>2020-05-20 13:53:24</td>\n",
       "      <td>[33826459287684, 33826457616516, 3366719212762...</td>\n",
       "    </tr>\n",
       "    <tr>\n",
       "      <th>13</th>\n",
       "      <td>20352449839236</td>\n",
       "      <td>9d6187545c005d39e44d0456d87790db18611d7c7379bd...</td>\n",
       "      <td>2021-06-27 05:24:13</td>\n",
       "      <td>[34415988179076, 34037940158596, 3450282236326...</td>\n",
       "    </tr>\n",
       "    <tr>\n",
       "      <th>45</th>\n",
       "      <td>20478401413252</td>\n",
       "      <td>e83fb0273d70c37a2968fee107113698fd4f389c442c0b...</td>\n",
       "      <td>2021-07-18 08:23:49</td>\n",
       "      <td>[34543001337988, 34037939372164, 3411360609088...</td>\n",
       "    </tr>\n",
       "    <tr>\n",
       "      <th>50</th>\n",
       "      <td>20481783103620</td>\n",
       "      <td>10c42e10e530284b7c7c50f3a23a98726d5747b8128084...</td>\n",
       "      <td>2021-07-18 21:29:36</td>\n",
       "      <td>[33667268116612, 34037940224132, 3443605520397...</td>\n",
       "    </tr>\n",
       "    <tr>\n",
       "      <th>52</th>\n",
       "      <td>20485321687172</td>\n",
       "      <td>d9989439524b3f6fc4f41686d043f315fb408b954d6153...</td>\n",
       "      <td>2021-07-19 12:17:05</td>\n",
       "      <td>[33667268083844, 34284950454404, 33973246886020]</td>\n",
       "    </tr>\n",
       "  </tbody>\n",
       "</table>\n",
       "</div>"
      ],
      "text/plain": [
       "                id                                            user_id  \\\n",
       "0   12858560217220  5c4e5953f13ddc3bc9659a3453356155e5efe4739d7a2b...   \n",
       "13  20352449839236  9d6187545c005d39e44d0456d87790db18611d7c7379bd...   \n",
       "45  20478401413252  e83fb0273d70c37a2968fee107113698fd4f389c442c0b...   \n",
       "50  20481783103620  10c42e10e530284b7c7c50f3a23a98726d5747b8128084...   \n",
       "52  20485321687172  d9989439524b3f6fc4f41686d043f315fb408b954d6153...   \n",
       "\n",
       "            created_at                                         variant_id  \n",
       "0  2020-05-20 13:53:24  [33826459287684, 33826457616516, 3366719212762...  \n",
       "13 2021-06-27 05:24:13  [34415988179076, 34037940158596, 3450282236326...  \n",
       "45 2021-07-18 08:23:49  [34543001337988, 34037939372164, 3411360609088...  \n",
       "50 2021-07-18 21:29:36  [33667268116612, 34037940224132, 3443605520397...  \n",
       "52 2021-07-19 12:17:05   [33667268083844, 34284950454404, 33973246886020]  "
      ]
     },
     "execution_count": 8,
     "metadata": {},
     "output_type": "execute_result"
    }
   ],
   "source": [
    "abandoned_carts = pd.read_parquet(data_path + \"abandoned_carts.parquet\")\n",
    "abandoned_carts.head()"
   ]
  },
  {
   "cell_type": "markdown",
   "metadata": {},
   "source": [
    "As previously mentioned, this dataset provides information about items that were once in the basquet, but where finally abandoned. The columns are the following:\n",
    "1. id: unique identifier for each order.\n",
    "2. user_id: unique identifier for the user placing the order.\n",
    "3. created_at: timestamp that indicates the exact time when the order was placed.\n",
    "4. variant_id: list of products that were abandoned."
   ]
  },
  {
   "cell_type": "markdown",
   "metadata": {},
   "source": [
    "**inventory.parquet**: Some information about each item_id\n"
   ]
  },
  {
   "cell_type": "code",
   "execution_count": 9,
   "metadata": {},
   "outputs": [
    {
     "data": {
      "text/html": [
       "<div>\n",
       "<style scoped>\n",
       "    .dataframe tbody tr th:only-of-type {\n",
       "        vertical-align: middle;\n",
       "    }\n",
       "\n",
       "    .dataframe tbody tr th {\n",
       "        vertical-align: top;\n",
       "    }\n",
       "\n",
       "    .dataframe thead th {\n",
       "        text-align: right;\n",
       "    }\n",
       "</style>\n",
       "<table border=\"1\" class=\"dataframe\">\n",
       "  <thead>\n",
       "    <tr style=\"text-align: right;\">\n",
       "      <th></th>\n",
       "      <th>variant_id</th>\n",
       "      <th>price</th>\n",
       "      <th>compare_at_price</th>\n",
       "      <th>vendor</th>\n",
       "      <th>product_type</th>\n",
       "      <th>tags</th>\n",
       "    </tr>\n",
       "  </thead>\n",
       "  <tbody>\n",
       "    <tr>\n",
       "      <th>0</th>\n",
       "      <td>39587297165444</td>\n",
       "      <td>3.09</td>\n",
       "      <td>3.15</td>\n",
       "      <td>heinz</td>\n",
       "      <td>condiments-dressings</td>\n",
       "      <td>[table-sauces, vegan]</td>\n",
       "    </tr>\n",
       "    <tr>\n",
       "      <th>1</th>\n",
       "      <td>34370361229444</td>\n",
       "      <td>4.99</td>\n",
       "      <td>5.50</td>\n",
       "      <td>whogivesacrap</td>\n",
       "      <td>toilet-roll-kitchen-roll-tissue</td>\n",
       "      <td>[b-corp, eco, toilet-rolls]</td>\n",
       "    </tr>\n",
       "    <tr>\n",
       "      <th>2</th>\n",
       "      <td>34284951863428</td>\n",
       "      <td>3.69</td>\n",
       "      <td>3.99</td>\n",
       "      <td>plenty</td>\n",
       "      <td>toilet-roll-kitchen-roll-tissue</td>\n",
       "      <td>[kitchen-roll]</td>\n",
       "    </tr>\n",
       "    <tr>\n",
       "      <th>3</th>\n",
       "      <td>33667283583108</td>\n",
       "      <td>1.79</td>\n",
       "      <td>1.99</td>\n",
       "      <td>thecheekypanda</td>\n",
       "      <td>toilet-roll-kitchen-roll-tissue</td>\n",
       "      <td>[b-corp, cruelty-free, eco, tissue, vegan]</td>\n",
       "    </tr>\n",
       "    <tr>\n",
       "      <th>4</th>\n",
       "      <td>33803537973380</td>\n",
       "      <td>1.99</td>\n",
       "      <td>2.09</td>\n",
       "      <td>colgate</td>\n",
       "      <td>dental</td>\n",
       "      <td>[dental-accessories]</td>\n",
       "    </tr>\n",
       "  </tbody>\n",
       "</table>\n",
       "</div>"
      ],
      "text/plain": [
       "       variant_id  price  compare_at_price          vendor  \\\n",
       "0  39587297165444   3.09              3.15           heinz   \n",
       "1  34370361229444   4.99              5.50   whogivesacrap   \n",
       "2  34284951863428   3.69              3.99          plenty   \n",
       "3  33667283583108   1.79              1.99  thecheekypanda   \n",
       "4  33803537973380   1.99              2.09         colgate   \n",
       "\n",
       "                      product_type                                        tags  \n",
       "0             condiments-dressings                       [table-sauces, vegan]  \n",
       "1  toilet-roll-kitchen-roll-tissue                 [b-corp, eco, toilet-rolls]  \n",
       "2  toilet-roll-kitchen-roll-tissue                              [kitchen-roll]  \n",
       "3  toilet-roll-kitchen-roll-tissue  [b-corp, cruelty-free, eco, tissue, vegan]  \n",
       "4                           dental                        [dental-accessories]  "
      ]
     },
     "execution_count": 9,
     "metadata": {},
     "output_type": "execute_result"
    }
   ],
   "source": [
    "inventory = pd.read_parquet(data_path + \"inventory.parquet\")\n",
    "inventory.head()"
   ]
  },
  {
   "cell_type": "markdown",
   "metadata": {},
   "source": [
    "The dataset comprises several columns, each providing essential information about supermarket products:\n",
    "\n",
    "1. Variant_ID:  unique identifier for each product.\n",
    "2. Price: retail price at which the supermarket is selling the product.\n",
    "3. Compare_At_Price: this likely refers to the competitor’s price for the same product. It's used for competitive analysis.\n",
    "4. Vendor: names of the manufacturer or supplier of the product. \n",
    "5. Product_Type: classifies the product into various categories, such as \"dental\", \"condiments-dressing\", etc.\n",
    "6. Tags: list of descriptors tagging the product with specific attributes like \"table-sauces\", \"vegan\", \"tissue\", etc."
   ]
  },
  {
   "cell_type": "markdown",
   "metadata": {},
   "source": [
    "**users.parquet**: Information about users."
   ]
  },
  {
   "cell_type": "code",
   "execution_count": 10,
   "metadata": {},
   "outputs": [
    {
     "data": {
      "text/html": [
       "<div>\n",
       "<style scoped>\n",
       "    .dataframe tbody tr th:only-of-type {\n",
       "        vertical-align: middle;\n",
       "    }\n",
       "\n",
       "    .dataframe tbody tr th {\n",
       "        vertical-align: top;\n",
       "    }\n",
       "\n",
       "    .dataframe thead th {\n",
       "        text-align: right;\n",
       "    }\n",
       "</style>\n",
       "<table border=\"1\" class=\"dataframe\">\n",
       "  <thead>\n",
       "    <tr style=\"text-align: right;\">\n",
       "      <th></th>\n",
       "      <th>user_id</th>\n",
       "      <th>user_segment</th>\n",
       "      <th>user_nuts1</th>\n",
       "      <th>first_ordered_at</th>\n",
       "      <th>customer_cohort_month</th>\n",
       "      <th>count_people</th>\n",
       "      <th>count_adults</th>\n",
       "      <th>count_children</th>\n",
       "      <th>count_babies</th>\n",
       "      <th>count_pets</th>\n",
       "    </tr>\n",
       "  </thead>\n",
       "  <tbody>\n",
       "    <tr>\n",
       "      <th>2160</th>\n",
       "      <td>0e823a42e107461379e5b5613b7aa00537a72e1b0eaa7a...</td>\n",
       "      <td>Top Up</td>\n",
       "      <td>UKH</td>\n",
       "      <td>2021-05-08 13:33:49</td>\n",
       "      <td>2021-05-01 00:00:00</td>\n",
       "      <td>NaN</td>\n",
       "      <td>NaN</td>\n",
       "      <td>NaN</td>\n",
       "      <td>NaN</td>\n",
       "      <td>NaN</td>\n",
       "    </tr>\n",
       "    <tr>\n",
       "      <th>1123</th>\n",
       "      <td>15768ced9bed648f745a7aa566a8895f7a73b9a47c1d4f...</td>\n",
       "      <td>Top Up</td>\n",
       "      <td>UKJ</td>\n",
       "      <td>2021-11-17 16:30:20</td>\n",
       "      <td>2021-11-01 00:00:00</td>\n",
       "      <td>NaN</td>\n",
       "      <td>NaN</td>\n",
       "      <td>NaN</td>\n",
       "      <td>NaN</td>\n",
       "      <td>NaN</td>\n",
       "    </tr>\n",
       "    <tr>\n",
       "      <th>1958</th>\n",
       "      <td>33e0cb6eacea0775e34adbaa2c1dec16b9d6484e6b9324...</td>\n",
       "      <td>Top Up</td>\n",
       "      <td>UKD</td>\n",
       "      <td>2022-03-09 23:12:25</td>\n",
       "      <td>2022-03-01 00:00:00</td>\n",
       "      <td>NaN</td>\n",
       "      <td>NaN</td>\n",
       "      <td>NaN</td>\n",
       "      <td>NaN</td>\n",
       "      <td>NaN</td>\n",
       "    </tr>\n",
       "    <tr>\n",
       "      <th>675</th>\n",
       "      <td>57ca7591dc79825df0cecc4836a58e6062454555c86c35...</td>\n",
       "      <td>Top Up</td>\n",
       "      <td>UKI</td>\n",
       "      <td>2021-04-23 16:29:02</td>\n",
       "      <td>2021-04-01 00:00:00</td>\n",
       "      <td>NaN</td>\n",
       "      <td>NaN</td>\n",
       "      <td>NaN</td>\n",
       "      <td>NaN</td>\n",
       "      <td>NaN</td>\n",
       "    </tr>\n",
       "    <tr>\n",
       "      <th>4694</th>\n",
       "      <td>085d8e598139ce6fc9f75d9de97960fa9e1457b409ec00...</td>\n",
       "      <td>Top Up</td>\n",
       "      <td>UKJ</td>\n",
       "      <td>2021-11-02 13:50:06</td>\n",
       "      <td>2021-11-01 00:00:00</td>\n",
       "      <td>NaN</td>\n",
       "      <td>NaN</td>\n",
       "      <td>NaN</td>\n",
       "      <td>NaN</td>\n",
       "      <td>NaN</td>\n",
       "    </tr>\n",
       "  </tbody>\n",
       "</table>\n",
       "</div>"
      ],
      "text/plain": [
       "                                                user_id user_segment  \\\n",
       "2160  0e823a42e107461379e5b5613b7aa00537a72e1b0eaa7a...       Top Up   \n",
       "1123  15768ced9bed648f745a7aa566a8895f7a73b9a47c1d4f...       Top Up   \n",
       "1958  33e0cb6eacea0775e34adbaa2c1dec16b9d6484e6b9324...       Top Up   \n",
       "675   57ca7591dc79825df0cecc4836a58e6062454555c86c35...       Top Up   \n",
       "4694  085d8e598139ce6fc9f75d9de97960fa9e1457b409ec00...       Top Up   \n",
       "\n",
       "     user_nuts1     first_ordered_at customer_cohort_month  count_people  \\\n",
       "2160        UKH  2021-05-08 13:33:49   2021-05-01 00:00:00           NaN   \n",
       "1123        UKJ  2021-11-17 16:30:20   2021-11-01 00:00:00           NaN   \n",
       "1958        UKD  2022-03-09 23:12:25   2022-03-01 00:00:00           NaN   \n",
       "675         UKI  2021-04-23 16:29:02   2021-04-01 00:00:00           NaN   \n",
       "4694        UKJ  2021-11-02 13:50:06   2021-11-01 00:00:00           NaN   \n",
       "\n",
       "      count_adults  count_children  count_babies  count_pets  \n",
       "2160           NaN             NaN           NaN         NaN  \n",
       "1123           NaN             NaN           NaN         NaN  \n",
       "1958           NaN             NaN           NaN         NaN  \n",
       "675            NaN             NaN           NaN         NaN  \n",
       "4694           NaN             NaN           NaN         NaN  "
      ]
     },
     "execution_count": 10,
     "metadata": {},
     "output_type": "execute_result"
    }
   ],
   "source": [
    "users = pd.read_parquet(os.path.join(data_path, \"users.parquet\"))\n",
    "users.head()"
   ]
  },
  {
   "cell_type": "code",
   "execution_count": 11,
   "metadata": {},
   "outputs": [
    {
     "data": {
      "text/plain": [
       "array(['Top Up', 'Proposition'], dtype=object)"
      ]
     },
     "execution_count": 11,
     "metadata": {},
     "output_type": "execute_result"
    }
   ],
   "source": [
    "users['user_segment'].unique()"
   ]
  },
  {
   "cell_type": "markdown",
   "metadata": {},
   "source": [
    "This dataset provides detailed information about each user, structured as follows:\n",
    "1. User_ID: unique identifier for each user.\n",
    "2. User_Segment: users are classified into two categories: 'top up' and 'proposition'. The 'top up' category might represent users who frequently fill up or top up their accounts, suggesting higher loyalty or more regular engagement with services or products. However, to fully understand the criteria used for this classification, it would be a good idea to consult the person or documentation that defined these categories. Additionally, it would be interesting to divide the study into these two different categories.\n",
    "3. User_NUTS1: NUTS1 code, which refers to the first and top level in the Nomenclature of Territorial Units for Statistics (NUTS) developed by the European Union. NUTS1 regions typically encompass major socio-economic regions within countries, indicating the broader geographical area where the user is located.\n",
    "4. First_Ordered_At: timestamp that indicates when the user placed their first order. Analyzing this data can help identify whether the user is a new or returning client and gauge the longevity of their engagement.\n",
    "5. Customer_Cohort_Month: This field likely represents the month in which the user was first acquired or made their first purchase.\n",
    "6. Count_people, count_adults, count_children, count_babies, count_pets: this set of columns provides insight into the household composition of each user."
   ]
  },
  {
   "cell_type": "markdown",
   "metadata": {},
   "source": [
    "## Manipulating and joining the datasets"
   ]
  },
  {
   "cell_type": "markdown",
   "metadata": {},
   "source": [
    "In order to know how we wish to manipulate the data, we first have to understant which questions we want to answer. These are:\n",
    "* How many products does the company sell\n",
    "* How many products are abandoned\n",
    "* How many regular products are sold \n",
    "* What are the best selling products\n",
    "* Which are the top clients\n",
    "* What is the profile of the clients\n",
    "* Do users define their regular products?\n",
    "\n",
    "These questions will be answered in section 2."
   ]
  },
  {
   "cell_type": "markdown",
   "metadata": {},
   "source": [
    "Join orders with regular. I consider an order to defined by <user_id, created_at>."
   ]
  },
  {
   "cell_type": "code",
   "execution_count": 12,
   "metadata": {},
   "outputs": [
    {
     "data": {
      "text/html": [
       "<div>\n",
       "<style scoped>\n",
       "    .dataframe tbody tr th:only-of-type {\n",
       "        vertical-align: middle;\n",
       "    }\n",
       "\n",
       "    .dataframe tbody tr th {\n",
       "        vertical-align: top;\n",
       "    }\n",
       "\n",
       "    .dataframe thead th {\n",
       "        text-align: right;\n",
       "    }\n",
       "</style>\n",
       "<table border=\"1\" class=\"dataframe\">\n",
       "  <thead>\n",
       "    <tr style=\"text-align: right;\">\n",
       "      <th></th>\n",
       "      <th>id</th>\n",
       "      <th>user_id</th>\n",
       "      <th>created_at_ORDER</th>\n",
       "      <th>order_date</th>\n",
       "      <th>user_order_seq</th>\n",
       "      <th>ordered_items</th>\n",
       "      <th>created_at_REGULAR</th>\n",
       "      <th>regular_items</th>\n",
       "    </tr>\n",
       "  </thead>\n",
       "  <tbody>\n",
       "    <tr>\n",
       "      <th>0</th>\n",
       "      <td>2204073066628</td>\n",
       "      <td>62e271062eb827e411bd73941178d29b022f5f2de9d37f...</td>\n",
       "      <td>2020-04-30 14:32:19</td>\n",
       "      <td>2020-04-30</td>\n",
       "      <td>1</td>\n",
       "      <td>[33618849693828, 33618860179588, 3361887404045...</td>\n",
       "      <td>2020-04-30 13:09:27</td>\n",
       "      <td>[33618909495428, 33618981421188, 3361886017958...</td>\n",
       "    </tr>\n",
       "    <tr>\n",
       "      <th>1</th>\n",
       "      <td>2204707520644</td>\n",
       "      <td>bf591c887c46d5d3513142b6a855dd7ffb9cc00697f6f5...</td>\n",
       "      <td>2020-04-30 17:39:00</td>\n",
       "      <td>2020-04-30</td>\n",
       "      <td>1</td>\n",
       "      <td>[33618835243140, 33618835964036, 3361886244058...</td>\n",
       "      <td>2020-05-23 14:14:13</td>\n",
       "      <td>[33618835964036, 33618996723844, 3361899672384...</td>\n",
       "    </tr>\n",
       "    <tr>\n",
       "      <th>2</th>\n",
       "      <td>2204838822020</td>\n",
       "      <td>329f08c66abb51f8c0b8a9526670da2d94c0c6eef06700...</td>\n",
       "      <td>2020-04-30 18:12:30</td>\n",
       "      <td>2020-04-30</td>\n",
       "      <td>1</td>\n",
       "      <td>[33618891145348, 33618893570180, 3361889766618...</td>\n",
       "      <td>2020-04-30 17:06:48</td>\n",
       "      <td>[33618998853764, 33618846580868, 3361899659277...</td>\n",
       "    </tr>\n",
       "    <tr>\n",
       "      <th>3</th>\n",
       "      <td>2208967852164</td>\n",
       "      <td>f6451fce7b1c58d0effbe37fcb4e67b718193562766470...</td>\n",
       "      <td>2020-05-01 19:44:11</td>\n",
       "      <td>2020-05-01</td>\n",
       "      <td>1</td>\n",
       "      <td>[33618830196868, 33618846580868, 3361891234624...</td>\n",
       "      <td>2020-07-30 11:23:00</td>\n",
       "      <td>[33667222798468, 33667229155460, 3382642386547...</td>\n",
       "    </tr>\n",
       "    <tr>\n",
       "      <th>4</th>\n",
       "      <td>2215889436804</td>\n",
       "      <td>68e872ff888303bff58ec56a3a986f77ddebdbe5c279e7...</td>\n",
       "      <td>2020-05-03 21:56:14</td>\n",
       "      <td>2020-05-03</td>\n",
       "      <td>1</td>\n",
       "      <td>[33667166699652, 33667166699652, 3366717122163...</td>\n",
       "      <td>2020-04-30 15:07:03</td>\n",
       "      <td>[33618848088196, 33619009208452, 3361899141542...</td>\n",
       "    </tr>\n",
       "  </tbody>\n",
       "</table>\n",
       "</div>"
      ],
      "text/plain": [
       "              id                                            user_id  \\\n",
       "0  2204073066628  62e271062eb827e411bd73941178d29b022f5f2de9d37f...   \n",
       "1  2204707520644  bf591c887c46d5d3513142b6a855dd7ffb9cc00697f6f5...   \n",
       "2  2204838822020  329f08c66abb51f8c0b8a9526670da2d94c0c6eef06700...   \n",
       "3  2208967852164  f6451fce7b1c58d0effbe37fcb4e67b718193562766470...   \n",
       "4  2215889436804  68e872ff888303bff58ec56a3a986f77ddebdbe5c279e7...   \n",
       "\n",
       "     created_at_ORDER order_date  user_order_seq  \\\n",
       "0 2020-04-30 14:32:19 2020-04-30               1   \n",
       "1 2020-04-30 17:39:00 2020-04-30               1   \n",
       "2 2020-04-30 18:12:30 2020-04-30               1   \n",
       "3 2020-05-01 19:44:11 2020-05-01               1   \n",
       "4 2020-05-03 21:56:14 2020-05-03               1   \n",
       "\n",
       "                                       ordered_items  created_at_REGULAR  \\\n",
       "0  [33618849693828, 33618860179588, 3361887404045... 2020-04-30 13:09:27   \n",
       "1  [33618835243140, 33618835964036, 3361886244058... 2020-05-23 14:14:13   \n",
       "2  [33618891145348, 33618893570180, 3361889766618... 2020-04-30 17:06:48   \n",
       "3  [33618830196868, 33618846580868, 3361891234624... 2020-07-30 11:23:00   \n",
       "4  [33667166699652, 33667166699652, 3366717122163... 2020-04-30 15:07:03   \n",
       "\n",
       "                                       regular_items  \n",
       "0  [33618909495428, 33618981421188, 3361886017958...  \n",
       "1  [33618835964036, 33618996723844, 3361899672384...  \n",
       "2  [33618998853764, 33618846580868, 3361899659277...  \n",
       "3  [33667222798468, 33667229155460, 3382642386547...  \n",
       "4  [33618848088196, 33619009208452, 3361899141542...  "
      ]
     },
     "execution_count": 12,
     "metadata": {},
     "output_type": "execute_result"
    }
   ],
   "source": [
    "order_regular = pd.merge(orders, grouped_regulars, on='user_id', how='left', suffixes=('_ORDER', '_REGULAR'))\n",
    "order_regular.head()"
   ]
  },
  {
   "cell_type": "code",
   "execution_count": 13,
   "metadata": {},
   "outputs": [
    {
     "data": {
      "text/plain": [
       "10722"
      ]
     },
     "execution_count": 13,
     "metadata": {},
     "output_type": "execute_result"
    }
   ],
   "source": [
    "len(order_regular)"
   ]
  },
  {
   "cell_type": "markdown",
   "metadata": {},
   "source": [
    "If the order is earlier than the date the customer defined its regular products, remove the aligned row. \n",
    "But we should keep rows where created_at_REGULAR is null, since there can be an order where the customer has not defined his regular products yet.\n"
   ]
  },
  {
   "cell_type": "code",
   "execution_count": 14,
   "metadata": {},
   "outputs": [
    {
     "data": {
      "text/html": [
       "<div>\n",
       "<style scoped>\n",
       "    .dataframe tbody tr th:only-of-type {\n",
       "        vertical-align: middle;\n",
       "    }\n",
       "\n",
       "    .dataframe tbody tr th {\n",
       "        vertical-align: top;\n",
       "    }\n",
       "\n",
       "    .dataframe thead th {\n",
       "        text-align: right;\n",
       "    }\n",
       "</style>\n",
       "<table border=\"1\" class=\"dataframe\">\n",
       "  <thead>\n",
       "    <tr style=\"text-align: right;\">\n",
       "      <th></th>\n",
       "      <th>id</th>\n",
       "      <th>user_id</th>\n",
       "      <th>created_at_ORDER</th>\n",
       "      <th>order_date</th>\n",
       "      <th>user_order_seq</th>\n",
       "      <th>ordered_items</th>\n",
       "      <th>created_at_REGULAR</th>\n",
       "      <th>regular_items</th>\n",
       "    </tr>\n",
       "  </thead>\n",
       "  <tbody>\n",
       "    <tr>\n",
       "      <th>0</th>\n",
       "      <td>2204073066628</td>\n",
       "      <td>62e271062eb827e411bd73941178d29b022f5f2de9d37f...</td>\n",
       "      <td>2020-04-30 14:32:19</td>\n",
       "      <td>2020-04-30</td>\n",
       "      <td>1</td>\n",
       "      <td>[33618849693828, 33618860179588, 3361887404045...</td>\n",
       "      <td>2020-04-30 13:09:27</td>\n",
       "      <td>[33618909495428, 33618981421188, 3361886017958...</td>\n",
       "    </tr>\n",
       "    <tr>\n",
       "      <th>2</th>\n",
       "      <td>2204838822020</td>\n",
       "      <td>329f08c66abb51f8c0b8a9526670da2d94c0c6eef06700...</td>\n",
       "      <td>2020-04-30 18:12:30</td>\n",
       "      <td>2020-04-30</td>\n",
       "      <td>1</td>\n",
       "      <td>[33618891145348, 33618893570180, 3361889766618...</td>\n",
       "      <td>2020-04-30 17:06:48</td>\n",
       "      <td>[33618998853764, 33618846580868, 3361899659277...</td>\n",
       "    </tr>\n",
       "    <tr>\n",
       "      <th>4</th>\n",
       "      <td>2215889436804</td>\n",
       "      <td>68e872ff888303bff58ec56a3a986f77ddebdbe5c279e7...</td>\n",
       "      <td>2020-05-03 21:56:14</td>\n",
       "      <td>2020-05-03</td>\n",
       "      <td>1</td>\n",
       "      <td>[33667166699652, 33667166699652, 3366717122163...</td>\n",
       "      <td>2020-04-30 15:07:03</td>\n",
       "      <td>[33618848088196, 33619009208452, 3361899141542...</td>\n",
       "    </tr>\n",
       "    <tr>\n",
       "      <th>5</th>\n",
       "      <td>2217346236548</td>\n",
       "      <td>66a7b6a77952abc3ef3246da56fb148814704a3c2b420c...</td>\n",
       "      <td>2020-05-04 11:25:26</td>\n",
       "      <td>2020-05-04</td>\n",
       "      <td>1</td>\n",
       "      <td>[33667168796804, 33667178594436, 3366720605402...</td>\n",
       "      <td>NaT</td>\n",
       "      <td>NaN</td>\n",
       "    </tr>\n",
       "    <tr>\n",
       "      <th>6</th>\n",
       "      <td>2219446730884</td>\n",
       "      <td>7ce6569d75a8bc75b72516e059edecb0bc2245750bfa68...</td>\n",
       "      <td>2020-05-04 23:57:21</td>\n",
       "      <td>2020-05-04</td>\n",
       "      <td>1</td>\n",
       "      <td>[33667178594436, 33667184492676, 3366721657254...</td>\n",
       "      <td>2020-05-04 22:22:56</td>\n",
       "      <td>[33667295084676, 33667258089604, 3366730858509...</td>\n",
       "    </tr>\n",
       "  </tbody>\n",
       "</table>\n",
       "</div>"
      ],
      "text/plain": [
       "              id                                            user_id  \\\n",
       "0  2204073066628  62e271062eb827e411bd73941178d29b022f5f2de9d37f...   \n",
       "2  2204838822020  329f08c66abb51f8c0b8a9526670da2d94c0c6eef06700...   \n",
       "4  2215889436804  68e872ff888303bff58ec56a3a986f77ddebdbe5c279e7...   \n",
       "5  2217346236548  66a7b6a77952abc3ef3246da56fb148814704a3c2b420c...   \n",
       "6  2219446730884  7ce6569d75a8bc75b72516e059edecb0bc2245750bfa68...   \n",
       "\n",
       "     created_at_ORDER order_date  user_order_seq  \\\n",
       "0 2020-04-30 14:32:19 2020-04-30               1   \n",
       "2 2020-04-30 18:12:30 2020-04-30               1   \n",
       "4 2020-05-03 21:56:14 2020-05-03               1   \n",
       "5 2020-05-04 11:25:26 2020-05-04               1   \n",
       "6 2020-05-04 23:57:21 2020-05-04               1   \n",
       "\n",
       "                                       ordered_items  created_at_REGULAR  \\\n",
       "0  [33618849693828, 33618860179588, 3361887404045... 2020-04-30 13:09:27   \n",
       "2  [33618891145348, 33618893570180, 3361889766618... 2020-04-30 17:06:48   \n",
       "4  [33667166699652, 33667166699652, 3366717122163... 2020-04-30 15:07:03   \n",
       "5  [33667168796804, 33667178594436, 3366720605402...                 NaT   \n",
       "6  [33667178594436, 33667184492676, 3366721657254... 2020-05-04 22:22:56   \n",
       "\n",
       "                                       regular_items  \n",
       "0  [33618909495428, 33618981421188, 3361886017958...  \n",
       "2  [33618998853764, 33618846580868, 3361899659277...  \n",
       "4  [33618848088196, 33619009208452, 3361899141542...  \n",
       "5                                                NaN  \n",
       "6  [33667295084676, 33667258089604, 3366730858509...  "
      ]
     },
     "execution_count": 14,
     "metadata": {},
     "output_type": "execute_result"
    }
   ],
   "source": [
    "# But we should keep rows where created_at_ABANDONED is null, since there can be an order with no abandoned items!\n",
    "order_regular = order_regular[(order_regular['created_at_REGULAR'] < order_regular['created_at_ORDER']) | \n",
    "                               (order_regular['created_at_REGULAR'].isna())]\n",
    "order_regular.head()"
   ]
  },
  {
   "cell_type": "code",
   "execution_count": 15,
   "metadata": {},
   "outputs": [
    {
     "data": {
      "text/plain": [
       "7678"
      ]
     },
     "execution_count": 15,
     "metadata": {},
     "output_type": "execute_result"
    }
   ],
   "source": [
    "len(order_regular)"
   ]
  },
  {
   "cell_type": "markdown",
   "metadata": {},
   "source": [
    "Now I want to know what are the products that have been abandoned by the client on the day he/she has done the order. To do so, I join the transformed data with abandoned_cart, following the same idea as before."
   ]
  },
  {
   "cell_type": "code",
   "execution_count": 16,
   "metadata": {},
   "outputs": [
    {
     "data": {
      "text/html": [
       "<div>\n",
       "<style scoped>\n",
       "    .dataframe tbody tr th:only-of-type {\n",
       "        vertical-align: middle;\n",
       "    }\n",
       "\n",
       "    .dataframe tbody tr th {\n",
       "        vertical-align: top;\n",
       "    }\n",
       "\n",
       "    .dataframe thead th {\n",
       "        text-align: right;\n",
       "    }\n",
       "</style>\n",
       "<table border=\"1\" class=\"dataframe\">\n",
       "  <thead>\n",
       "    <tr style=\"text-align: right;\">\n",
       "      <th></th>\n",
       "      <th>id_ORDER</th>\n",
       "      <th>user_id</th>\n",
       "      <th>created_at_ORDER</th>\n",
       "      <th>order_date</th>\n",
       "      <th>user_order_seq</th>\n",
       "      <th>ordered_items</th>\n",
       "      <th>created_at_REGULAR</th>\n",
       "      <th>regular_items</th>\n",
       "      <th>id_ABANDONED</th>\n",
       "      <th>created_at_ABANDONED</th>\n",
       "      <th>abandoned_items</th>\n",
       "    </tr>\n",
       "  </thead>\n",
       "  <tbody>\n",
       "    <tr>\n",
       "      <th>0</th>\n",
       "      <td>2204073066628</td>\n",
       "      <td>62e271062eb827e411bd73941178d29b022f5f2de9d37f...</td>\n",
       "      <td>2020-04-30 14:32:19</td>\n",
       "      <td>2020-04-30</td>\n",
       "      <td>1</td>\n",
       "      <td>[33618849693828, 33618860179588, 3361887404045...</td>\n",
       "      <td>2020-04-30 13:09:27</td>\n",
       "      <td>[33618909495428, 33618981421188, 3361886017958...</td>\n",
       "      <td>2.087386e+13</td>\n",
       "      <td>2021-09-07 08:02:51</td>\n",
       "      <td>[34081589887108, 34317850116228, 3413738926912...</td>\n",
       "    </tr>\n",
       "    <tr>\n",
       "      <th>1</th>\n",
       "      <td>2204073066628</td>\n",
       "      <td>62e271062eb827e411bd73941178d29b022f5f2de9d37f...</td>\n",
       "      <td>2020-04-30 14:32:19</td>\n",
       "      <td>2020-04-30</td>\n",
       "      <td>1</td>\n",
       "      <td>[33618849693828, 33618860179588, 3361887404045...</td>\n",
       "      <td>2020-04-30 13:09:27</td>\n",
       "      <td>[33618909495428, 33618981421188, 3361886017958...</td>\n",
       "      <td>2.172375e+13</td>\n",
       "      <td>2022-01-03 16:41:02</td>\n",
       "      <td>[33826465153156, 39336623767684, 3448854845862...</td>\n",
       "    </tr>\n",
       "    <tr>\n",
       "      <th>2</th>\n",
       "      <td>2204838822020</td>\n",
       "      <td>329f08c66abb51f8c0b8a9526670da2d94c0c6eef06700...</td>\n",
       "      <td>2020-04-30 18:12:30</td>\n",
       "      <td>2020-04-30</td>\n",
       "      <td>1</td>\n",
       "      <td>[33618891145348, 33618893570180, 3361889766618...</td>\n",
       "      <td>2020-04-30 17:06:48</td>\n",
       "      <td>[33618998853764, 33618846580868, 3361899659277...</td>\n",
       "      <td>NaN</td>\n",
       "      <td>NaT</td>\n",
       "      <td>NaN</td>\n",
       "    </tr>\n",
       "    <tr>\n",
       "      <th>3</th>\n",
       "      <td>2215889436804</td>\n",
       "      <td>68e872ff888303bff58ec56a3a986f77ddebdbe5c279e7...</td>\n",
       "      <td>2020-05-03 21:56:14</td>\n",
       "      <td>2020-05-03</td>\n",
       "      <td>1</td>\n",
       "      <td>[33667166699652, 33667166699652, 3366717122163...</td>\n",
       "      <td>2020-04-30 15:07:03</td>\n",
       "      <td>[33618848088196, 33619009208452, 3361899141542...</td>\n",
       "      <td>NaN</td>\n",
       "      <td>NaT</td>\n",
       "      <td>NaN</td>\n",
       "    </tr>\n",
       "    <tr>\n",
       "      <th>4</th>\n",
       "      <td>2217346236548</td>\n",
       "      <td>66a7b6a77952abc3ef3246da56fb148814704a3c2b420c...</td>\n",
       "      <td>2020-05-04 11:25:26</td>\n",
       "      <td>2020-05-04</td>\n",
       "      <td>1</td>\n",
       "      <td>[33667168796804, 33667178594436, 3366720605402...</td>\n",
       "      <td>NaT</td>\n",
       "      <td>NaN</td>\n",
       "      <td>2.185231e+13</td>\n",
       "      <td>2022-01-20 18:38:57</td>\n",
       "      <td>[34415987753092]</td>\n",
       "    </tr>\n",
       "  </tbody>\n",
       "</table>\n",
       "</div>"
      ],
      "text/plain": [
       "        id_ORDER                                            user_id  \\\n",
       "0  2204073066628  62e271062eb827e411bd73941178d29b022f5f2de9d37f...   \n",
       "1  2204073066628  62e271062eb827e411bd73941178d29b022f5f2de9d37f...   \n",
       "2  2204838822020  329f08c66abb51f8c0b8a9526670da2d94c0c6eef06700...   \n",
       "3  2215889436804  68e872ff888303bff58ec56a3a986f77ddebdbe5c279e7...   \n",
       "4  2217346236548  66a7b6a77952abc3ef3246da56fb148814704a3c2b420c...   \n",
       "\n",
       "     created_at_ORDER order_date  user_order_seq  \\\n",
       "0 2020-04-30 14:32:19 2020-04-30               1   \n",
       "1 2020-04-30 14:32:19 2020-04-30               1   \n",
       "2 2020-04-30 18:12:30 2020-04-30               1   \n",
       "3 2020-05-03 21:56:14 2020-05-03               1   \n",
       "4 2020-05-04 11:25:26 2020-05-04               1   \n",
       "\n",
       "                                       ordered_items  created_at_REGULAR  \\\n",
       "0  [33618849693828, 33618860179588, 3361887404045... 2020-04-30 13:09:27   \n",
       "1  [33618849693828, 33618860179588, 3361887404045... 2020-04-30 13:09:27   \n",
       "2  [33618891145348, 33618893570180, 3361889766618... 2020-04-30 17:06:48   \n",
       "3  [33667166699652, 33667166699652, 3366717122163... 2020-04-30 15:07:03   \n",
       "4  [33667168796804, 33667178594436, 3366720605402...                 NaT   \n",
       "\n",
       "                                       regular_items  id_ABANDONED  \\\n",
       "0  [33618909495428, 33618981421188, 3361886017958...  2.087386e+13   \n",
       "1  [33618909495428, 33618981421188, 3361886017958...  2.172375e+13   \n",
       "2  [33618998853764, 33618846580868, 3361899659277...           NaN   \n",
       "3  [33618848088196, 33619009208452, 3361899141542...           NaN   \n",
       "4                                                NaN  2.185231e+13   \n",
       "\n",
       "  created_at_ABANDONED                                    abandoned_items  \n",
       "0  2021-09-07 08:02:51  [34081589887108, 34317850116228, 3413738926912...  \n",
       "1  2022-01-03 16:41:02  [33826465153156, 39336623767684, 3448854845862...  \n",
       "2                  NaT                                                NaN  \n",
       "3                  NaT                                                NaN  \n",
       "4  2022-01-20 18:38:57                                   [34415987753092]  "
      ]
     },
     "execution_count": 16,
     "metadata": {},
     "output_type": "execute_result"
    }
   ],
   "source": [
    "data_abandoned = pd.merge(order_regular, abandoned_carts, on='user_id', how='left', suffixes=('_ORDER', '_ABANDONED'))\n",
    "\n",
    "# Change variant_id for abandoned_items for clarity\n",
    "data_abandoned = data_abandoned.rename(columns={'variant_id': 'abandoned_items'})\n",
    "data_abandoned = data_abandoned.rename(columns={'created_at': 'created_at_ABANDONED'})\n",
    "\n",
    "\n",
    "data_abandoned.head()"
   ]
  },
  {
   "cell_type": "code",
   "execution_count": 17,
   "metadata": {},
   "outputs": [
    {
     "data": {
      "text/plain": [
       "15304"
      ]
     },
     "execution_count": 17,
     "metadata": {},
     "output_type": "execute_result"
    }
   ],
   "source": [
    "len(data_abandoned)"
   ]
  },
  {
   "cell_type": "code",
   "execution_count": 18,
   "metadata": {},
   "outputs": [
    {
     "data": {
      "text/html": [
       "<div>\n",
       "<style scoped>\n",
       "    .dataframe tbody tr th:only-of-type {\n",
       "        vertical-align: middle;\n",
       "    }\n",
       "\n",
       "    .dataframe tbody tr th {\n",
       "        vertical-align: top;\n",
       "    }\n",
       "\n",
       "    .dataframe thead th {\n",
       "        text-align: right;\n",
       "    }\n",
       "</style>\n",
       "<table border=\"1\" class=\"dataframe\">\n",
       "  <thead>\n",
       "    <tr style=\"text-align: right;\">\n",
       "      <th></th>\n",
       "      <th>id_ORDER</th>\n",
       "      <th>user_id</th>\n",
       "      <th>created_at_ORDER</th>\n",
       "      <th>order_date</th>\n",
       "      <th>user_order_seq</th>\n",
       "      <th>ordered_items</th>\n",
       "      <th>created_at_REGULAR</th>\n",
       "      <th>regular_items</th>\n",
       "      <th>id_ABANDONED</th>\n",
       "      <th>created_at_ABANDONED</th>\n",
       "      <th>abandoned_items</th>\n",
       "    </tr>\n",
       "  </thead>\n",
       "  <tbody>\n",
       "    <tr>\n",
       "      <th>2</th>\n",
       "      <td>2204838822020</td>\n",
       "      <td>329f08c66abb51f8c0b8a9526670da2d94c0c6eef06700...</td>\n",
       "      <td>2020-04-30 18:12:30</td>\n",
       "      <td>2020-04-30</td>\n",
       "      <td>1</td>\n",
       "      <td>[33618891145348, 33618893570180, 3361889766618...</td>\n",
       "      <td>2020-04-30 17:06:48</td>\n",
       "      <td>[33618998853764, 33618846580868, 3361899659277...</td>\n",
       "      <td>NaN</td>\n",
       "      <td>NaT</td>\n",
       "      <td>NaN</td>\n",
       "    </tr>\n",
       "    <tr>\n",
       "      <th>3</th>\n",
       "      <td>2215889436804</td>\n",
       "      <td>68e872ff888303bff58ec56a3a986f77ddebdbe5c279e7...</td>\n",
       "      <td>2020-05-03 21:56:14</td>\n",
       "      <td>2020-05-03</td>\n",
       "      <td>1</td>\n",
       "      <td>[33667166699652, 33667166699652, 3366717122163...</td>\n",
       "      <td>2020-04-30 15:07:03</td>\n",
       "      <td>[33618848088196, 33619009208452, 3361899141542...</td>\n",
       "      <td>NaN</td>\n",
       "      <td>NaT</td>\n",
       "      <td>NaN</td>\n",
       "    </tr>\n",
       "    <tr>\n",
       "      <th>5</th>\n",
       "      <td>2219446730884</td>\n",
       "      <td>7ce6569d75a8bc75b72516e059edecb0bc2245750bfa68...</td>\n",
       "      <td>2020-05-04 23:57:21</td>\n",
       "      <td>2020-05-04</td>\n",
       "      <td>1</td>\n",
       "      <td>[33667178594436, 33667184492676, 3366721657254...</td>\n",
       "      <td>2020-05-04 22:22:56</td>\n",
       "      <td>[33667295084676, 33667258089604, 3366730858509...</td>\n",
       "      <td>NaN</td>\n",
       "      <td>NaT</td>\n",
       "      <td>NaN</td>\n",
       "    </tr>\n",
       "    <tr>\n",
       "      <th>6</th>\n",
       "      <td>2222574076036</td>\n",
       "      <td>f4f0753d9919c6d39afc6b1d797a34e31224698d5d92a5...</td>\n",
       "      <td>2020-05-05 21:09:55</td>\n",
       "      <td>2020-05-05</td>\n",
       "      <td>1</td>\n",
       "      <td>[33667168829572, 33667195437188, 3366721860416...</td>\n",
       "      <td>2020-05-05 19:39:53</td>\n",
       "      <td>[33667282436228, 33667305373828]</td>\n",
       "      <td>NaN</td>\n",
       "      <td>NaT</td>\n",
       "      <td>NaN</td>\n",
       "    </tr>\n",
       "    <tr>\n",
       "      <th>7</th>\n",
       "      <td>2224066986116</td>\n",
       "      <td>aed88fc0b004270a62ff1fe4b94141f6b1db1496dbb0c0...</td>\n",
       "      <td>2020-05-06 10:23:11</td>\n",
       "      <td>2020-05-06</td>\n",
       "      <td>1</td>\n",
       "      <td>[33667171221636, 33667177382020, 3366717856166...</td>\n",
       "      <td>2020-05-05 23:34:35</td>\n",
       "      <td>[33667178659972, 33667305373828, 3366717122163...</td>\n",
       "      <td>NaN</td>\n",
       "      <td>NaT</td>\n",
       "      <td>NaN</td>\n",
       "    </tr>\n",
       "  </tbody>\n",
       "</table>\n",
       "</div>"
      ],
      "text/plain": [
       "        id_ORDER                                            user_id  \\\n",
       "2  2204838822020  329f08c66abb51f8c0b8a9526670da2d94c0c6eef06700...   \n",
       "3  2215889436804  68e872ff888303bff58ec56a3a986f77ddebdbe5c279e7...   \n",
       "5  2219446730884  7ce6569d75a8bc75b72516e059edecb0bc2245750bfa68...   \n",
       "6  2222574076036  f4f0753d9919c6d39afc6b1d797a34e31224698d5d92a5...   \n",
       "7  2224066986116  aed88fc0b004270a62ff1fe4b94141f6b1db1496dbb0c0...   \n",
       "\n",
       "     created_at_ORDER order_date  user_order_seq  \\\n",
       "2 2020-04-30 18:12:30 2020-04-30               1   \n",
       "3 2020-05-03 21:56:14 2020-05-03               1   \n",
       "5 2020-05-04 23:57:21 2020-05-04               1   \n",
       "6 2020-05-05 21:09:55 2020-05-05               1   \n",
       "7 2020-05-06 10:23:11 2020-05-06               1   \n",
       "\n",
       "                                       ordered_items  created_at_REGULAR  \\\n",
       "2  [33618891145348, 33618893570180, 3361889766618... 2020-04-30 17:06:48   \n",
       "3  [33667166699652, 33667166699652, 3366717122163... 2020-04-30 15:07:03   \n",
       "5  [33667178594436, 33667184492676, 3366721657254... 2020-05-04 22:22:56   \n",
       "6  [33667168829572, 33667195437188, 3366721860416... 2020-05-05 19:39:53   \n",
       "7  [33667171221636, 33667177382020, 3366717856166... 2020-05-05 23:34:35   \n",
       "\n",
       "                                       regular_items  id_ABANDONED  \\\n",
       "2  [33618998853764, 33618846580868, 3361899659277...           NaN   \n",
       "3  [33618848088196, 33619009208452, 3361899141542...           NaN   \n",
       "5  [33667295084676, 33667258089604, 3366730858509...           NaN   \n",
       "6                   [33667282436228, 33667305373828]           NaN   \n",
       "7  [33667178659972, 33667305373828, 3366717122163...           NaN   \n",
       "\n",
       "  created_at_ABANDONED abandoned_items  \n",
       "2                  NaT             NaN  \n",
       "3                  NaT             NaN  \n",
       "5                  NaT             NaN  \n",
       "6                  NaT             NaN  \n",
       "7                  NaT             NaN  "
      ]
     },
     "execution_count": 18,
     "metadata": {},
     "output_type": "execute_result"
    }
   ],
   "source": [
    "# rows where the abandoned date is > order date should be discarted\n",
    "# But we should keep rows where created_at_ABANDONED is null, since there can be an order with no abandoned items!\n",
    "data = data_abandoned[(data_abandoned['created_at_ABANDONED'] < data_abandoned['created_at_ORDER']) | \n",
    "                       (data_abandoned['created_at_ABANDONED'].isna())]\n",
    "\n",
    "\n",
    "data.head()"
   ]
  },
  {
   "cell_type": "code",
   "execution_count": 19,
   "metadata": {},
   "outputs": [
    {
     "data": {
      "text/plain": [
       "7590"
      ]
     },
     "execution_count": 19,
     "metadata": {},
     "output_type": "execute_result"
    }
   ],
   "source": [
    "len(data)"
   ]
  },
  {
   "cell_type": "markdown",
   "metadata": {},
   "source": [
    "For the users dataset, in order to know how many regular products each user has, I add a column cpunt_regulars."
   ]
  },
  {
   "cell_type": "code",
   "execution_count": 20,
   "metadata": {},
   "outputs": [
    {
     "data": {
      "text/html": [
       "<div>\n",
       "<style scoped>\n",
       "    .dataframe tbody tr th:only-of-type {\n",
       "        vertical-align: middle;\n",
       "    }\n",
       "\n",
       "    .dataframe tbody tr th {\n",
       "        vertical-align: top;\n",
       "    }\n",
       "\n",
       "    .dataframe thead th {\n",
       "        text-align: right;\n",
       "    }\n",
       "</style>\n",
       "<table border=\"1\" class=\"dataframe\">\n",
       "  <thead>\n",
       "    <tr style=\"text-align: right;\">\n",
       "      <th></th>\n",
       "      <th>user_id</th>\n",
       "      <th>user_segment</th>\n",
       "      <th>user_nuts1</th>\n",
       "      <th>first_ordered_at</th>\n",
       "      <th>customer_cohort_month</th>\n",
       "      <th>count_people</th>\n",
       "      <th>count_adults</th>\n",
       "      <th>count_children</th>\n",
       "      <th>count_babies</th>\n",
       "      <th>count_pets</th>\n",
       "      <th>count_regulars</th>\n",
       "    </tr>\n",
       "  </thead>\n",
       "  <tbody>\n",
       "    <tr>\n",
       "      <th>0</th>\n",
       "      <td>0e823a42e107461379e5b5613b7aa00537a72e1b0eaa7a...</td>\n",
       "      <td>Top Up</td>\n",
       "      <td>UKH</td>\n",
       "      <td>2021-05-08 13:33:49</td>\n",
       "      <td>2021-05-01 00:00:00</td>\n",
       "      <td>NaN</td>\n",
       "      <td>NaN</td>\n",
       "      <td>NaN</td>\n",
       "      <td>NaN</td>\n",
       "      <td>NaN</td>\n",
       "      <td>0.0</td>\n",
       "    </tr>\n",
       "    <tr>\n",
       "      <th>1</th>\n",
       "      <td>15768ced9bed648f745a7aa566a8895f7a73b9a47c1d4f...</td>\n",
       "      <td>Top Up</td>\n",
       "      <td>UKJ</td>\n",
       "      <td>2021-11-17 16:30:20</td>\n",
       "      <td>2021-11-01 00:00:00</td>\n",
       "      <td>NaN</td>\n",
       "      <td>NaN</td>\n",
       "      <td>NaN</td>\n",
       "      <td>NaN</td>\n",
       "      <td>NaN</td>\n",
       "      <td>0.0</td>\n",
       "    </tr>\n",
       "    <tr>\n",
       "      <th>2</th>\n",
       "      <td>33e0cb6eacea0775e34adbaa2c1dec16b9d6484e6b9324...</td>\n",
       "      <td>Top Up</td>\n",
       "      <td>UKD</td>\n",
       "      <td>2022-03-09 23:12:25</td>\n",
       "      <td>2022-03-01 00:00:00</td>\n",
       "      <td>NaN</td>\n",
       "      <td>NaN</td>\n",
       "      <td>NaN</td>\n",
       "      <td>NaN</td>\n",
       "      <td>NaN</td>\n",
       "      <td>0.0</td>\n",
       "    </tr>\n",
       "    <tr>\n",
       "      <th>3</th>\n",
       "      <td>57ca7591dc79825df0cecc4836a58e6062454555c86c35...</td>\n",
       "      <td>Top Up</td>\n",
       "      <td>UKI</td>\n",
       "      <td>2021-04-23 16:29:02</td>\n",
       "      <td>2021-04-01 00:00:00</td>\n",
       "      <td>NaN</td>\n",
       "      <td>NaN</td>\n",
       "      <td>NaN</td>\n",
       "      <td>NaN</td>\n",
       "      <td>NaN</td>\n",
       "      <td>0.0</td>\n",
       "    </tr>\n",
       "    <tr>\n",
       "      <th>4</th>\n",
       "      <td>085d8e598139ce6fc9f75d9de97960fa9e1457b409ec00...</td>\n",
       "      <td>Top Up</td>\n",
       "      <td>UKJ</td>\n",
       "      <td>2021-11-02 13:50:06</td>\n",
       "      <td>2021-11-01 00:00:00</td>\n",
       "      <td>NaN</td>\n",
       "      <td>NaN</td>\n",
       "      <td>NaN</td>\n",
       "      <td>NaN</td>\n",
       "      <td>NaN</td>\n",
       "      <td>0.0</td>\n",
       "    </tr>\n",
       "  </tbody>\n",
       "</table>\n",
       "</div>"
      ],
      "text/plain": [
       "                                             user_id user_segment user_nuts1  \\\n",
       "0  0e823a42e107461379e5b5613b7aa00537a72e1b0eaa7a...       Top Up        UKH   \n",
       "1  15768ced9bed648f745a7aa566a8895f7a73b9a47c1d4f...       Top Up        UKJ   \n",
       "2  33e0cb6eacea0775e34adbaa2c1dec16b9d6484e6b9324...       Top Up        UKD   \n",
       "3  57ca7591dc79825df0cecc4836a58e6062454555c86c35...       Top Up        UKI   \n",
       "4  085d8e598139ce6fc9f75d9de97960fa9e1457b409ec00...       Top Up        UKJ   \n",
       "\n",
       "      first_ordered_at customer_cohort_month  count_people  count_adults  \\\n",
       "0  2021-05-08 13:33:49   2021-05-01 00:00:00           NaN           NaN   \n",
       "1  2021-11-17 16:30:20   2021-11-01 00:00:00           NaN           NaN   \n",
       "2  2022-03-09 23:12:25   2022-03-01 00:00:00           NaN           NaN   \n",
       "3  2021-04-23 16:29:02   2021-04-01 00:00:00           NaN           NaN   \n",
       "4  2021-11-02 13:50:06   2021-11-01 00:00:00           NaN           NaN   \n",
       "\n",
       "   count_children  count_babies  count_pets  count_regulars  \n",
       "0             NaN           NaN         NaN             0.0  \n",
       "1             NaN           NaN         NaN             0.0  \n",
       "2             NaN           NaN         NaN             0.0  \n",
       "3             NaN           NaN         NaN             0.0  \n",
       "4             NaN           NaN         NaN             0.0  "
      ]
     },
     "execution_count": 20,
     "metadata": {},
     "output_type": "execute_result"
    }
   ],
   "source": [
    "# Add a column that counts how many regular products there are\n",
    "count_regulars = regulars.groupby('user_id')['variant_id'].nunique().reset_index().rename(columns = {'variant_id': 'count_regulars'})\n",
    "\n",
    "# Add to the users dataset this new column\n",
    "users = users.merge(count_regulars, on = 'user_id', how='left')\n",
    "\n",
    "# Replace Nans with 0 values\n",
    "users = users.fillna({'count_regulars' : 0})\n",
    "users.head()"
   ]
  },
  {
   "cell_type": "markdown",
   "metadata": {},
   "source": [
    "## 1. Performing quick checks\n",
    "Do all the quick/sanity checks and find any potential issues with the data. Fix them as you see fit."
   ]
  },
  {
   "cell_type": "markdown",
   "metadata": {},
   "source": [
    "**a. Revisar los datos: tamaño del dataset, shape**"
   ]
  },
  {
   "cell_type": "code",
   "execution_count": 21,
   "metadata": {},
   "outputs": [
    {
     "data": {
      "text/plain": [
       "(7590, 11)"
      ]
     },
     "execution_count": 21,
     "metadata": {},
     "output_type": "execute_result"
    }
   ],
   "source": [
    "data.shape"
   ]
  },
  {
   "cell_type": "markdown",
   "metadata": {},
   "source": [
    "The dataset had 7590 rows and 11 columns"
   ]
  },
  {
   "cell_type": "code",
   "execution_count": 22,
   "metadata": {},
   "outputs": [
    {
     "data": {
      "text/html": [
       "<div>\n",
       "<style scoped>\n",
       "    .dataframe tbody tr th:only-of-type {\n",
       "        vertical-align: middle;\n",
       "    }\n",
       "\n",
       "    .dataframe tbody tr th {\n",
       "        vertical-align: top;\n",
       "    }\n",
       "\n",
       "    .dataframe thead th {\n",
       "        text-align: right;\n",
       "    }\n",
       "</style>\n",
       "<table border=\"1\" class=\"dataframe\">\n",
       "  <thead>\n",
       "    <tr style=\"text-align: right;\">\n",
       "      <th></th>\n",
       "      <th>id_ORDER</th>\n",
       "      <th>user_id</th>\n",
       "      <th>created_at_ORDER</th>\n",
       "      <th>order_date</th>\n",
       "      <th>user_order_seq</th>\n",
       "      <th>ordered_items</th>\n",
       "      <th>created_at_REGULAR</th>\n",
       "      <th>regular_items</th>\n",
       "      <th>id_ABANDONED</th>\n",
       "      <th>created_at_ABANDONED</th>\n",
       "      <th>abandoned_items</th>\n",
       "    </tr>\n",
       "  </thead>\n",
       "  <tbody>\n",
       "    <tr>\n",
       "      <th>2</th>\n",
       "      <td>2204838822020</td>\n",
       "      <td>329f08c66abb51f8c0b8a9526670da2d94c0c6eef06700...</td>\n",
       "      <td>2020-04-30 18:12:30</td>\n",
       "      <td>2020-04-30</td>\n",
       "      <td>1</td>\n",
       "      <td>[33618891145348, 33618893570180, 3361889766618...</td>\n",
       "      <td>2020-04-30 17:06:48</td>\n",
       "      <td>[33618998853764, 33618846580868, 3361899659277...</td>\n",
       "      <td>NaN</td>\n",
       "      <td>NaT</td>\n",
       "      <td>NaN</td>\n",
       "    </tr>\n",
       "    <tr>\n",
       "      <th>3</th>\n",
       "      <td>2215889436804</td>\n",
       "      <td>68e872ff888303bff58ec56a3a986f77ddebdbe5c279e7...</td>\n",
       "      <td>2020-05-03 21:56:14</td>\n",
       "      <td>2020-05-03</td>\n",
       "      <td>1</td>\n",
       "      <td>[33667166699652, 33667166699652, 3366717122163...</td>\n",
       "      <td>2020-04-30 15:07:03</td>\n",
       "      <td>[33618848088196, 33619009208452, 3361899141542...</td>\n",
       "      <td>NaN</td>\n",
       "      <td>NaT</td>\n",
       "      <td>NaN</td>\n",
       "    </tr>\n",
       "    <tr>\n",
       "      <th>5</th>\n",
       "      <td>2219446730884</td>\n",
       "      <td>7ce6569d75a8bc75b72516e059edecb0bc2245750bfa68...</td>\n",
       "      <td>2020-05-04 23:57:21</td>\n",
       "      <td>2020-05-04</td>\n",
       "      <td>1</td>\n",
       "      <td>[33667178594436, 33667184492676, 3366721657254...</td>\n",
       "      <td>2020-05-04 22:22:56</td>\n",
       "      <td>[33667295084676, 33667258089604, 3366730858509...</td>\n",
       "      <td>NaN</td>\n",
       "      <td>NaT</td>\n",
       "      <td>NaN</td>\n",
       "    </tr>\n",
       "    <tr>\n",
       "      <th>6</th>\n",
       "      <td>2222574076036</td>\n",
       "      <td>f4f0753d9919c6d39afc6b1d797a34e31224698d5d92a5...</td>\n",
       "      <td>2020-05-05 21:09:55</td>\n",
       "      <td>2020-05-05</td>\n",
       "      <td>1</td>\n",
       "      <td>[33667168829572, 33667195437188, 3366721860416...</td>\n",
       "      <td>2020-05-05 19:39:53</td>\n",
       "      <td>[33667282436228, 33667305373828]</td>\n",
       "      <td>NaN</td>\n",
       "      <td>NaT</td>\n",
       "      <td>NaN</td>\n",
       "    </tr>\n",
       "    <tr>\n",
       "      <th>7</th>\n",
       "      <td>2224066986116</td>\n",
       "      <td>aed88fc0b004270a62ff1fe4b94141f6b1db1496dbb0c0...</td>\n",
       "      <td>2020-05-06 10:23:11</td>\n",
       "      <td>2020-05-06</td>\n",
       "      <td>1</td>\n",
       "      <td>[33667171221636, 33667177382020, 3366717856166...</td>\n",
       "      <td>2020-05-05 23:34:35</td>\n",
       "      <td>[33667178659972, 33667305373828, 3366717122163...</td>\n",
       "      <td>NaN</td>\n",
       "      <td>NaT</td>\n",
       "      <td>NaN</td>\n",
       "    </tr>\n",
       "  </tbody>\n",
       "</table>\n",
       "</div>"
      ],
      "text/plain": [
       "        id_ORDER                                            user_id  \\\n",
       "2  2204838822020  329f08c66abb51f8c0b8a9526670da2d94c0c6eef06700...   \n",
       "3  2215889436804  68e872ff888303bff58ec56a3a986f77ddebdbe5c279e7...   \n",
       "5  2219446730884  7ce6569d75a8bc75b72516e059edecb0bc2245750bfa68...   \n",
       "6  2222574076036  f4f0753d9919c6d39afc6b1d797a34e31224698d5d92a5...   \n",
       "7  2224066986116  aed88fc0b004270a62ff1fe4b94141f6b1db1496dbb0c0...   \n",
       "\n",
       "     created_at_ORDER order_date  user_order_seq  \\\n",
       "2 2020-04-30 18:12:30 2020-04-30               1   \n",
       "3 2020-05-03 21:56:14 2020-05-03               1   \n",
       "5 2020-05-04 23:57:21 2020-05-04               1   \n",
       "6 2020-05-05 21:09:55 2020-05-05               1   \n",
       "7 2020-05-06 10:23:11 2020-05-06               1   \n",
       "\n",
       "                                       ordered_items  created_at_REGULAR  \\\n",
       "2  [33618891145348, 33618893570180, 3361889766618... 2020-04-30 17:06:48   \n",
       "3  [33667166699652, 33667166699652, 3366717122163... 2020-04-30 15:07:03   \n",
       "5  [33667178594436, 33667184492676, 3366721657254... 2020-05-04 22:22:56   \n",
       "6  [33667168829572, 33667195437188, 3366721860416... 2020-05-05 19:39:53   \n",
       "7  [33667171221636, 33667177382020, 3366717856166... 2020-05-05 23:34:35   \n",
       "\n",
       "                                       regular_items  id_ABANDONED  \\\n",
       "2  [33618998853764, 33618846580868, 3361899659277...           NaN   \n",
       "3  [33618848088196, 33619009208452, 3361899141542...           NaN   \n",
       "5  [33667295084676, 33667258089604, 3366730858509...           NaN   \n",
       "6                   [33667282436228, 33667305373828]           NaN   \n",
       "7  [33667178659972, 33667305373828, 3366717122163...           NaN   \n",
       "\n",
       "  created_at_ABANDONED abandoned_items  \n",
       "2                  NaT             NaN  \n",
       "3                  NaT             NaN  \n",
       "5                  NaT             NaN  \n",
       "6                  NaT             NaN  \n",
       "7                  NaT             NaN  "
      ]
     },
     "execution_count": 22,
     "metadata": {},
     "output_type": "execute_result"
    }
   ],
   "source": [
    "data.head()"
   ]
  },
  {
   "cell_type": "code",
   "execution_count": 23,
   "metadata": {},
   "outputs": [
    {
     "name": "stdout",
     "output_type": "stream",
     "text": [
      "<class 'pandas.core.frame.DataFrame'>\n",
      "Index: 7590 entries, 2 to 15303\n",
      "Data columns (total 11 columns):\n",
      " #   Column                Non-Null Count  Dtype         \n",
      "---  ------                --------------  -----         \n",
      " 0   id_ORDER              7590 non-null   int64         \n",
      " 1   user_id               7590 non-null   object        \n",
      " 2   created_at_ORDER      7590 non-null   datetime64[us]\n",
      " 3   order_date            7590 non-null   datetime64[us]\n",
      " 4   user_order_seq        7590 non-null   int64         \n",
      " 5   ordered_items         7590 non-null   object        \n",
      " 6   created_at_REGULAR    4140 non-null   datetime64[us]\n",
      " 7   regular_items         4140 non-null   object        \n",
      " 8   id_ABANDONED          5885 non-null   float64       \n",
      " 9   created_at_ABANDONED  5885 non-null   datetime64[us]\n",
      " 10  abandoned_items       5885 non-null   object        \n",
      "dtypes: datetime64[us](4), float64(1), int64(2), object(4)\n",
      "memory usage: 711.6+ KB\n"
     ]
    }
   ],
   "source": [
    "data.info()"
   ]
  },
  {
   "cell_type": "markdown",
   "metadata": {},
   "source": [
    "We can observe we have some  NULL values in the dataset, for the last columns, as be commented earlier. \n",
    "These missing values will be analyzed later."
   ]
  },
  {
   "cell_type": "code",
   "execution_count": 24,
   "metadata": {},
   "outputs": [
    {
     "data": {
      "text/plain": [
       "id_ORDER                   0\n",
       "user_id                    0\n",
       "created_at_ORDER           0\n",
       "order_date                 0\n",
       "user_order_seq             0\n",
       "ordered_items              0\n",
       "created_at_REGULAR      3450\n",
       "regular_items           3450\n",
       "id_ABANDONED            1705\n",
       "created_at_ABANDONED    1705\n",
       "abandoned_items         1705\n",
       "dtype: int64"
      ]
     },
     "execution_count": 24,
     "metadata": {},
     "output_type": "execute_result"
    }
   ],
   "source": [
    "data.isna().sum()"
   ]
  },
  {
   "cell_type": "markdown",
   "metadata": {},
   "source": [
    "Now for the other two datasets:"
   ]
  },
  {
   "cell_type": "code",
   "execution_count": 25,
   "metadata": {},
   "outputs": [
    {
     "name": "stdout",
     "output_type": "stream",
     "text": [
      "(1733, 6)\n"
     ]
    },
    {
     "data": {
      "text/html": [
       "<div>\n",
       "<style scoped>\n",
       "    .dataframe tbody tr th:only-of-type {\n",
       "        vertical-align: middle;\n",
       "    }\n",
       "\n",
       "    .dataframe tbody tr th {\n",
       "        vertical-align: top;\n",
       "    }\n",
       "\n",
       "    .dataframe thead th {\n",
       "        text-align: right;\n",
       "    }\n",
       "</style>\n",
       "<table border=\"1\" class=\"dataframe\">\n",
       "  <thead>\n",
       "    <tr style=\"text-align: right;\">\n",
       "      <th></th>\n",
       "      <th>variant_id</th>\n",
       "      <th>price</th>\n",
       "      <th>compare_at_price</th>\n",
       "      <th>vendor</th>\n",
       "      <th>product_type</th>\n",
       "      <th>tags</th>\n",
       "    </tr>\n",
       "  </thead>\n",
       "  <tbody>\n",
       "    <tr>\n",
       "      <th>0</th>\n",
       "      <td>39587297165444</td>\n",
       "      <td>3.09</td>\n",
       "      <td>3.15</td>\n",
       "      <td>heinz</td>\n",
       "      <td>condiments-dressings</td>\n",
       "      <td>[table-sauces, vegan]</td>\n",
       "    </tr>\n",
       "    <tr>\n",
       "      <th>1</th>\n",
       "      <td>34370361229444</td>\n",
       "      <td>4.99</td>\n",
       "      <td>5.50</td>\n",
       "      <td>whogivesacrap</td>\n",
       "      <td>toilet-roll-kitchen-roll-tissue</td>\n",
       "      <td>[b-corp, eco, toilet-rolls]</td>\n",
       "    </tr>\n",
       "    <tr>\n",
       "      <th>2</th>\n",
       "      <td>34284951863428</td>\n",
       "      <td>3.69</td>\n",
       "      <td>3.99</td>\n",
       "      <td>plenty</td>\n",
       "      <td>toilet-roll-kitchen-roll-tissue</td>\n",
       "      <td>[kitchen-roll]</td>\n",
       "    </tr>\n",
       "    <tr>\n",
       "      <th>3</th>\n",
       "      <td>33667283583108</td>\n",
       "      <td>1.79</td>\n",
       "      <td>1.99</td>\n",
       "      <td>thecheekypanda</td>\n",
       "      <td>toilet-roll-kitchen-roll-tissue</td>\n",
       "      <td>[b-corp, cruelty-free, eco, tissue, vegan]</td>\n",
       "    </tr>\n",
       "    <tr>\n",
       "      <th>4</th>\n",
       "      <td>33803537973380</td>\n",
       "      <td>1.99</td>\n",
       "      <td>2.09</td>\n",
       "      <td>colgate</td>\n",
       "      <td>dental</td>\n",
       "      <td>[dental-accessories]</td>\n",
       "    </tr>\n",
       "  </tbody>\n",
       "</table>\n",
       "</div>"
      ],
      "text/plain": [
       "       variant_id  price  compare_at_price          vendor  \\\n",
       "0  39587297165444   3.09              3.15           heinz   \n",
       "1  34370361229444   4.99              5.50   whogivesacrap   \n",
       "2  34284951863428   3.69              3.99          plenty   \n",
       "3  33667283583108   1.79              1.99  thecheekypanda   \n",
       "4  33803537973380   1.99              2.09         colgate   \n",
       "\n",
       "                      product_type                                        tags  \n",
       "0             condiments-dressings                       [table-sauces, vegan]  \n",
       "1  toilet-roll-kitchen-roll-tissue                 [b-corp, eco, toilet-rolls]  \n",
       "2  toilet-roll-kitchen-roll-tissue                              [kitchen-roll]  \n",
       "3  toilet-roll-kitchen-roll-tissue  [b-corp, cruelty-free, eco, tissue, vegan]  \n",
       "4                           dental                        [dental-accessories]  "
      ]
     },
     "execution_count": 25,
     "metadata": {},
     "output_type": "execute_result"
    }
   ],
   "source": [
    "print(inventory.shape)\n",
    "inventory.head()"
   ]
  },
  {
   "cell_type": "code",
   "execution_count": 26,
   "metadata": {},
   "outputs": [
    {
     "name": "stdout",
     "output_type": "stream",
     "text": [
      "<class 'pandas.core.frame.DataFrame'>\n",
      "RangeIndex: 1733 entries, 0 to 1732\n",
      "Data columns (total 6 columns):\n",
      " #   Column            Non-Null Count  Dtype  \n",
      "---  ------            --------------  -----  \n",
      " 0   variant_id        1733 non-null   int64  \n",
      " 1   price             1733 non-null   float64\n",
      " 2   compare_at_price  1733 non-null   float64\n",
      " 3   vendor            1733 non-null   object \n",
      " 4   product_type      1733 non-null   object \n",
      " 5   tags              1733 non-null   object \n",
      "dtypes: float64(2), int64(1), object(3)\n",
      "memory usage: 81.4+ KB\n"
     ]
    }
   ],
   "source": [
    "inventory.info()"
   ]
  },
  {
   "cell_type": "markdown",
   "metadata": {},
   "source": [
    "We can observe that there are 1733 rows, that is, different registered products. Furthermore there are no null values, so the information of every product is complete. It is worth mentioning that the dataframe contains 6 columns."
   ]
  },
  {
   "cell_type": "code",
   "execution_count": 27,
   "metadata": {},
   "outputs": [
    {
     "name": "stdout",
     "output_type": "stream",
     "text": [
      "(4983, 11)\n"
     ]
    },
    {
     "data": {
      "text/html": [
       "<div>\n",
       "<style scoped>\n",
       "    .dataframe tbody tr th:only-of-type {\n",
       "        vertical-align: middle;\n",
       "    }\n",
       "\n",
       "    .dataframe tbody tr th {\n",
       "        vertical-align: top;\n",
       "    }\n",
       "\n",
       "    .dataframe thead th {\n",
       "        text-align: right;\n",
       "    }\n",
       "</style>\n",
       "<table border=\"1\" class=\"dataframe\">\n",
       "  <thead>\n",
       "    <tr style=\"text-align: right;\">\n",
       "      <th></th>\n",
       "      <th>user_id</th>\n",
       "      <th>user_segment</th>\n",
       "      <th>user_nuts1</th>\n",
       "      <th>first_ordered_at</th>\n",
       "      <th>customer_cohort_month</th>\n",
       "      <th>count_people</th>\n",
       "      <th>count_adults</th>\n",
       "      <th>count_children</th>\n",
       "      <th>count_babies</th>\n",
       "      <th>count_pets</th>\n",
       "      <th>count_regulars</th>\n",
       "    </tr>\n",
       "  </thead>\n",
       "  <tbody>\n",
       "    <tr>\n",
       "      <th>0</th>\n",
       "      <td>0e823a42e107461379e5b5613b7aa00537a72e1b0eaa7a...</td>\n",
       "      <td>Top Up</td>\n",
       "      <td>UKH</td>\n",
       "      <td>2021-05-08 13:33:49</td>\n",
       "      <td>2021-05-01 00:00:00</td>\n",
       "      <td>NaN</td>\n",
       "      <td>NaN</td>\n",
       "      <td>NaN</td>\n",
       "      <td>NaN</td>\n",
       "      <td>NaN</td>\n",
       "      <td>0.0</td>\n",
       "    </tr>\n",
       "    <tr>\n",
       "      <th>1</th>\n",
       "      <td>15768ced9bed648f745a7aa566a8895f7a73b9a47c1d4f...</td>\n",
       "      <td>Top Up</td>\n",
       "      <td>UKJ</td>\n",
       "      <td>2021-11-17 16:30:20</td>\n",
       "      <td>2021-11-01 00:00:00</td>\n",
       "      <td>NaN</td>\n",
       "      <td>NaN</td>\n",
       "      <td>NaN</td>\n",
       "      <td>NaN</td>\n",
       "      <td>NaN</td>\n",
       "      <td>0.0</td>\n",
       "    </tr>\n",
       "    <tr>\n",
       "      <th>2</th>\n",
       "      <td>33e0cb6eacea0775e34adbaa2c1dec16b9d6484e6b9324...</td>\n",
       "      <td>Top Up</td>\n",
       "      <td>UKD</td>\n",
       "      <td>2022-03-09 23:12:25</td>\n",
       "      <td>2022-03-01 00:00:00</td>\n",
       "      <td>NaN</td>\n",
       "      <td>NaN</td>\n",
       "      <td>NaN</td>\n",
       "      <td>NaN</td>\n",
       "      <td>NaN</td>\n",
       "      <td>0.0</td>\n",
       "    </tr>\n",
       "    <tr>\n",
       "      <th>3</th>\n",
       "      <td>57ca7591dc79825df0cecc4836a58e6062454555c86c35...</td>\n",
       "      <td>Top Up</td>\n",
       "      <td>UKI</td>\n",
       "      <td>2021-04-23 16:29:02</td>\n",
       "      <td>2021-04-01 00:00:00</td>\n",
       "      <td>NaN</td>\n",
       "      <td>NaN</td>\n",
       "      <td>NaN</td>\n",
       "      <td>NaN</td>\n",
       "      <td>NaN</td>\n",
       "      <td>0.0</td>\n",
       "    </tr>\n",
       "    <tr>\n",
       "      <th>4</th>\n",
       "      <td>085d8e598139ce6fc9f75d9de97960fa9e1457b409ec00...</td>\n",
       "      <td>Top Up</td>\n",
       "      <td>UKJ</td>\n",
       "      <td>2021-11-02 13:50:06</td>\n",
       "      <td>2021-11-01 00:00:00</td>\n",
       "      <td>NaN</td>\n",
       "      <td>NaN</td>\n",
       "      <td>NaN</td>\n",
       "      <td>NaN</td>\n",
       "      <td>NaN</td>\n",
       "      <td>0.0</td>\n",
       "    </tr>\n",
       "  </tbody>\n",
       "</table>\n",
       "</div>"
      ],
      "text/plain": [
       "                                             user_id user_segment user_nuts1  \\\n",
       "0  0e823a42e107461379e5b5613b7aa00537a72e1b0eaa7a...       Top Up        UKH   \n",
       "1  15768ced9bed648f745a7aa566a8895f7a73b9a47c1d4f...       Top Up        UKJ   \n",
       "2  33e0cb6eacea0775e34adbaa2c1dec16b9d6484e6b9324...       Top Up        UKD   \n",
       "3  57ca7591dc79825df0cecc4836a58e6062454555c86c35...       Top Up        UKI   \n",
       "4  085d8e598139ce6fc9f75d9de97960fa9e1457b409ec00...       Top Up        UKJ   \n",
       "\n",
       "      first_ordered_at customer_cohort_month  count_people  count_adults  \\\n",
       "0  2021-05-08 13:33:49   2021-05-01 00:00:00           NaN           NaN   \n",
       "1  2021-11-17 16:30:20   2021-11-01 00:00:00           NaN           NaN   \n",
       "2  2022-03-09 23:12:25   2022-03-01 00:00:00           NaN           NaN   \n",
       "3  2021-04-23 16:29:02   2021-04-01 00:00:00           NaN           NaN   \n",
       "4  2021-11-02 13:50:06   2021-11-01 00:00:00           NaN           NaN   \n",
       "\n",
       "   count_children  count_babies  count_pets  count_regulars  \n",
       "0             NaN           NaN         NaN             0.0  \n",
       "1             NaN           NaN         NaN             0.0  \n",
       "2             NaN           NaN         NaN             0.0  \n",
       "3             NaN           NaN         NaN             0.0  \n",
       "4             NaN           NaN         NaN             0.0  "
      ]
     },
     "execution_count": 27,
     "metadata": {},
     "output_type": "execute_result"
    }
   ],
   "source": [
    "print(users.shape)\n",
    "users.head()"
   ]
  },
  {
   "cell_type": "code",
   "execution_count": 28,
   "metadata": {},
   "outputs": [
    {
     "name": "stdout",
     "output_type": "stream",
     "text": [
      "<class 'pandas.core.frame.DataFrame'>\n",
      "RangeIndex: 4983 entries, 0 to 4982\n",
      "Data columns (total 11 columns):\n",
      " #   Column                 Non-Null Count  Dtype  \n",
      "---  ------                 --------------  -----  \n",
      " 0   user_id                4983 non-null   object \n",
      " 1   user_segment           4983 non-null   object \n",
      " 2   user_nuts1             4932 non-null   object \n",
      " 3   first_ordered_at       4983 non-null   object \n",
      " 4   customer_cohort_month  4983 non-null   object \n",
      " 5   count_people           325 non-null    float64\n",
      " 6   count_adults           325 non-null    float64\n",
      " 7   count_children         325 non-null    float64\n",
      " 8   count_babies           325 non-null    float64\n",
      " 9   count_pets             325 non-null    float64\n",
      " 10  count_regulars         4983 non-null   float64\n",
      "dtypes: float64(6), object(5)\n",
      "memory usage: 428.4+ KB\n"
     ]
    }
   ],
   "source": [
    "users.info()"
   ]
  },
  {
   "cell_type": "markdown",
   "metadata": {},
   "source": [
    "We can observe the users dataframe consists of 4983 entries and 10 columns, and it contains lots of missing values, which will be analyzed later."
   ]
  },
  {
   "cell_type": "markdown",
   "metadata": {},
   "source": [
    "**b. Data types de las features**\n",
    "\n",
    "Buscamos errores en los tipos, datos mezclados en una misma columna, tipos que no tiene sentido respecto al nombres, etc.\n"
   ]
  },
  {
   "cell_type": "markdown",
   "metadata": {},
   "source": [
    "With the previous command, we can see the data type of each column:"
   ]
  },
  {
   "cell_type": "code",
   "execution_count": 29,
   "metadata": {},
   "outputs": [
    {
     "name": "stdout",
     "output_type": "stream",
     "text": [
      "<class 'pandas.core.frame.DataFrame'>\n",
      "Index: 7590 entries, 2 to 15303\n",
      "Data columns (total 11 columns):\n",
      " #   Column                Non-Null Count  Dtype         \n",
      "---  ------                --------------  -----         \n",
      " 0   id_ORDER              7590 non-null   int64         \n",
      " 1   user_id               7590 non-null   object        \n",
      " 2   created_at_ORDER      7590 non-null   datetime64[us]\n",
      " 3   order_date            7590 non-null   datetime64[us]\n",
      " 4   user_order_seq        7590 non-null   int64         \n",
      " 5   ordered_items         7590 non-null   object        \n",
      " 6   created_at_REGULAR    4140 non-null   datetime64[us]\n",
      " 7   regular_items         4140 non-null   object        \n",
      " 8   id_ABANDONED          5885 non-null   float64       \n",
      " 9   created_at_ABANDONED  5885 non-null   datetime64[us]\n",
      " 10  abandoned_items       5885 non-null   object        \n",
      "dtypes: datetime64[us](4), float64(1), int64(2), object(4)\n",
      "memory usage: 711.6+ KB\n"
     ]
    }
   ],
   "source": [
    "data.info()"
   ]
  },
  {
   "cell_type": "markdown",
   "metadata": {},
   "source": [
    "id_ORDER, user_id, and id_ABANDONED should be strings:"
   ]
  },
  {
   "cell_type": "code",
   "execution_count": 30,
   "metadata": {},
   "outputs": [
    {
     "name": "stderr",
     "output_type": "stream",
     "text": [
      "/tmp/ipykernel_154450/1361214988.py:1: SettingWithCopyWarning: \n",
      "A value is trying to be set on a copy of a slice from a DataFrame.\n",
      "Try using .loc[row_indexer,col_indexer] = value instead\n",
      "\n",
      "See the caveats in the documentation: https://pandas.pydata.org/pandas-docs/stable/user_guide/indexing.html#returning-a-view-versus-a-copy\n",
      "  data['id_ORDER'] = data['id_ORDER'].astype(str)\n",
      "/tmp/ipykernel_154450/1361214988.py:2: SettingWithCopyWarning: \n",
      "A value is trying to be set on a copy of a slice from a DataFrame.\n",
      "Try using .loc[row_indexer,col_indexer] = value instead\n",
      "\n",
      "See the caveats in the documentation: https://pandas.pydata.org/pandas-docs/stable/user_guide/indexing.html#returning-a-view-versus-a-copy\n",
      "  data['user_id'] = data['user_id'].astype(str)\n",
      "/tmp/ipykernel_154450/1361214988.py:3: SettingWithCopyWarning: \n",
      "A value is trying to be set on a copy of a slice from a DataFrame.\n",
      "Try using .loc[row_indexer,col_indexer] = value instead\n",
      "\n",
      "See the caveats in the documentation: https://pandas.pydata.org/pandas-docs/stable/user_guide/indexing.html#returning-a-view-versus-a-copy\n",
      "  data['id_ABANDONED'] = data['id_ABANDONED'].astype(str)\n"
     ]
    }
   ],
   "source": [
    "data['id_ORDER'] = data['id_ORDER'].astype(str)\n",
    "data['user_id'] = data['user_id'].astype(str)\n",
    "data['id_ABANDONED'] = data['id_ABANDONED'].astype(str)"
   ]
  },
  {
   "cell_type": "code",
   "execution_count": 31,
   "metadata": {},
   "outputs": [
    {
     "name": "stdout",
     "output_type": "stream",
     "text": [
      "<class 'pandas.core.frame.DataFrame'>\n",
      "Index: 7590 entries, 2 to 15303\n",
      "Data columns (total 11 columns):\n",
      " #   Column                Non-Null Count  Dtype         \n",
      "---  ------                --------------  -----         \n",
      " 0   id_ORDER              7590 non-null   object        \n",
      " 1   user_id               7590 non-null   object        \n",
      " 2   created_at_ORDER      7590 non-null   datetime64[us]\n",
      " 3   order_date            7590 non-null   datetime64[us]\n",
      " 4   user_order_seq        7590 non-null   int64         \n",
      " 5   ordered_items         7590 non-null   object        \n",
      " 6   created_at_REGULAR    4140 non-null   datetime64[us]\n",
      " 7   regular_items         4140 non-null   object        \n",
      " 8   id_ABANDONED          7590 non-null   object        \n",
      " 9   created_at_ABANDONED  5885 non-null   datetime64[us]\n",
      " 10  abandoned_items       5885 non-null   object        \n",
      "dtypes: datetime64[us](4), int64(1), object(6)\n",
      "memory usage: 711.6+ KB\n"
     ]
    }
   ],
   "source": [
    "data.info()"
   ]
  },
  {
   "cell_type": "markdown",
   "metadata": {},
   "source": [
    "Check the objects are listst (of items), and the type of the elements on the lists:"
   ]
  },
  {
   "cell_type": "code",
   "execution_count": 32,
   "metadata": {},
   "outputs": [
    {
     "name": "stdout",
     "output_type": "stream",
     "text": [
      "<class 'numpy.ndarray'>\n",
      "<class 'numpy.int64'>\n"
     ]
    }
   ],
   "source": [
    "print(type(data['ordered_items'].iloc[0]))\n",
    "print(type(data['ordered_items'].iloc[0][0]))"
   ]
  },
  {
   "cell_type": "code",
   "execution_count": 33,
   "metadata": {},
   "outputs": [
    {
     "name": "stdout",
     "output_type": "stream",
     "text": [
      "<class 'list'>\n",
      "<class 'int'>\n"
     ]
    }
   ],
   "source": [
    "print(type(data['regular_items'].iloc[0]))\n",
    "print(type(data['regular_items'].iloc[0][0]))"
   ]
  },
  {
   "cell_type": "markdown",
   "metadata": {},
   "source": [
    "We can observe that that it is a list instead of a numpy array. Since the values that will be stored in the lists of this columns are always going to be integers, we convert the list to a numpy.ndarray."
   ]
  },
  {
   "cell_type": "code",
   "execution_count": 34,
   "metadata": {},
   "outputs": [
    {
     "name": "stderr",
     "output_type": "stream",
     "text": [
      "/tmp/ipykernel_154450/2162758704.py:1: SettingWithCopyWarning: \n",
      "A value is trying to be set on a copy of a slice from a DataFrame.\n",
      "Try using .loc[row_indexer,col_indexer] = value instead\n",
      "\n",
      "See the caveats in the documentation: https://pandas.pydata.org/pandas-docs/stable/user_guide/indexing.html#returning-a-view-versus-a-copy\n",
      "  data['regular_items'] = data['regular_items'].apply(np.array)\n"
     ]
    }
   ],
   "source": [
    "data['regular_items'] = data['regular_items'].apply(np.array)"
   ]
  },
  {
   "cell_type": "code",
   "execution_count": 35,
   "metadata": {},
   "outputs": [
    {
     "name": "stdout",
     "output_type": "stream",
     "text": [
      "<class 'numpy.ndarray'>\n",
      "<class 'numpy.int64'>\n"
     ]
    }
   ],
   "source": [
    "print(type(data['regular_items'].iloc[0]))\n",
    "print(type(data['regular_items'].iloc[0][0]))"
   ]
  },
  {
   "cell_type": "code",
   "execution_count": 36,
   "metadata": {},
   "outputs": [
    {
     "name": "stdout",
     "output_type": "stream",
     "text": [
      "<class 'float'>\n"
     ]
    }
   ],
   "source": [
    "print(type(data['abandoned_items'].iloc[0]))"
   ]
  },
  {
   "cell_type": "markdown",
   "metadata": {},
   "source": [
    "Since some rows contain NaN, Pandas interprets them as floats when mixed with our lists of  integers in the column abandoned_items.\n",
    "To solve this, we will convert the NaNs to empty lists in the next section and, afterwards, we will check the type is the correct one."
   ]
  },
  {
   "cell_type": "markdown",
   "metadata": {},
   "source": [
    "Now for the other two datasets:"
   ]
  },
  {
   "cell_type": "code",
   "execution_count": 37,
   "metadata": {},
   "outputs": [
    {
     "name": "stdout",
     "output_type": "stream",
     "text": [
      "<class 'pandas.core.frame.DataFrame'>\n",
      "RangeIndex: 1733 entries, 0 to 1732\n",
      "Data columns (total 6 columns):\n",
      " #   Column            Non-Null Count  Dtype  \n",
      "---  ------            --------------  -----  \n",
      " 0   variant_id        1733 non-null   int64  \n",
      " 1   price             1733 non-null   float64\n",
      " 2   compare_at_price  1733 non-null   float64\n",
      " 3   vendor            1733 non-null   object \n",
      " 4   product_type      1733 non-null   object \n",
      " 5   tags              1733 non-null   object \n",
      "dtypes: float64(2), int64(1), object(3)\n",
      "memory usage: 81.4+ KB\n"
     ]
    }
   ],
   "source": [
    "inventory.info()"
   ]
  },
  {
   "cell_type": "markdown",
   "metadata": {},
   "source": [
    "We can observe that the types correspond to what we would have expected."
   ]
  },
  {
   "cell_type": "code",
   "execution_count": 38,
   "metadata": {},
   "outputs": [
    {
     "name": "stdout",
     "output_type": "stream",
     "text": [
      "<class 'pandas.core.frame.DataFrame'>\n",
      "RangeIndex: 4983 entries, 0 to 4982\n",
      "Data columns (total 11 columns):\n",
      " #   Column                 Non-Null Count  Dtype  \n",
      "---  ------                 --------------  -----  \n",
      " 0   user_id                4983 non-null   object \n",
      " 1   user_segment           4983 non-null   object \n",
      " 2   user_nuts1             4932 non-null   object \n",
      " 3   first_ordered_at       4983 non-null   object \n",
      " 4   customer_cohort_month  4983 non-null   object \n",
      " 5   count_people           325 non-null    float64\n",
      " 6   count_adults           325 non-null    float64\n",
      " 7   count_children         325 non-null    float64\n",
      " 8   count_babies           325 non-null    float64\n",
      " 9   count_pets             325 non-null    float64\n",
      " 10  count_regulars         4983 non-null   float64\n",
      "dtypes: float64(6), object(5)\n",
      "memory usage: 428.4+ KB\n"
     ]
    }
   ],
   "source": [
    "users.info()"
   ]
  },
  {
   "cell_type": "markdown",
   "metadata": {},
   "source": [
    "First_ordered_at should be a date, and so should be customer_cohort_month. \n",
    "\n",
    "On the other hand, all the counts (count_people, count_adults, count_children, count_babies, and count_pets) should be integers. Nevertheless, these count types will need to be changed after the missing values are delt with."
   ]
  },
  {
   "cell_type": "code",
   "execution_count": 39,
   "metadata": {},
   "outputs": [
    {
     "name": "stdout",
     "output_type": "stream",
     "text": [
      "<class 'pandas.core.frame.DataFrame'>\n",
      "RangeIndex: 4983 entries, 0 to 4982\n",
      "Data columns (total 11 columns):\n",
      " #   Column                 Non-Null Count  Dtype         \n",
      "---  ------                 --------------  -----         \n",
      " 0   user_id                4983 non-null   object        \n",
      " 1   user_segment           4983 non-null   object        \n",
      " 2   user_nuts1             4932 non-null   object        \n",
      " 3   first_ordered_at       4983 non-null   datetime64[us]\n",
      " 4   customer_cohort_month  4983 non-null   datetime64[us]\n",
      " 5   count_people           325 non-null    float64       \n",
      " 6   count_adults           325 non-null    float64       \n",
      " 7   count_children         325 non-null    float64       \n",
      " 8   count_babies           325 non-null    float64       \n",
      " 9   count_pets             325 non-null    float64       \n",
      " 10  count_regulars         4983 non-null   float64       \n",
      "dtypes: datetime64[us](2), float64(6), object(3)\n",
      "memory usage: 428.4+ KB\n"
     ]
    }
   ],
   "source": [
    "users['first_ordered_at'] = users['first_ordered_at'].astype('datetime64[us]')\n",
    "users['customer_cohort_month'] = users['customer_cohort_month'].astype('datetime64[us]')\n",
    "\n",
    "users.info()"
   ]
  },
  {
   "cell_type": "markdown",
   "metadata": {},
   "source": [
    "**c. Missing values**"
   ]
  },
  {
   "cell_type": "markdown",
   "metadata": {},
   "source": [
    "We have missing values in the columns: created_at_REGULAR, regular_items, created_at_ABANDONED, abandoned_items.\n",
    "Since having missing values in regular_items and abandoned_items means that the user has not defined items that he wishes to buy\n",
    "regularly or has not abandoned any item, I convert these Nans to empty arrays."
   ]
  },
  {
   "cell_type": "code",
   "execution_count": 40,
   "metadata": {},
   "outputs": [
    {
     "name": "stderr",
     "output_type": "stream",
     "text": [
      "/tmp/ipykernel_154450/1908790303.py:1: SettingWithCopyWarning: \n",
      "A value is trying to be set on a copy of a slice from a DataFrame.\n",
      "Try using .loc[row_indexer,col_indexer] = value instead\n",
      "\n",
      "See the caveats in the documentation: https://pandas.pydata.org/pandas-docs/stable/user_guide/indexing.html#returning-a-view-versus-a-copy\n",
      "  data['regular_items'] = data['regular_items'].apply(lambda x: [] if x is None or (isinstance(x, float) and pd.isna(x)) else x)\n"
     ]
    }
   ],
   "source": [
    "data['regular_items'] = data['regular_items'].apply(lambda x: [] if x is None or (isinstance(x, float) and pd.isna(x)) else x)"
   ]
  },
  {
   "cell_type": "code",
   "execution_count": 41,
   "metadata": {},
   "outputs": [
    {
     "name": "stderr",
     "output_type": "stream",
     "text": [
      "/tmp/ipykernel_154450/3274599685.py:1: SettingWithCopyWarning: \n",
      "A value is trying to be set on a copy of a slice from a DataFrame.\n",
      "Try using .loc[row_indexer,col_indexer] = value instead\n",
      "\n",
      "See the caveats in the documentation: https://pandas.pydata.org/pandas-docs/stable/user_guide/indexing.html#returning-a-view-versus-a-copy\n",
      "  data['abandoned_items'] = data['abandoned_items'].apply(lambda x: [] if x is None or (isinstance(x, float) and pd.isna(x)) else x)\n"
     ]
    }
   ],
   "source": [
    "data['abandoned_items'] = data['abandoned_items'].apply(lambda x: [] if x is None or (isinstance(x, float) and pd.isna(x)) else x)"
   ]
  },
  {
   "cell_type": "code",
   "execution_count": 42,
   "metadata": {},
   "outputs": [
    {
     "name": "stdout",
     "output_type": "stream",
     "text": [
      "<class 'numpy.ndarray'>\n",
      "<class 'numpy.int64'>\n"
     ]
    }
   ],
   "source": [
    "print(type(data['abandoned_items'].iloc[3000])) \n",
    "print(type(data['abandoned_items'].iloc[3000][0])) # don't get the first element of the first row, since this list is empty"
   ]
  },
  {
   "cell_type": "markdown",
   "metadata": {},
   "source": [
    "And the missing values corresponding to the dates of these columns are replaced with the date of the order."
   ]
  },
  {
   "cell_type": "code",
   "execution_count": 43,
   "metadata": {},
   "outputs": [
    {
     "name": "stderr",
     "output_type": "stream",
     "text": [
      "/tmp/ipykernel_154450/2386947241.py:1: SettingWithCopyWarning: \n",
      "A value is trying to be set on a copy of a slice from a DataFrame.\n",
      "Try using .loc[row_indexer,col_indexer] = value instead\n",
      "\n",
      "See the caveats in the documentation: https://pandas.pydata.org/pandas-docs/stable/user_guide/indexing.html#returning-a-view-versus-a-copy\n",
      "  data['created_at_REGULAR'] = data['created_at_REGULAR'].fillna(data['created_at_ORDER'])\n",
      "/tmp/ipykernel_154450/2386947241.py:2: SettingWithCopyWarning: \n",
      "A value is trying to be set on a copy of a slice from a DataFrame.\n",
      "Try using .loc[row_indexer,col_indexer] = value instead\n",
      "\n",
      "See the caveats in the documentation: https://pandas.pydata.org/pandas-docs/stable/user_guide/indexing.html#returning-a-view-versus-a-copy\n",
      "  data['created_at_ABANDONED'] = data['created_at_ABANDONED'].fillna(data['created_at_ORDER'])\n"
     ]
    }
   ],
   "source": [
    "data['created_at_REGULAR'] = data['created_at_REGULAR'].fillna(data['created_at_ORDER'])\n",
    "data['created_at_ABANDONED'] = data['created_at_ABANDONED'].fillna(data['created_at_ORDER'])"
   ]
  },
  {
   "cell_type": "markdown",
   "metadata": {},
   "source": [
    "Finally, check there are no more missing values:"
   ]
  },
  {
   "cell_type": "code",
   "execution_count": 44,
   "metadata": {},
   "outputs": [
    {
     "name": "stdout",
     "output_type": "stream",
     "text": [
      "<class 'pandas.core.frame.DataFrame'>\n",
      "Index: 7590 entries, 2 to 15303\n",
      "Data columns (total 11 columns):\n",
      " #   Column                Non-Null Count  Dtype         \n",
      "---  ------                --------------  -----         \n",
      " 0   id_ORDER              7590 non-null   object        \n",
      " 1   user_id               7590 non-null   object        \n",
      " 2   created_at_ORDER      7590 non-null   datetime64[us]\n",
      " 3   order_date            7590 non-null   datetime64[us]\n",
      " 4   user_order_seq        7590 non-null   int64         \n",
      " 5   ordered_items         7590 non-null   object        \n",
      " 6   created_at_REGULAR    7590 non-null   datetime64[us]\n",
      " 7   regular_items         7590 non-null   object        \n",
      " 8   id_ABANDONED          7590 non-null   object        \n",
      " 9   created_at_ABANDONED  7590 non-null   datetime64[us]\n",
      " 10  abandoned_items       7590 non-null   object        \n",
      "dtypes: datetime64[us](4), int64(1), object(6)\n",
      "memory usage: 711.6+ KB\n"
     ]
    }
   ],
   "source": [
    "data.info()"
   ]
  },
  {
   "cell_type": "markdown",
   "metadata": {},
   "source": [
    "Additionally, for the inventory dataframe, we previously saw that it does not contain any missing values. On the other hand, the users dataframe does."
   ]
  },
  {
   "cell_type": "code",
   "execution_count": 45,
   "metadata": {},
   "outputs": [
    {
     "name": "stdout",
     "output_type": "stream",
     "text": [
      "<class 'pandas.core.frame.DataFrame'>\n",
      "RangeIndex: 4983 entries, 0 to 4982\n",
      "Data columns (total 11 columns):\n",
      " #   Column                 Non-Null Count  Dtype         \n",
      "---  ------                 --------------  -----         \n",
      " 0   user_id                4983 non-null   object        \n",
      " 1   user_segment           4983 non-null   object        \n",
      " 2   user_nuts1             4932 non-null   object        \n",
      " 3   first_ordered_at       4983 non-null   datetime64[us]\n",
      " 4   customer_cohort_month  4983 non-null   datetime64[us]\n",
      " 5   count_people           325 non-null    float64       \n",
      " 6   count_adults           325 non-null    float64       \n",
      " 7   count_children         325 non-null    float64       \n",
      " 8   count_babies           325 non-null    float64       \n",
      " 9   count_pets             325 non-null    float64       \n",
      " 10  count_regulars         4983 non-null   float64       \n",
      "dtypes: datetime64[us](2), float64(6), object(3)\n",
      "memory usage: 428.4+ KB\n"
     ]
    }
   ],
   "source": [
    "users.info()"
   ]
  },
  {
   "cell_type": "markdown",
   "metadata": {},
   "source": [
    "First, since an order necessarily involves at least one adult, where count_adults data is missing, it is logical to assume the presence of one adult. Therefore, the missing values of the column count_adults will be changed to 1:"
   ]
  },
  {
   "cell_type": "code",
   "execution_count": 46,
   "metadata": {},
   "outputs": [],
   "source": [
    "users['count_adults'] = users['count_adults'].fillna(1)"
   ]
  },
  {
   "cell_type": "markdown",
   "metadata": {},
   "source": [
    "Reassessing Household Composition Columns (count_children, count_babies, count_pets):\n",
    "* Original Plan: Initially, I considered filling missing values with 0, presuming the absence of children, babies, or pets if not explicitly mentioned. Nevertheless, reflecting further, I recognized that such an assumption might not hold true due to the significant volume of missing data. Filling these values without concrete evidence could introduce substantial bias.\n",
    "* Current Approach: I decided to maintain the NaN values to avoid baseless assumptions. This choice preserves the dataset's integrity and provides a more genuine basis for analysis. Additionally, I plan to utilize a representative sample to infer broader trends with the samples with houshold information."
   ]
  },
  {
   "cell_type": "markdown",
   "metadata": {},
   "source": [
    "Finally, the count_people field, when missing, will now be calculated as the sum of count_adults, count_children, and count_babies, assuming it represents the total human count in a household."
   ]
  },
  {
   "cell_type": "code",
   "execution_count": 47,
   "metadata": {},
   "outputs": [],
   "source": [
    "users['count_people'] = users.apply(lambda row: row['count_adults'] + row['count_children'] + row['count_babies'] + row['count_pets']\n",
    "                                   if pd.isna(row['count_people']) else row['count_people'], axis=1)"
   ]
  },
  {
   "cell_type": "markdown",
   "metadata": {},
   "source": [
    "Now, change the types to integers, as previously mentioned."
   ]
  },
  {
   "cell_type": "code",
   "execution_count": 49,
   "metadata": {},
   "outputs": [
    {
     "ename": "IntCastingNaNError",
     "evalue": "Cannot convert non-finite values (NA or inf) to integer",
     "output_type": "error",
     "traceback": [
      "\u001b[0;31m---------------------------------------------------------------------------\u001b[0m",
      "\u001b[0;31mIntCastingNaNError\u001b[0m                        Traceback (most recent call last)",
      "Cell \u001b[0;32mIn[49], line 1\u001b[0m\n\u001b[0;32m----> 1\u001b[0m users[\u001b[38;5;124m'\u001b[39m\u001b[38;5;124mcount_people\u001b[39m\u001b[38;5;124m'\u001b[39m] \u001b[38;5;241m=\u001b[39m \u001b[43musers\u001b[49m\u001b[43m[\u001b[49m\u001b[38;5;124;43m'\u001b[39;49m\u001b[38;5;124;43mcount_people\u001b[39;49m\u001b[38;5;124;43m'\u001b[39;49m\u001b[43m]\u001b[49m\u001b[38;5;241;43m.\u001b[39;49m\u001b[43mastype\u001b[49m\u001b[43m(\u001b[49m\u001b[38;5;124;43m'\u001b[39;49m\u001b[38;5;124;43mint64\u001b[39;49m\u001b[38;5;124;43m'\u001b[39;49m\u001b[43m)\u001b[49m\n\u001b[1;32m      2\u001b[0m users[\u001b[38;5;124m'\u001b[39m\u001b[38;5;124mcount_adults\u001b[39m\u001b[38;5;124m'\u001b[39m] \u001b[38;5;241m=\u001b[39m users[\u001b[38;5;124m'\u001b[39m\u001b[38;5;124mcount_adults\u001b[39m\u001b[38;5;124m'\u001b[39m]\u001b[38;5;241m.\u001b[39mastype(\u001b[38;5;124m'\u001b[39m\u001b[38;5;124mint64\u001b[39m\u001b[38;5;124m'\u001b[39m)\n\u001b[1;32m      3\u001b[0m \u001b[38;5;66;03m#users['count_children'] = users['count_children'].astype('int64')\u001b[39;00m\n\u001b[1;32m      4\u001b[0m \u001b[38;5;66;03m#users['count_babies'] = users['count_babies'].astype('int64')\u001b[39;00m\n\u001b[1;32m      5\u001b[0m \u001b[38;5;66;03m#users['count_pets'] = users['count_pets'].astype('int64')\u001b[39;00m\n",
      "File \u001b[0;32m~/.cache/pypoetry/virtualenvs/zrive-ds-3iE0R8j--py3.11/lib/python3.11/site-packages/pandas/core/generic.py:6643\u001b[0m, in \u001b[0;36mNDFrame.astype\u001b[0;34m(self, dtype, copy, errors)\u001b[0m\n\u001b[1;32m   6637\u001b[0m     results \u001b[38;5;241m=\u001b[39m [\n\u001b[1;32m   6638\u001b[0m         ser\u001b[38;5;241m.\u001b[39mastype(dtype, copy\u001b[38;5;241m=\u001b[39mcopy, errors\u001b[38;5;241m=\u001b[39merrors) \u001b[38;5;28;01mfor\u001b[39;00m _, ser \u001b[38;5;129;01min\u001b[39;00m \u001b[38;5;28mself\u001b[39m\u001b[38;5;241m.\u001b[39mitems()\n\u001b[1;32m   6639\u001b[0m     ]\n\u001b[1;32m   6641\u001b[0m \u001b[38;5;28;01melse\u001b[39;00m:\n\u001b[1;32m   6642\u001b[0m     \u001b[38;5;66;03m# else, only a single dtype is given\u001b[39;00m\n\u001b[0;32m-> 6643\u001b[0m     new_data \u001b[38;5;241m=\u001b[39m \u001b[38;5;28;43mself\u001b[39;49m\u001b[38;5;241;43m.\u001b[39;49m\u001b[43m_mgr\u001b[49m\u001b[38;5;241;43m.\u001b[39;49m\u001b[43mastype\u001b[49m\u001b[43m(\u001b[49m\u001b[43mdtype\u001b[49m\u001b[38;5;241;43m=\u001b[39;49m\u001b[43mdtype\u001b[49m\u001b[43m,\u001b[49m\u001b[43m \u001b[49m\u001b[43mcopy\u001b[49m\u001b[38;5;241;43m=\u001b[39;49m\u001b[43mcopy\u001b[49m\u001b[43m,\u001b[49m\u001b[43m \u001b[49m\u001b[43merrors\u001b[49m\u001b[38;5;241;43m=\u001b[39;49m\u001b[43merrors\u001b[49m\u001b[43m)\u001b[49m\n\u001b[1;32m   6644\u001b[0m     res \u001b[38;5;241m=\u001b[39m \u001b[38;5;28mself\u001b[39m\u001b[38;5;241m.\u001b[39m_constructor_from_mgr(new_data, axes\u001b[38;5;241m=\u001b[39mnew_data\u001b[38;5;241m.\u001b[39maxes)\n\u001b[1;32m   6645\u001b[0m     \u001b[38;5;28;01mreturn\u001b[39;00m res\u001b[38;5;241m.\u001b[39m__finalize__(\u001b[38;5;28mself\u001b[39m, method\u001b[38;5;241m=\u001b[39m\u001b[38;5;124m\"\u001b[39m\u001b[38;5;124mastype\u001b[39m\u001b[38;5;124m\"\u001b[39m)\n",
      "File \u001b[0;32m~/.cache/pypoetry/virtualenvs/zrive-ds-3iE0R8j--py3.11/lib/python3.11/site-packages/pandas/core/internals/managers.py:430\u001b[0m, in \u001b[0;36mBaseBlockManager.astype\u001b[0;34m(self, dtype, copy, errors)\u001b[0m\n\u001b[1;32m    427\u001b[0m \u001b[38;5;28;01melif\u001b[39;00m using_copy_on_write():\n\u001b[1;32m    428\u001b[0m     copy \u001b[38;5;241m=\u001b[39m \u001b[38;5;28;01mFalse\u001b[39;00m\n\u001b[0;32m--> 430\u001b[0m \u001b[38;5;28;01mreturn\u001b[39;00m \u001b[38;5;28;43mself\u001b[39;49m\u001b[38;5;241;43m.\u001b[39;49m\u001b[43mapply\u001b[49m\u001b[43m(\u001b[49m\n\u001b[1;32m    431\u001b[0m \u001b[43m    \u001b[49m\u001b[38;5;124;43m\"\u001b[39;49m\u001b[38;5;124;43mastype\u001b[39;49m\u001b[38;5;124;43m\"\u001b[39;49m\u001b[43m,\u001b[49m\n\u001b[1;32m    432\u001b[0m \u001b[43m    \u001b[49m\u001b[43mdtype\u001b[49m\u001b[38;5;241;43m=\u001b[39;49m\u001b[43mdtype\u001b[49m\u001b[43m,\u001b[49m\n\u001b[1;32m    433\u001b[0m \u001b[43m    \u001b[49m\u001b[43mcopy\u001b[49m\u001b[38;5;241;43m=\u001b[39;49m\u001b[43mcopy\u001b[49m\u001b[43m,\u001b[49m\n\u001b[1;32m    434\u001b[0m \u001b[43m    \u001b[49m\u001b[43merrors\u001b[49m\u001b[38;5;241;43m=\u001b[39;49m\u001b[43merrors\u001b[49m\u001b[43m,\u001b[49m\n\u001b[1;32m    435\u001b[0m \u001b[43m    \u001b[49m\u001b[43musing_cow\u001b[49m\u001b[38;5;241;43m=\u001b[39;49m\u001b[43musing_copy_on_write\u001b[49m\u001b[43m(\u001b[49m\u001b[43m)\u001b[49m\u001b[43m,\u001b[49m\n\u001b[1;32m    436\u001b[0m \u001b[43m\u001b[49m\u001b[43m)\u001b[49m\n",
      "File \u001b[0;32m~/.cache/pypoetry/virtualenvs/zrive-ds-3iE0R8j--py3.11/lib/python3.11/site-packages/pandas/core/internals/managers.py:363\u001b[0m, in \u001b[0;36mBaseBlockManager.apply\u001b[0;34m(self, f, align_keys, **kwargs)\u001b[0m\n\u001b[1;32m    361\u001b[0m         applied \u001b[38;5;241m=\u001b[39m b\u001b[38;5;241m.\u001b[39mapply(f, \u001b[38;5;241m*\u001b[39m\u001b[38;5;241m*\u001b[39mkwargs)\n\u001b[1;32m    362\u001b[0m     \u001b[38;5;28;01melse\u001b[39;00m:\n\u001b[0;32m--> 363\u001b[0m         applied \u001b[38;5;241m=\u001b[39m \u001b[38;5;28;43mgetattr\u001b[39;49m\u001b[43m(\u001b[49m\u001b[43mb\u001b[49m\u001b[43m,\u001b[49m\u001b[43m \u001b[49m\u001b[43mf\u001b[49m\u001b[43m)\u001b[49m\u001b[43m(\u001b[49m\u001b[38;5;241;43m*\u001b[39;49m\u001b[38;5;241;43m*\u001b[39;49m\u001b[43mkwargs\u001b[49m\u001b[43m)\u001b[49m\n\u001b[1;32m    364\u001b[0m     result_blocks \u001b[38;5;241m=\u001b[39m extend_blocks(applied, result_blocks)\n\u001b[1;32m    366\u001b[0m out \u001b[38;5;241m=\u001b[39m \u001b[38;5;28mtype\u001b[39m(\u001b[38;5;28mself\u001b[39m)\u001b[38;5;241m.\u001b[39mfrom_blocks(result_blocks, \u001b[38;5;28mself\u001b[39m\u001b[38;5;241m.\u001b[39maxes)\n",
      "File \u001b[0;32m~/.cache/pypoetry/virtualenvs/zrive-ds-3iE0R8j--py3.11/lib/python3.11/site-packages/pandas/core/internals/blocks.py:758\u001b[0m, in \u001b[0;36mBlock.astype\u001b[0;34m(self, dtype, copy, errors, using_cow, squeeze)\u001b[0m\n\u001b[1;32m    755\u001b[0m         \u001b[38;5;28;01mraise\u001b[39;00m \u001b[38;5;167;01mValueError\u001b[39;00m(\u001b[38;5;124m\"\u001b[39m\u001b[38;5;124mCan not squeeze with more than one column.\u001b[39m\u001b[38;5;124m\"\u001b[39m)\n\u001b[1;32m    756\u001b[0m     values \u001b[38;5;241m=\u001b[39m values[\u001b[38;5;241m0\u001b[39m, :]  \u001b[38;5;66;03m# type: ignore[call-overload]\u001b[39;00m\n\u001b[0;32m--> 758\u001b[0m new_values \u001b[38;5;241m=\u001b[39m \u001b[43mastype_array_safe\u001b[49m\u001b[43m(\u001b[49m\u001b[43mvalues\u001b[49m\u001b[43m,\u001b[49m\u001b[43m \u001b[49m\u001b[43mdtype\u001b[49m\u001b[43m,\u001b[49m\u001b[43m \u001b[49m\u001b[43mcopy\u001b[49m\u001b[38;5;241;43m=\u001b[39;49m\u001b[43mcopy\u001b[49m\u001b[43m,\u001b[49m\u001b[43m \u001b[49m\u001b[43merrors\u001b[49m\u001b[38;5;241;43m=\u001b[39;49m\u001b[43merrors\u001b[49m\u001b[43m)\u001b[49m\n\u001b[1;32m    760\u001b[0m new_values \u001b[38;5;241m=\u001b[39m maybe_coerce_values(new_values)\n\u001b[1;32m    762\u001b[0m refs \u001b[38;5;241m=\u001b[39m \u001b[38;5;28;01mNone\u001b[39;00m\n",
      "File \u001b[0;32m~/.cache/pypoetry/virtualenvs/zrive-ds-3iE0R8j--py3.11/lib/python3.11/site-packages/pandas/core/dtypes/astype.py:237\u001b[0m, in \u001b[0;36mastype_array_safe\u001b[0;34m(values, dtype, copy, errors)\u001b[0m\n\u001b[1;32m    234\u001b[0m     dtype \u001b[38;5;241m=\u001b[39m dtype\u001b[38;5;241m.\u001b[39mnumpy_dtype\n\u001b[1;32m    236\u001b[0m \u001b[38;5;28;01mtry\u001b[39;00m:\n\u001b[0;32m--> 237\u001b[0m     new_values \u001b[38;5;241m=\u001b[39m \u001b[43mastype_array\u001b[49m\u001b[43m(\u001b[49m\u001b[43mvalues\u001b[49m\u001b[43m,\u001b[49m\u001b[43m \u001b[49m\u001b[43mdtype\u001b[49m\u001b[43m,\u001b[49m\u001b[43m \u001b[49m\u001b[43mcopy\u001b[49m\u001b[38;5;241;43m=\u001b[39;49m\u001b[43mcopy\u001b[49m\u001b[43m)\u001b[49m\n\u001b[1;32m    238\u001b[0m \u001b[38;5;28;01mexcept\u001b[39;00m (\u001b[38;5;167;01mValueError\u001b[39;00m, \u001b[38;5;167;01mTypeError\u001b[39;00m):\n\u001b[1;32m    239\u001b[0m     \u001b[38;5;66;03m# e.g. _astype_nansafe can fail on object-dtype of strings\u001b[39;00m\n\u001b[1;32m    240\u001b[0m     \u001b[38;5;66;03m#  trying to convert to float\u001b[39;00m\n\u001b[1;32m    241\u001b[0m     \u001b[38;5;28;01mif\u001b[39;00m errors \u001b[38;5;241m==\u001b[39m \u001b[38;5;124m\"\u001b[39m\u001b[38;5;124mignore\u001b[39m\u001b[38;5;124m\"\u001b[39m:\n",
      "File \u001b[0;32m~/.cache/pypoetry/virtualenvs/zrive-ds-3iE0R8j--py3.11/lib/python3.11/site-packages/pandas/core/dtypes/astype.py:182\u001b[0m, in \u001b[0;36mastype_array\u001b[0;34m(values, dtype, copy)\u001b[0m\n\u001b[1;32m    179\u001b[0m     values \u001b[38;5;241m=\u001b[39m values\u001b[38;5;241m.\u001b[39mastype(dtype, copy\u001b[38;5;241m=\u001b[39mcopy)\n\u001b[1;32m    181\u001b[0m \u001b[38;5;28;01melse\u001b[39;00m:\n\u001b[0;32m--> 182\u001b[0m     values \u001b[38;5;241m=\u001b[39m \u001b[43m_astype_nansafe\u001b[49m\u001b[43m(\u001b[49m\u001b[43mvalues\u001b[49m\u001b[43m,\u001b[49m\u001b[43m \u001b[49m\u001b[43mdtype\u001b[49m\u001b[43m,\u001b[49m\u001b[43m \u001b[49m\u001b[43mcopy\u001b[49m\u001b[38;5;241;43m=\u001b[39;49m\u001b[43mcopy\u001b[49m\u001b[43m)\u001b[49m\n\u001b[1;32m    184\u001b[0m \u001b[38;5;66;03m# in pandas we don't store numpy str dtypes, so convert to object\u001b[39;00m\n\u001b[1;32m    185\u001b[0m \u001b[38;5;28;01mif\u001b[39;00m \u001b[38;5;28misinstance\u001b[39m(dtype, np\u001b[38;5;241m.\u001b[39mdtype) \u001b[38;5;129;01mand\u001b[39;00m \u001b[38;5;28missubclass\u001b[39m(values\u001b[38;5;241m.\u001b[39mdtype\u001b[38;5;241m.\u001b[39mtype, \u001b[38;5;28mstr\u001b[39m):\n",
      "File \u001b[0;32m~/.cache/pypoetry/virtualenvs/zrive-ds-3iE0R8j--py3.11/lib/python3.11/site-packages/pandas/core/dtypes/astype.py:101\u001b[0m, in \u001b[0;36m_astype_nansafe\u001b[0;34m(arr, dtype, copy, skipna)\u001b[0m\n\u001b[1;32m     96\u001b[0m     \u001b[38;5;28;01mreturn\u001b[39;00m lib\u001b[38;5;241m.\u001b[39mensure_string_array(\n\u001b[1;32m     97\u001b[0m         arr, skipna\u001b[38;5;241m=\u001b[39mskipna, convert_na_value\u001b[38;5;241m=\u001b[39m\u001b[38;5;28;01mFalse\u001b[39;00m\n\u001b[1;32m     98\u001b[0m     )\u001b[38;5;241m.\u001b[39mreshape(shape)\n\u001b[1;32m    100\u001b[0m \u001b[38;5;28;01melif\u001b[39;00m np\u001b[38;5;241m.\u001b[39missubdtype(arr\u001b[38;5;241m.\u001b[39mdtype, np\u001b[38;5;241m.\u001b[39mfloating) \u001b[38;5;129;01mand\u001b[39;00m dtype\u001b[38;5;241m.\u001b[39mkind \u001b[38;5;129;01min\u001b[39;00m \u001b[38;5;124m\"\u001b[39m\u001b[38;5;124miu\u001b[39m\u001b[38;5;124m\"\u001b[39m:\n\u001b[0;32m--> 101\u001b[0m     \u001b[38;5;28;01mreturn\u001b[39;00m \u001b[43m_astype_float_to_int_nansafe\u001b[49m\u001b[43m(\u001b[49m\u001b[43marr\u001b[49m\u001b[43m,\u001b[49m\u001b[43m \u001b[49m\u001b[43mdtype\u001b[49m\u001b[43m,\u001b[49m\u001b[43m \u001b[49m\u001b[43mcopy\u001b[49m\u001b[43m)\u001b[49m\n\u001b[1;32m    103\u001b[0m \u001b[38;5;28;01melif\u001b[39;00m arr\u001b[38;5;241m.\u001b[39mdtype \u001b[38;5;241m==\u001b[39m \u001b[38;5;28mobject\u001b[39m:\n\u001b[1;32m    104\u001b[0m     \u001b[38;5;66;03m# if we have a datetime/timedelta array of objects\u001b[39;00m\n\u001b[1;32m    105\u001b[0m     \u001b[38;5;66;03m# then coerce to datetime64[ns] and use DatetimeArray.astype\u001b[39;00m\n\u001b[1;32m    107\u001b[0m     \u001b[38;5;28;01mif\u001b[39;00m lib\u001b[38;5;241m.\u001b[39mis_np_dtype(dtype, \u001b[38;5;124m\"\u001b[39m\u001b[38;5;124mM\u001b[39m\u001b[38;5;124m\"\u001b[39m):\n",
      "File \u001b[0;32m~/.cache/pypoetry/virtualenvs/zrive-ds-3iE0R8j--py3.11/lib/python3.11/site-packages/pandas/core/dtypes/astype.py:145\u001b[0m, in \u001b[0;36m_astype_float_to_int_nansafe\u001b[0;34m(values, dtype, copy)\u001b[0m\n\u001b[1;32m    141\u001b[0m \u001b[38;5;250m\u001b[39m\u001b[38;5;124;03m\"\"\"\u001b[39;00m\n\u001b[1;32m    142\u001b[0m \u001b[38;5;124;03mastype with a check preventing converting NaN to an meaningless integer value.\u001b[39;00m\n\u001b[1;32m    143\u001b[0m \u001b[38;5;124;03m\"\"\"\u001b[39;00m\n\u001b[1;32m    144\u001b[0m \u001b[38;5;28;01mif\u001b[39;00m \u001b[38;5;129;01mnot\u001b[39;00m np\u001b[38;5;241m.\u001b[39misfinite(values)\u001b[38;5;241m.\u001b[39mall():\n\u001b[0;32m--> 145\u001b[0m     \u001b[38;5;28;01mraise\u001b[39;00m IntCastingNaNError(\n\u001b[1;32m    146\u001b[0m         \u001b[38;5;124m\"\u001b[39m\u001b[38;5;124mCannot convert non-finite values (NA or inf) to integer\u001b[39m\u001b[38;5;124m\"\u001b[39m\n\u001b[1;32m    147\u001b[0m     )\n\u001b[1;32m    148\u001b[0m \u001b[38;5;28;01mif\u001b[39;00m dtype\u001b[38;5;241m.\u001b[39mkind \u001b[38;5;241m==\u001b[39m \u001b[38;5;124m\"\u001b[39m\u001b[38;5;124mu\u001b[39m\u001b[38;5;124m\"\u001b[39m:\n\u001b[1;32m    149\u001b[0m     \u001b[38;5;66;03m# GH#45151\u001b[39;00m\n\u001b[1;32m    150\u001b[0m     \u001b[38;5;28;01mif\u001b[39;00m \u001b[38;5;129;01mnot\u001b[39;00m (values \u001b[38;5;241m>\u001b[39m\u001b[38;5;241m=\u001b[39m \u001b[38;5;241m0\u001b[39m)\u001b[38;5;241m.\u001b[39mall():\n",
      "\u001b[0;31mIntCastingNaNError\u001b[0m: Cannot convert non-finite values (NA or inf) to integer"
     ]
    }
   ],
   "source": [
    "users['count_people'] = users['count_people'].astype('int64')\n",
    "users['count_adults'] = users['count_adults'].astype('int64')\n",
    "#users['count_children'] = users['count_children'].astype('int64')\n",
    "#users['count_babies'] = users['count_babies'].astype('int64')\n",
    "#users['count_pets'] = users['count_pets'].astype('int64')"
   ]
  },
  {
   "cell_type": "code",
   "execution_count": 50,
   "metadata": {},
   "outputs": [
    {
     "name": "stdout",
     "output_type": "stream",
     "text": [
      "<class 'pandas.core.frame.DataFrame'>\n",
      "RangeIndex: 4983 entries, 0 to 4982\n",
      "Data columns (total 11 columns):\n",
      " #   Column                 Non-Null Count  Dtype         \n",
      "---  ------                 --------------  -----         \n",
      " 0   user_id                4983 non-null   object        \n",
      " 1   user_segment           4983 non-null   object        \n",
      " 2   user_nuts1             4932 non-null   object        \n",
      " 3   first_ordered_at       4983 non-null   datetime64[us]\n",
      " 4   customer_cohort_month  4983 non-null   datetime64[us]\n",
      " 5   count_people           325 non-null    float64       \n",
      " 6   count_adults           4983 non-null   float64       \n",
      " 7   count_children         325 non-null    float64       \n",
      " 8   count_babies           325 non-null    float64       \n",
      " 9   count_pets             325 non-null    float64       \n",
      " 10  count_regulars         4983 non-null   float64       \n",
      "dtypes: datetime64[us](2), float64(6), object(3)\n",
      "memory usage: 428.4+ KB\n"
     ]
    }
   ],
   "source": [
    "users.info()"
   ]
  },
  {
   "cell_type": "markdown",
   "metadata": {},
   "source": [
    "## 2. Understanding the problem\n",
    "Understand the problem at hand through data interrogation and hypothesis testing.\n",
    "\n",
    "Gather all the hypothesis and insights you have tested and found.\n"
   ]
  },
  {
   "cell_type": "markdown",
   "metadata": {},
   "source": [
    "Data interrogation:\n",
    "* How many products does the company sell\n",
    "* How many products are abandoned\n",
    "* How many regular products are sold \n",
    "* What are the best selling products\n",
    "* Which are the top clients\n",
    "* What is the profile of the clients\n",
    "* Are our clients loyal, or do they only have one order?\n",
    "* Do users define their regular products?\n",
    "* What kind of products do users define as their regulars"
   ]
  },
  {
   "cell_type": "markdown",
   "metadata": {},
   "source": [
    "**a. How many products does the company sell each day**"
   ]
  },
  {
   "cell_type": "markdown",
   "metadata": {},
   "source": [
    "First, I calculate the number of products bought in each order:"
   ]
  },
  {
   "cell_type": "code",
   "execution_count": 51,
   "metadata": {},
   "outputs": [
    {
     "name": "stderr",
     "output_type": "stream",
     "text": [
      "/tmp/ipykernel_154450/1249169935.py:1: SettingWithCopyWarning: \n",
      "A value is trying to be set on a copy of a slice from a DataFrame.\n",
      "Try using .loc[row_indexer,col_indexer] = value instead\n",
      "\n",
      "See the caveats in the documentation: https://pandas.pydata.org/pandas-docs/stable/user_guide/indexing.html#returning-a-view-versus-a-copy\n",
      "  data['product_order_count'] = data['ordered_items'].apply(len)\n"
     ]
    }
   ],
   "source": [
    "data['product_order_count'] = data['ordered_items'].apply(len)"
   ]
  },
  {
   "cell_type": "markdown",
   "metadata": {},
   "source": [
    "Now, plot an histogram with the number of sold products. For clarity, I do a different plot for each year and plot the monthly sales."
   ]
  },
  {
   "cell_type": "code",
   "execution_count": 52,
   "metadata": {},
   "outputs": [
    {
     "data": {
      "image/png": "[encoded data removed]",
      "text/plain": [
       "<Figure size 640x480 with 1 Axes>"
      ]
     },
     "metadata": {},
     "output_type": "display_data"
    },
    {
     "data": {
      "image/png": "[encoded data removed]",
      "text/plain": [
       "<Figure size 640x480 with 1 Axes>"
      ]
     },
     "metadata": {},
     "output_type": "display_data"
    },
    {
     "data": {
      "image/png": "[encoded data removed]",
      "text/plain": [
       "<Figure size 640x480 with 1 Axes>"
      ]
     },
     "metadata": {},
     "output_type": "display_data"
    }
   ],
   "source": [
    "# Aggregate counts by order year and month\n",
    "grouped_data = data.groupby([data['order_date'].dt.year, data['order_date'].dt.month])\n",
    "monthly_sales = grouped_data['product_order_count'].sum()\n",
    "\n",
    "for year in monthly_sales.index.get_level_values(0).unique():\n",
    "    monthly_sales.loc[year].plot(kind='bar')\n",
    "    plt.title(f'Number of Products Sold Each Month in the year {year}')\n",
    "    plt.xlabel('Order Date')\n",
    "    plt.ylabel('Products Sold')\n",
    "    plt.xticks(ticks=range(len(monthly_sales.loc[year])), labels=[f'{year}-{month:02d}' for month in monthly_sales.loc[year].index], rotation=45)\n",
    "    plt.show()"
   ]
  },
  {
   "cell_type": "markdown",
   "metadata": {},
   "source": [
    "To get a more general overview, plot all the years together:"
   ]
  },
  {
   "cell_type": "code",
   "execution_count": 53,
   "metadata": {},
   "outputs": [
    {
     "data": {
      "image/png": "[encoded data removed]",
      "text/plain": [
       "<Figure size 640x480 with 1 Axes>"
      ]
     },
     "metadata": {},
     "output_type": "display_data"
    }
   ],
   "source": [
    "monthly_sales.plot(kind='bar')\n",
    "plt.title('Number of Sold Products Sold Each Month')\n",
    "plt.xlabel('Month')\n",
    "plt.ylabel('Count of Regular Products Sold')\n",
    "plt.xticks(ticks=range(len(monthly_sales)), labels=[f'{year}-{month:02d}' for year, month in monthly_sales.index], rotation=90)\n",
    "plt.show()"
   ]
  },
  {
   "cell_type": "markdown",
   "metadata": {},
   "source": [
    "We can observe that the last months of the year are the ones when more products are sold. Furthermore, in January and February of 2022 we can observe that the company arrived to the most successful month, with more than 8000 products sold.\n",
    "\n",
    "Something that caughts my attention is how the number of products sold increases drastically each year, indicating that, probably, the strategies been performed by the company are flourishing."
   ]
  },
  {
   "cell_type": "markdown",
   "metadata": {},
   "source": [
    "**b. How many products are abandoned**\n",
    "\n",
    "To get more insights, I will plot the number of prodcuts abandoned each month, together with the number of products that are indeed sold."
   ]
  },
  {
   "cell_type": "code",
   "execution_count": 54,
   "metadata": {},
   "outputs": [
    {
     "name": "stderr",
     "output_type": "stream",
     "text": [
      "/tmp/ipykernel_154450/3027958918.py:1: SettingWithCopyWarning: \n",
      "A value is trying to be set on a copy of a slice from a DataFrame.\n",
      "Try using .loc[row_indexer,col_indexer] = value instead\n",
      "\n",
      "See the caveats in the documentation: https://pandas.pydata.org/pandas-docs/stable/user_guide/indexing.html#returning-a-view-versus-a-copy\n",
      "  data['product_abandoned_count'] = data['abandoned_items'].apply(len)\n"
     ]
    }
   ],
   "source": [
    "data['product_abandoned_count'] = data['abandoned_items'].apply(len)"
   ]
  },
  {
   "cell_type": "code",
   "execution_count": 55,
   "metadata": {},
   "outputs": [
    {
     "name": "stderr",
     "output_type": "stream",
     "text": [
      "/tmp/ipykernel_154450/1745198578.py:3: FutureWarning: The provided callable <built-in function sum> is currently using SeriesGroupBy.sum. In a future version of pandas, the provided callable will be used directly. To keep current behavior pass the string \"sum\" instead.\n",
      "  monthly_data = grouped_data.agg({\n"
     ]
    },
    {
     "data": {
      "image/png": "[encoded data removed]",
      "text/plain": [
       "<Figure size 640x480 with 1 Axes>"
      ]
     },
     "metadata": {},
     "output_type": "display_data"
    },
    {
     "data": {
      "image/png": "[encoded data removed]",
      "text/plain": [
       "<Figure size 640x480 with 1 Axes>"
      ]
     },
     "metadata": {},
     "output_type": "display_data"
    },
    {
     "data": {
      "image/png": "[encoded data removed]",
      "text/plain": [
       "<Figure size 640x480 with 1 Axes>"
      ]
     },
     "metadata": {},
     "output_type": "display_data"
    }
   ],
   "source": [
    "# Aggregate counts by order year and month\n",
    "grouped_data = data.groupby([data['order_date'].dt.year, data['order_date'].dt.month])\n",
    "monthly_data = grouped_data.agg({\n",
    "    'product_order_count' : 'sum',\n",
    "    'product_abandoned_count' : sum\n",
    "    })\n",
    "\n",
    "for year in monthly_sales.index.get_level_values(0).unique():\n",
    "    monthly_data.loc[year].plot(kind='bar', stacked = True)\n",
    "    plt.title(f'Number of Products Sold and Abandoned Each Month in the year {year}')\n",
    "    plt.xlabel('Order Date')\n",
    "    plt.ylabel('Products Sold')\n",
    "    plt.xticks(ticks=range(len(monthly_sales.loc[year])), labels=[f'{year}-{month:02d}' for month in monthly_sales.loc[year].index], rotation=45)\n",
    "    plt.legend(['Ordered products', 'Abandoned products'])\n",
    "    plt.show()"
   ]
  },
  {
   "cell_type": "markdown",
   "metadata": {},
   "source": [
    "We can observe that, comparing to the number of products that are sold, not that many products are abandoned. Furthermore, we can see that in 2020, there are not many products registered as abandoned. On the other hand, in the last months of 2021, many products were, specially in December."
   ]
  },
  {
   "cell_type": "markdown",
   "metadata": {},
   "source": [
    "**c. How many of the products sold are regular ones**"
   ]
  },
  {
   "cell_type": "code",
   "execution_count": 56,
   "metadata": {},
   "outputs": [],
   "source": [
    "# Function to calculate the count of regular items ordered\n",
    "def count_regulars(row):\n",
    "    # Set intersection to find regular items in the order\n",
    "    return len(set(row['ordered_items']) & set(row['regular_items']))"
   ]
  },
  {
   "cell_type": "code",
   "execution_count": 57,
   "metadata": {},
   "outputs": [
    {
     "name": "stderr",
     "output_type": "stream",
     "text": [
      "/tmp/ipykernel_154450/3098253969.py:1: SettingWithCopyWarning: \n",
      "A value is trying to be set on a copy of a slice from a DataFrame.\n",
      "Try using .loc[row_indexer,col_indexer] = value instead\n",
      "\n",
      "See the caveats in the documentation: https://pandas.pydata.org/pandas-docs/stable/user_guide/indexing.html#returning-a-view-versus-a-copy\n",
      "  data['regular_items_count'] = data.apply(count_regulars, axis=1)\n"
     ]
    },
    {
     "data": {
      "image/png": "[encoded data removed]",
      "text/plain": [
       "<Figure size 640x480 with 1 Axes>"
      ]
     },
     "metadata": {},
     "output_type": "display_data"
    }
   ],
   "source": [
    "data['regular_items_count'] = data.apply(count_regulars, axis=1)\n",
    "\n",
    "\n",
    "monthly_regulars = data.groupby([data['order_date'].dt.year, data['order_date'].dt.month])['regular_items_count'].sum()\n",
    "\n",
    "monthly_regulars.plot(kind='bar')\n",
    "plt.title('Number of Regular Products Sold Each Month')\n",
    "plt.xlabel('Month')\n",
    "plt.ylabel('Count of Regular Products Sold')\n",
    "plt.xticks(ticks=range(len(monthly_regulars)), labels=[f'{year}-{month:02d}' for year, month in monthly_regulars.index], rotation=90)\n",
    "plt.show()"
   ]
  },
  {
   "cell_type": "markdown",
   "metadata": {},
   "source": [
    "We can observe that the distribution is very similar to the one of the sold products."
   ]
  },
  {
   "cell_type": "markdown",
   "metadata": {},
   "source": [
    "**d. What are the best selling products**"
   ]
  },
  {
   "cell_type": "code",
   "execution_count": 58,
   "metadata": {},
   "outputs": [
    {
     "data": {
      "text/html": [
       "<div>\n",
       "<style scoped>\n",
       "    .dataframe tbody tr th:only-of-type {\n",
       "        vertical-align: middle;\n",
       "    }\n",
       "\n",
       "    .dataframe tbody tr th {\n",
       "        vertical-align: top;\n",
       "    }\n",
       "\n",
       "    .dataframe thead th {\n",
       "        text-align: right;\n",
       "    }\n",
       "</style>\n",
       "<table border=\"1\" class=\"dataframe\">\n",
       "  <thead>\n",
       "    <tr style=\"text-align: right;\">\n",
       "      <th></th>\n",
       "      <th>variant_id</th>\n",
       "      <th>price</th>\n",
       "      <th>compare_at_price</th>\n",
       "      <th>vendor</th>\n",
       "      <th>product_type</th>\n",
       "      <th>tags</th>\n",
       "    </tr>\n",
       "  </thead>\n",
       "  <tbody>\n",
       "    <tr>\n",
       "      <th>1</th>\n",
       "      <td>34370361229444</td>\n",
       "      <td>4.99</td>\n",
       "      <td>5.50</td>\n",
       "      <td>whogivesacrap</td>\n",
       "      <td>toilet-roll-kitchen-roll-tissue</td>\n",
       "      <td>[b-corp, eco, toilet-rolls]</td>\n",
       "    </tr>\n",
       "    <tr>\n",
       "      <th>2</th>\n",
       "      <td>34284951863428</td>\n",
       "      <td>3.69</td>\n",
       "      <td>3.99</td>\n",
       "      <td>plenty</td>\n",
       "      <td>toilet-roll-kitchen-roll-tissue</td>\n",
       "      <td>[kitchen-roll]</td>\n",
       "    </tr>\n",
       "    <tr>\n",
       "      <th>63</th>\n",
       "      <td>34081589887108</td>\n",
       "      <td>10.79</td>\n",
       "      <td>11.94</td>\n",
       "      <td>oatly</td>\n",
       "      <td>long-life-milk-substitutes</td>\n",
       "      <td>[oat-milk, vegan]</td>\n",
       "    </tr>\n",
       "    <tr>\n",
       "      <th>109</th>\n",
       "      <td>34284949766276</td>\n",
       "      <td>8.49</td>\n",
       "      <td>9.00</td>\n",
       "      <td>andrex</td>\n",
       "      <td>toilet-roll-kitchen-roll-tissue</td>\n",
       "      <td>[toilet-rolls]</td>\n",
       "    </tr>\n",
       "    <tr>\n",
       "      <th>116</th>\n",
       "      <td>33826465153156</td>\n",
       "      <td>1.89</td>\n",
       "      <td>1.99</td>\n",
       "      <td>clearspring</td>\n",
       "      <td>tins-packaged-foods</td>\n",
       "      <td>[gluten-free, meat-alternatives, vegan]</td>\n",
       "    </tr>\n",
       "    <tr>\n",
       "      <th>476</th>\n",
       "      <td>34537169715332</td>\n",
       "      <td>13.69</td>\n",
       "      <td>13.79</td>\n",
       "      <td>catsan</td>\n",
       "      <td>pet-care</td>\n",
       "      <td>[pet-care]</td>\n",
       "    </tr>\n",
       "    <tr>\n",
       "      <th>928</th>\n",
       "      <td>34284950356100</td>\n",
       "      <td>1.99</td>\n",
       "      <td>3.00</td>\n",
       "      <td>fairy</td>\n",
       "      <td>dishwashing</td>\n",
       "      <td>[discontinue, swapped, washing-up-liquid]</td>\n",
       "    </tr>\n",
       "  </tbody>\n",
       "</table>\n",
       "</div>"
      ],
      "text/plain": [
       "         variant_id  price  compare_at_price         vendor  \\\n",
       "1    34370361229444   4.99              5.50  whogivesacrap   \n",
       "2    34284951863428   3.69              3.99         plenty   \n",
       "63   34081589887108  10.79             11.94          oatly   \n",
       "109  34284949766276   8.49              9.00         andrex   \n",
       "116  33826465153156   1.89              1.99    clearspring   \n",
       "476  34537169715332  13.69             13.79         catsan   \n",
       "928  34284950356100   1.99              3.00          fairy   \n",
       "\n",
       "                        product_type  \\\n",
       "1    toilet-roll-kitchen-roll-tissue   \n",
       "2    toilet-roll-kitchen-roll-tissue   \n",
       "63        long-life-milk-substitutes   \n",
       "109  toilet-roll-kitchen-roll-tissue   \n",
       "116              tins-packaged-foods   \n",
       "476                         pet-care   \n",
       "928                      dishwashing   \n",
       "\n",
       "                                          tags  \n",
       "1                  [b-corp, eco, toilet-rolls]  \n",
       "2                               [kitchen-roll]  \n",
       "63                           [oat-milk, vegan]  \n",
       "109                             [toilet-rolls]  \n",
       "116    [gluten-free, meat-alternatives, vegan]  \n",
       "476                                 [pet-care]  \n",
       "928  [discontinue, swapped, washing-up-liquid]  "
      ]
     },
     "execution_count": 58,
     "metadata": {},
     "output_type": "execute_result"
    }
   ],
   "source": [
    "# Flatten the 'ordered_items' lists\n",
    "all_ordered_items = [item for sublist in data['ordered_items'] for item in sublist]\n",
    "\n",
    "# Count occurrences of each product\n",
    "product_counts = pd.Series(all_ordered_items).value_counts()\n",
    "\n",
    "# Get the top 10 best-selling products\n",
    "top_10_products = product_counts.head(10)\n",
    "\n",
    "# Get the informarion of these products\n",
    "top_10_details = inventory[inventory['variant_id'].isin(top_10_products.index)]\n",
    "top_10_details"
   ]
  },
  {
   "cell_type": "markdown",
   "metadata": {},
   "source": [
    "We can observe that the best-selling products include toilet and kitchen rolls, oat milk, vegan packaged foods, pet-care items, and dishwashing products. However, it is important to note that inventory data for some of these top-selling products is missing. Understanding the reasons for this absence of data is crucial; for instance, these products may have been discontinued. Additionally, investigating what these specific products were could provide further insights."
   ]
  },
  {
   "cell_type": "markdown",
   "metadata": {},
   "source": [
    "**e. What are the top 10 clients**"
   ]
  },
  {
   "cell_type": "code",
   "execution_count": 59,
   "metadata": {},
   "outputs": [
    {
     "data": {
      "text/html": [
       "<div>\n",
       "<style scoped>\n",
       "    .dataframe tbody tr th:only-of-type {\n",
       "        vertical-align: middle;\n",
       "    }\n",
       "\n",
       "    .dataframe tbody tr th {\n",
       "        vertical-align: top;\n",
       "    }\n",
       "\n",
       "    .dataframe thead th {\n",
       "        text-align: right;\n",
       "    }\n",
       "</style>\n",
       "<table border=\"1\" class=\"dataframe\">\n",
       "  <thead>\n",
       "    <tr style=\"text-align: right;\">\n",
       "      <th></th>\n",
       "      <th>user_id</th>\n",
       "      <th>user_segment</th>\n",
       "      <th>user_nuts1</th>\n",
       "      <th>first_ordered_at</th>\n",
       "      <th>customer_cohort_month</th>\n",
       "      <th>count_people</th>\n",
       "      <th>count_adults</th>\n",
       "      <th>count_children</th>\n",
       "      <th>count_babies</th>\n",
       "      <th>count_pets</th>\n",
       "      <th>count_regulars</th>\n",
       "    </tr>\n",
       "  </thead>\n",
       "  <tbody>\n",
       "    <tr>\n",
       "      <th>169</th>\n",
       "      <td>361235e2decd78440db688cc8ca0abf6ec6725dd5a2e6c...</td>\n",
       "      <td>Proposition</td>\n",
       "      <td>None</td>\n",
       "      <td>2021-11-26 13:19:47</td>\n",
       "      <td>2021-11-01</td>\n",
       "      <td>NaN</td>\n",
       "      <td>1.0</td>\n",
       "      <td>NaN</td>\n",
       "      <td>NaN</td>\n",
       "      <td>NaN</td>\n",
       "      <td>20.0</td>\n",
       "    </tr>\n",
       "    <tr>\n",
       "      <th>712</th>\n",
       "      <td>51bc89eb83c0d3c049f45d4935207f2d39e80b02931521...</td>\n",
       "      <td>Proposition</td>\n",
       "      <td>UKH</td>\n",
       "      <td>2021-09-14 16:45:35</td>\n",
       "      <td>2021-09-01</td>\n",
       "      <td>NaN</td>\n",
       "      <td>1.0</td>\n",
       "      <td>NaN</td>\n",
       "      <td>NaN</td>\n",
       "      <td>NaN</td>\n",
       "      <td>28.0</td>\n",
       "    </tr>\n",
       "    <tr>\n",
       "      <th>750</th>\n",
       "      <td>a8ea4d1ff9cfc5005b7354d1d17564347dd842bab2a6c3...</td>\n",
       "      <td>Top Up</td>\n",
       "      <td>UKF</td>\n",
       "      <td>2022-01-31 21:11:09</td>\n",
       "      <td>2022-01-01</td>\n",
       "      <td>NaN</td>\n",
       "      <td>1.0</td>\n",
       "      <td>NaN</td>\n",
       "      <td>NaN</td>\n",
       "      <td>NaN</td>\n",
       "      <td>0.0</td>\n",
       "    </tr>\n",
       "    <tr>\n",
       "      <th>832</th>\n",
       "      <td>111d37baa4fb9dde7c557b4057dfd7eff8205dc0e27190...</td>\n",
       "      <td>Top Up</td>\n",
       "      <td>UKL</td>\n",
       "      <td>2021-11-30 15:08:45</td>\n",
       "      <td>2021-11-01</td>\n",
       "      <td>NaN</td>\n",
       "      <td>1.0</td>\n",
       "      <td>NaN</td>\n",
       "      <td>NaN</td>\n",
       "      <td>NaN</td>\n",
       "      <td>9.0</td>\n",
       "    </tr>\n",
       "    <tr>\n",
       "      <th>1145</th>\n",
       "      <td>a124c8bb0453ea0957405b7a08a7fd377247bac054a097...</td>\n",
       "      <td>Proposition</td>\n",
       "      <td>UKK</td>\n",
       "      <td>2021-12-08 19:53:09</td>\n",
       "      <td>2021-12-01</td>\n",
       "      <td>NaN</td>\n",
       "      <td>1.0</td>\n",
       "      <td>NaN</td>\n",
       "      <td>NaN</td>\n",
       "      <td>NaN</td>\n",
       "      <td>49.0</td>\n",
       "    </tr>\n",
       "    <tr>\n",
       "      <th>2005</th>\n",
       "      <td>fffd9f989509e36d1fc3e3e53627d6341482f385052a03...</td>\n",
       "      <td>Top Up</td>\n",
       "      <td>UKF</td>\n",
       "      <td>2021-10-21 18:17:53</td>\n",
       "      <td>2021-10-01</td>\n",
       "      <td>NaN</td>\n",
       "      <td>1.0</td>\n",
       "      <td>NaN</td>\n",
       "      <td>NaN</td>\n",
       "      <td>NaN</td>\n",
       "      <td>11.0</td>\n",
       "    </tr>\n",
       "    <tr>\n",
       "      <th>2771</th>\n",
       "      <td>4481102740bca52c40ca264bf88c39f0bc7d1f461b0629...</td>\n",
       "      <td>Top Up</td>\n",
       "      <td>UKJ</td>\n",
       "      <td>2021-04-20 09:57:51</td>\n",
       "      <td>2021-04-01</td>\n",
       "      <td>4.0</td>\n",
       "      <td>3.0</td>\n",
       "      <td>1.0</td>\n",
       "      <td>0.0</td>\n",
       "      <td>1.0</td>\n",
       "      <td>53.0</td>\n",
       "    </tr>\n",
       "    <tr>\n",
       "      <th>2997</th>\n",
       "      <td>1dacfd2a360677052d8605f843ae410dd23b0ddb7f506c...</td>\n",
       "      <td>Proposition</td>\n",
       "      <td>UKG</td>\n",
       "      <td>2021-08-06 09:23:27</td>\n",
       "      <td>2021-08-01</td>\n",
       "      <td>NaN</td>\n",
       "      <td>1.0</td>\n",
       "      <td>NaN</td>\n",
       "      <td>NaN</td>\n",
       "      <td>NaN</td>\n",
       "      <td>16.0</td>\n",
       "    </tr>\n",
       "    <tr>\n",
       "      <th>3476</th>\n",
       "      <td>a725fbe5a75dce9540b3ed082270e4e357425949bae903...</td>\n",
       "      <td>Top Up</td>\n",
       "      <td>UKH</td>\n",
       "      <td>2022-01-12 13:38:49</td>\n",
       "      <td>2022-01-01</td>\n",
       "      <td>NaN</td>\n",
       "      <td>1.0</td>\n",
       "      <td>NaN</td>\n",
       "      <td>NaN</td>\n",
       "      <td>NaN</td>\n",
       "      <td>7.0</td>\n",
       "    </tr>\n",
       "    <tr>\n",
       "      <th>3505</th>\n",
       "      <td>257be7ae940425880bbb20bf162c2616b32881bf0a8bda...</td>\n",
       "      <td>Top Up</td>\n",
       "      <td>UKI</td>\n",
       "      <td>2021-06-10 15:00:55</td>\n",
       "      <td>2021-06-01</td>\n",
       "      <td>4.0</td>\n",
       "      <td>2.0</td>\n",
       "      <td>2.0</td>\n",
       "      <td>0.0</td>\n",
       "      <td>0.0</td>\n",
       "      <td>36.0</td>\n",
       "    </tr>\n",
       "  </tbody>\n",
       "</table>\n",
       "</div>"
      ],
      "text/plain": [
       "                                                user_id user_segment  \\\n",
       "169   361235e2decd78440db688cc8ca0abf6ec6725dd5a2e6c...  Proposition   \n",
       "712   51bc89eb83c0d3c049f45d4935207f2d39e80b02931521...  Proposition   \n",
       "750   a8ea4d1ff9cfc5005b7354d1d17564347dd842bab2a6c3...       Top Up   \n",
       "832   111d37baa4fb9dde7c557b4057dfd7eff8205dc0e27190...       Top Up   \n",
       "1145  a124c8bb0453ea0957405b7a08a7fd377247bac054a097...  Proposition   \n",
       "2005  fffd9f989509e36d1fc3e3e53627d6341482f385052a03...       Top Up   \n",
       "2771  4481102740bca52c40ca264bf88c39f0bc7d1f461b0629...       Top Up   \n",
       "2997  1dacfd2a360677052d8605f843ae410dd23b0ddb7f506c...  Proposition   \n",
       "3476  a725fbe5a75dce9540b3ed082270e4e357425949bae903...       Top Up   \n",
       "3505  257be7ae940425880bbb20bf162c2616b32881bf0a8bda...       Top Up   \n",
       "\n",
       "     user_nuts1    first_ordered_at customer_cohort_month  count_people  \\\n",
       "169        None 2021-11-26 13:19:47            2021-11-01           NaN   \n",
       "712         UKH 2021-09-14 16:45:35            2021-09-01           NaN   \n",
       "750         UKF 2022-01-31 21:11:09            2022-01-01           NaN   \n",
       "832         UKL 2021-11-30 15:08:45            2021-11-01           NaN   \n",
       "1145        UKK 2021-12-08 19:53:09            2021-12-01           NaN   \n",
       "2005        UKF 2021-10-21 18:17:53            2021-10-01           NaN   \n",
       "2771        UKJ 2021-04-20 09:57:51            2021-04-01           4.0   \n",
       "2997        UKG 2021-08-06 09:23:27            2021-08-01           NaN   \n",
       "3476        UKH 2022-01-12 13:38:49            2022-01-01           NaN   \n",
       "3505        UKI 2021-06-10 15:00:55            2021-06-01           4.0   \n",
       "\n",
       "      count_adults  count_children  count_babies  count_pets  count_regulars  \n",
       "169            1.0             NaN           NaN         NaN            20.0  \n",
       "712            1.0             NaN           NaN         NaN            28.0  \n",
       "750            1.0             NaN           NaN         NaN             0.0  \n",
       "832            1.0             NaN           NaN         NaN             9.0  \n",
       "1145           1.0             NaN           NaN         NaN            49.0  \n",
       "2005           1.0             NaN           NaN         NaN            11.0  \n",
       "2771           3.0             1.0           0.0         1.0            53.0  \n",
       "2997           1.0             NaN           NaN         NaN            16.0  \n",
       "3476           1.0             NaN           NaN         NaN             7.0  \n",
       "3505           2.0             2.0           0.0         0.0            36.0  "
      ]
     },
     "execution_count": 59,
     "metadata": {},
     "output_type": "execute_result"
    }
   ],
   "source": [
    "# Flatten users\n",
    "all_ordered_users = [user_id for user_id in data['user_id']]\n",
    "\n",
    "# Count occurrences of each client\n",
    "user_counts = pd.Series(all_ordered_users).value_counts()\n",
    "\n",
    "# Get the top 10 clients\n",
    "top_10_clients = user_counts.head(10)\n",
    "\n",
    "# Get the informarion of these clients\n",
    "top_10_clients_details = users[users['user_id'].isin(top_10_clients.index)]\n",
    "top_10_clients_details"
   ]
  },
  {
   "cell_type": "markdown",
   "metadata": {},
   "source": [
    "**f. What is the profile of the clients?**"
   ]
  },
  {
   "cell_type": "markdown",
   "metadata": {},
   "source": [
    "As previously mentioned, I will only be working with a subset of the clients; with those that have information regarding their household."
   ]
  },
  {
   "cell_type": "code",
   "execution_count": 60,
   "metadata": {},
   "outputs": [
    {
     "data": {
      "text/plain": [
       "{'any_count_people': 0.9938461538461538,\n",
       " 'any_count_adults': 15.323076923076924,\n",
       " 'any_count_children': 0.4,\n",
       " 'any_count_babies': 0.07076923076923076,\n",
       " 'any_count_pets': 0.40615384615384614,\n",
       " 'any_count_regulars': 4.455384615384616}"
      ]
     },
     "execution_count": 60,
     "metadata": {},
     "output_type": "execute_result"
    }
   ],
   "source": [
    "family_codes = [col for col in users.columns if col.startswith('count')]\n",
    "familiy_inputs = users.count_people.dropna().count()\n",
    "\n",
    "household_info = {f\"any_{col}\" : (users[col]>0).sum() / familiy_inputs for col in family_codes}\n",
    "household_info"
   ]
  },
  {
   "cell_type": "code",
   "execution_count": 64,
   "metadata": {},
   "outputs": [
    {
     "data": {
      "text/plain": [
       "0.6123076923076923"
      ]
     },
     "execution_count": 64,
     "metadata": {},
     "output_type": "execute_result"
    }
   ],
   "source": [
    "# Households with either pets, children or babies\n",
    "(users[['count_children', 'count_babies', 'count_pets']].sum(axis=1) > 0).sum() / familiy_inputs"
   ]
  },
  {
   "cell_type": "markdown",
   "metadata": {},
   "source": [
    "We can observe that 40% of the houses have children, 7% have babies, and 40% have pets. Additionally, we can observe that 61% of the houses have either pets, children or babies. "
   ]
  },
  {
   "cell_type": "code",
   "execution_count": 70,
   "metadata": {},
   "outputs": [
    {
     "name": "stdout",
     "output_type": "stream",
     "text": [
      "325\n",
      "4983\n",
      "0.06522175396347582\n"
     ]
    }
   ],
   "source": [
    "print(familiy_inputs)\n",
    "print(len(users))\n",
    "print(familiy_inputs/len(users))"
   ]
  },
  {
   "cell_type": "markdown",
   "metadata": {},
   "source": [
    "Nevertheless, it is worth mentioning that this subset only represents 6% of our clients, as we obly have family composition information for this small subset. "
   ]
  },
  {
   "cell_type": "markdown",
   "metadata": {},
   "source": [
    "Now, we will see the NUTS1 distribution:"
   ]
  },
  {
   "cell_type": "code",
   "execution_count": 81,
   "metadata": {},
   "outputs": [
    {
     "data": {
      "image/png": "[encoded data removed]",
      "text/plain": [
       "<Figure size 640x480 with 1 Axes>"
      ]
     },
     "metadata": {},
     "output_type": "display_data"
    }
   ],
   "source": [
    "plt.hist(users['user_nuts1'].dropna(), bins=30, edgecolor='black')\n",
    "plt.title('Histogram of NUTS1')\n",
    "plt.xlabel('NUTS1')\n",
    "plt.ylabel('Number of Users')\n",
    "plt.show()"
   ]
  },
  {
   "cell_type": "markdown",
   "metadata": {},
   "source": [
    "We can observe that most users come from UKI, and all of them are from UK."
   ]
  },
  {
   "cell_type": "markdown",
   "metadata": {},
   "source": [
    "**g. Are our clients loyal, or do they only have one order?**"
   ]
  },
  {
   "cell_type": "code",
   "execution_count": 92,
   "metadata": {},
   "outputs": [
    {
     "data": {
      "text/plain": [
       "<Axes: xlabel='user_order_seq'>"
      ]
     },
     "execution_count": 92,
     "metadata": {},
     "output_type": "execute_result"
    },
    {
     "data": {
      "image/png": "[encoded data removed]",
      "text/plain": [
       "<Figure size 640x480 with 1 Axes>"
      ]
     },
     "metadata": {},
     "output_type": "display_data"
    }
   ],
   "source": [
    "orders['user_order_seq'].value_counts().plot(kind=\"bar\")"
   ]
  },
  {
   "cell_type": "markdown",
   "metadata": {},
   "source": [
    "Unfortunately, it appears that the majority of our users place only a single order and do not return. This pattern suggests potential areas for improvement in customer retention strategies."
   ]
  },
  {
   "cell_type": "markdown",
   "metadata": {},
   "source": [
    "**h. Do users define their regular products?**"
   ]
  },
  {
   "cell_type": "code",
   "execution_count": 61,
   "metadata": {},
   "outputs": [
    {
     "data": {
      "text/html": [
       "<div>\n",
       "<style scoped>\n",
       "    .dataframe tbody tr th:only-of-type {\n",
       "        vertical-align: middle;\n",
       "    }\n",
       "\n",
       "    .dataframe tbody tr th {\n",
       "        vertical-align: top;\n",
       "    }\n",
       "\n",
       "    .dataframe thead th {\n",
       "        text-align: right;\n",
       "    }\n",
       "</style>\n",
       "<table border=\"1\" class=\"dataframe\">\n",
       "  <thead>\n",
       "    <tr style=\"text-align: right;\">\n",
       "      <th></th>\n",
       "      <th>first_ordered_at</th>\n",
       "      <th>customer_cohort_month</th>\n",
       "      <th>count_people</th>\n",
       "      <th>count_adults</th>\n",
       "      <th>count_children</th>\n",
       "      <th>count_babies</th>\n",
       "      <th>count_pets</th>\n",
       "      <th>count_regulars</th>\n",
       "    </tr>\n",
       "  </thead>\n",
       "  <tbody>\n",
       "    <tr>\n",
       "      <th>count</th>\n",
       "      <td>4983</td>\n",
       "      <td>4983</td>\n",
       "      <td>325.000000</td>\n",
       "      <td>4983.000000</td>\n",
       "      <td>325.000000</td>\n",
       "      <td>325.000000</td>\n",
       "      <td>325.000000</td>\n",
       "      <td>4983.000000</td>\n",
       "    </tr>\n",
       "    <tr>\n",
       "      <th>mean</th>\n",
       "      <td>2021-08-20 02:41:47.038330</td>\n",
       "      <td>2021-08-04 22:37:03.720650</td>\n",
       "      <td>2.787692</td>\n",
       "      <td>1.065422</td>\n",
       "      <td>0.707692</td>\n",
       "      <td>0.076923</td>\n",
       "      <td>0.636923</td>\n",
       "      <td>2.481437</td>\n",
       "    </tr>\n",
       "    <tr>\n",
       "      <th>min</th>\n",
       "      <td>2020-04-30 14:32:19</td>\n",
       "      <td>2020-04-01 00:00:00</td>\n",
       "      <td>0.000000</td>\n",
       "      <td>0.000000</td>\n",
       "      <td>0.000000</td>\n",
       "      <td>0.000000</td>\n",
       "      <td>0.000000</td>\n",
       "      <td>0.000000</td>\n",
       "    </tr>\n",
       "    <tr>\n",
       "      <th>25%</th>\n",
       "      <td>2021-04-08 12:55:48.500000</td>\n",
       "      <td>2021-04-01 00:00:00</td>\n",
       "      <td>2.000000</td>\n",
       "      <td>1.000000</td>\n",
       "      <td>0.000000</td>\n",
       "      <td>0.000000</td>\n",
       "      <td>0.000000</td>\n",
       "      <td>0.000000</td>\n",
       "    </tr>\n",
       "    <tr>\n",
       "      <th>50%</th>\n",
       "      <td>2021-10-26 22:48:14</td>\n",
       "      <td>2021-10-01 00:00:00</td>\n",
       "      <td>3.000000</td>\n",
       "      <td>1.000000</td>\n",
       "      <td>0.000000</td>\n",
       "      <td>0.000000</td>\n",
       "      <td>0.000000</td>\n",
       "      <td>0.000000</td>\n",
       "    </tr>\n",
       "    <tr>\n",
       "      <th>75%</th>\n",
       "      <td>2022-01-03 12:38:51.500000</td>\n",
       "      <td>2022-01-01 00:00:00</td>\n",
       "      <td>4.000000</td>\n",
       "      <td>1.000000</td>\n",
       "      <td>1.000000</td>\n",
       "      <td>0.000000</td>\n",
       "      <td>1.000000</td>\n",
       "      <td>1.000000</td>\n",
       "    </tr>\n",
       "    <tr>\n",
       "      <th>max</th>\n",
       "      <td>2022-03-12 14:48:34</td>\n",
       "      <td>2022-03-01 00:00:00</td>\n",
       "      <td>8.000000</td>\n",
       "      <td>7.000000</td>\n",
       "      <td>6.000000</td>\n",
       "      <td>2.000000</td>\n",
       "      <td>6.000000</td>\n",
       "      <td>320.000000</td>\n",
       "    </tr>\n",
       "    <tr>\n",
       "      <th>std</th>\n",
       "      <td>NaN</td>\n",
       "      <td>NaN</td>\n",
       "      <td>1.365753</td>\n",
       "      <td>0.332464</td>\n",
       "      <td>1.026246</td>\n",
       "      <td>0.289086</td>\n",
       "      <td>0.995603</td>\n",
       "      <td>8.890588</td>\n",
       "    </tr>\n",
       "  </tbody>\n",
       "</table>\n",
       "</div>"
      ],
      "text/plain": [
       "                 first_ordered_at       customer_cohort_month  count_people  \\\n",
       "count                        4983                        4983    325.000000   \n",
       "mean   2021-08-20 02:41:47.038330  2021-08-04 22:37:03.720650      2.787692   \n",
       "min           2020-04-30 14:32:19         2020-04-01 00:00:00      0.000000   \n",
       "25%    2021-04-08 12:55:48.500000         2021-04-01 00:00:00      2.000000   \n",
       "50%           2021-10-26 22:48:14         2021-10-01 00:00:00      3.000000   \n",
       "75%    2022-01-03 12:38:51.500000         2022-01-01 00:00:00      4.000000   \n",
       "max           2022-03-12 14:48:34         2022-03-01 00:00:00      8.000000   \n",
       "std                           NaN                         NaN      1.365753   \n",
       "\n",
       "       count_adults  count_children  count_babies  count_pets  count_regulars  \n",
       "count   4983.000000      325.000000    325.000000  325.000000     4983.000000  \n",
       "mean       1.065422        0.707692      0.076923    0.636923        2.481437  \n",
       "min        0.000000        0.000000      0.000000    0.000000        0.000000  \n",
       "25%        1.000000        0.000000      0.000000    0.000000        0.000000  \n",
       "50%        1.000000        0.000000      0.000000    0.000000        0.000000  \n",
       "75%        1.000000        1.000000      0.000000    1.000000        1.000000  \n",
       "max        7.000000        6.000000      2.000000    6.000000      320.000000  \n",
       "std        0.332464        1.026246      0.289086    0.995603        8.890588  "
      ]
     },
     "execution_count": 61,
     "metadata": {},
     "output_type": "execute_result"
    }
   ],
   "source": [
    "users.describe()"
   ]
  },
  {
   "cell_type": "code",
   "execution_count": 78,
   "metadata": {},
   "outputs": [
    {
     "data": {
      "image/png": "[encoded data removed]",
      "text/plain": [
       "<Figure size 640x480 with 1 Axes>"
      ]
     },
     "metadata": {},
     "output_type": "display_data"
    }
   ],
   "source": [
    "plt.hist(users['count_regulars'], bins=20, edgecolor='black')\n",
    "plt.title('Histogram of Regular Purchases Count')\n",
    "plt.xlabel('Count of Regular Purchases')\n",
    "plt.ylabel('Number of Users')\n",
    "plt.show()"
   ]
  },
  {
   "cell_type": "markdown",
   "metadata": {},
   "source": [
    "Since there are too many instances for 0 and too few for the maximum, I use the logarithmic scale to make the data easier to analyze and visualize"
   ]
  },
  {
   "cell_type": "code",
   "execution_count": 77,
   "metadata": {},
   "outputs": [
    {
     "data": {
      "image/png": "[encoded data removed]",
      "text/plain": [
       "<Figure size 640x480 with 1 Axes>"
      ]
     },
     "metadata": {},
     "output_type": "display_data"
    }
   ],
   "source": [
    "# Plotting the histogram of the logarithmically transformed data\n",
    "plt.hist(users['count_regulars'], bins=20, edgecolor='black')\n",
    "plt.yscale('log')\n",
    "plt.title('Histogram of Regular Purchases Count with Logarithmic Y-scale')\n",
    "plt.xlabel('Count of Regular Purchases')\n",
    "plt.ylabel('Frequency')\n",
    "plt.show()"
   ]
  },
  {
   "cell_type": "markdown",
   "metadata": {},
   "source": [
    "We can observe that there is a user with 320 products classfied as regular, whereas 75% of the users don't have any favourite product."
   ]
  },
  {
   "cell_type": "markdown",
   "metadata": {},
   "source": [
    "**i. What kind of products do users define as their regualars**"
   ]
  },
  {
   "cell_type": "code",
   "execution_count": 91,
   "metadata": {},
   "outputs": [
    {
     "data": {
      "text/html": [
       "<div>\n",
       "<style scoped>\n",
       "    .dataframe tbody tr th:only-of-type {\n",
       "        vertical-align: middle;\n",
       "    }\n",
       "\n",
       "    .dataframe tbody tr th {\n",
       "        vertical-align: top;\n",
       "    }\n",
       "\n",
       "    .dataframe thead th {\n",
       "        text-align: right;\n",
       "    }\n",
       "</style>\n",
       "<table border=\"1\" class=\"dataframe\">\n",
       "  <thead>\n",
       "    <tr style=\"text-align: right;\">\n",
       "      <th></th>\n",
       "      <th>variant_id</th>\n",
       "      <th>price</th>\n",
       "      <th>compare_at_price</th>\n",
       "      <th>vendor</th>\n",
       "      <th>product_type</th>\n",
       "      <th>tags</th>\n",
       "    </tr>\n",
       "  </thead>\n",
       "  <tbody>\n",
       "    <tr>\n",
       "      <th>1</th>\n",
       "      <td>34370361229444</td>\n",
       "      <td>4.99</td>\n",
       "      <td>5.50</td>\n",
       "      <td>whogivesacrap</td>\n",
       "      <td>toilet-roll-kitchen-roll-tissue</td>\n",
       "      <td>[b-corp, eco, toilet-rolls]</td>\n",
       "    </tr>\n",
       "    <tr>\n",
       "      <th>2</th>\n",
       "      <td>34284951863428</td>\n",
       "      <td>3.69</td>\n",
       "      <td>3.99</td>\n",
       "      <td>plenty</td>\n",
       "      <td>toilet-roll-kitchen-roll-tissue</td>\n",
       "      <td>[kitchen-roll]</td>\n",
       "    </tr>\n",
       "    <tr>\n",
       "      <th>63</th>\n",
       "      <td>34081589887108</td>\n",
       "      <td>10.79</td>\n",
       "      <td>11.94</td>\n",
       "      <td>oatly</td>\n",
       "      <td>long-life-milk-substitutes</td>\n",
       "      <td>[oat-milk, vegan]</td>\n",
       "    </tr>\n",
       "    <tr>\n",
       "      <th>109</th>\n",
       "      <td>34284949766276</td>\n",
       "      <td>8.49</td>\n",
       "      <td>9.00</td>\n",
       "      <td>andrex</td>\n",
       "      <td>toilet-roll-kitchen-roll-tissue</td>\n",
       "      <td>[toilet-rolls]</td>\n",
       "    </tr>\n",
       "    <tr>\n",
       "      <th>139</th>\n",
       "      <td>34370915041412</td>\n",
       "      <td>4.99</td>\n",
       "      <td>6.60</td>\n",
       "      <td>mutti</td>\n",
       "      <td>tins-packaged-foods</td>\n",
       "      <td>[pasta-pizza-sauce, tinned-tomatoes-puree-pass...</td>\n",
       "    </tr>\n",
       "    <tr>\n",
       "      <th>210</th>\n",
       "      <td>34436055302276</td>\n",
       "      <td>3.29</td>\n",
       "      <td>4.35</td>\n",
       "      <td>marmite</td>\n",
       "      <td>spreads</td>\n",
       "      <td>[savoury-spreads, vegan]</td>\n",
       "    </tr>\n",
       "    <tr>\n",
       "      <th>241</th>\n",
       "      <td>34037939372164</td>\n",
       "      <td>4.99</td>\n",
       "      <td>5.25</td>\n",
       "      <td>andrex</td>\n",
       "      <td>toilet-roll-kitchen-roll-tissue</td>\n",
       "      <td>[toilet-rolls]</td>\n",
       "    </tr>\n",
       "    <tr>\n",
       "      <th>251</th>\n",
       "      <td>33667282436228</td>\n",
       "      <td>3.99</td>\n",
       "      <td>4.00</td>\n",
       "      <td>thecheekypanda</td>\n",
       "      <td>toilet-roll-kitchen-roll-tissue</td>\n",
       "      <td>[b-corp, cruelty-free, eco, kitchen-roll, vegan]</td>\n",
       "    </tr>\n",
       "    <tr>\n",
       "      <th>928</th>\n",
       "      <td>34284950356100</td>\n",
       "      <td>1.99</td>\n",
       "      <td>3.00</td>\n",
       "      <td>fairy</td>\n",
       "      <td>dishwashing</td>\n",
       "      <td>[discontinue, swapped, washing-up-liquid]</td>\n",
       "    </tr>\n",
       "  </tbody>\n",
       "</table>\n",
       "</div>"
      ],
      "text/plain": [
       "         variant_id  price  compare_at_price          vendor  \\\n",
       "1    34370361229444   4.99              5.50   whogivesacrap   \n",
       "2    34284951863428   3.69              3.99          plenty   \n",
       "63   34081589887108  10.79             11.94           oatly   \n",
       "109  34284949766276   8.49              9.00          andrex   \n",
       "139  34370915041412   4.99              6.60           mutti   \n",
       "210  34436055302276   3.29              4.35         marmite   \n",
       "241  34037939372164   4.99              5.25          andrex   \n",
       "251  33667282436228   3.99              4.00  thecheekypanda   \n",
       "928  34284950356100   1.99              3.00           fairy   \n",
       "\n",
       "                        product_type  \\\n",
       "1    toilet-roll-kitchen-roll-tissue   \n",
       "2    toilet-roll-kitchen-roll-tissue   \n",
       "63        long-life-milk-substitutes   \n",
       "109  toilet-roll-kitchen-roll-tissue   \n",
       "139              tins-packaged-foods   \n",
       "210                          spreads   \n",
       "241  toilet-roll-kitchen-roll-tissue   \n",
       "251  toilet-roll-kitchen-roll-tissue   \n",
       "928                      dishwashing   \n",
       "\n",
       "                                                  tags  \n",
       "1                          [b-corp, eco, toilet-rolls]  \n",
       "2                                       [kitchen-roll]  \n",
       "63                                   [oat-milk, vegan]  \n",
       "109                                     [toilet-rolls]  \n",
       "139  [pasta-pizza-sauce, tinned-tomatoes-puree-pass...  \n",
       "210                           [savoury-spreads, vegan]  \n",
       "241                                     [toilet-rolls]  \n",
       "251   [b-corp, cruelty-free, eco, kitchen-roll, vegan]  \n",
       "928          [discontinue, swapped, washing-up-liquid]  "
      ]
     },
     "execution_count": 91,
     "metadata": {},
     "output_type": "execute_result"
    }
   ],
   "source": [
    "# Flatten the 'variant_id' lists\n",
    "all_regular_items = [item for item in regulars['variant_id']]\n",
    "\n",
    "# Count occurrences of each regular product\n",
    "regular_counts = pd.Series(all_regular_items).value_counts()\n",
    "\n",
    "# Get the top 10 saved as regular products\n",
    "top_10_regulars = regular_counts.head(10)\n",
    "\n",
    "# Get the informarion of these products\n",
    "top_10_details = inventory[inventory['variant_id'].isin(top_10_regulars.index)]\n",
    "top_10_details"
   ]
  },
  {
   "cell_type": "markdown",
   "metadata": {},
   "source": [
    "The product most frequently saved by customers is toilet/kitchen rolls, with \"whogivesacrap\" and \"Plenty\" emerging as the leading vendors in this category. Notably, both vendors primarily supply toilet rolls, highlighting their popularity among consumers. Additionally, oat milk from Oatly stands out as another highly favored item. An interesting trend observed from the data is the strong preference for vegan products among clients, as evidenced by their regular inclusion of such items on their lists."
   ]
  }
 ],
 "metadata": {
  "kernelspec": {
   "display_name": "zrive-ds-3iE0R8j--py3.11",
   "language": "python",
   "name": "python3"
  },
  "language_info": {
   "codemirror_mode": {
    "name": "ipython",
    "version": 3
   },
   "file_extension": ".py",
   "mimetype": "text/x-python",
   "name": "python",
   "nbconvert_exporter": "python",
   "pygments_lexer": "ipython3",
   "version": "3.11.0"
  }
 },
 "nbformat": 4,
 "nbformat_minor": 2
}
