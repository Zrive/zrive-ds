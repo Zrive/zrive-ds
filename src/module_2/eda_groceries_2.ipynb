{
 "cells": [
  {
   "cell_type": "markdown",
   "metadata": {},
   "source": [
    "**EDA GROCERIES 2**"
   ]
  },
  {
   "cell_type": "markdown",
   "metadata": {},
   "source": [
    "Imports"
   ]
  },
  {
   "cell_type": "code",
   "execution_count": 2,
   "metadata": {},
   "outputs": [],
   "source": [
    "import boto3\n",
    "import os\n",
    "from dotenv import load_dotenv\n",
    "from botocore.exceptions import ClientError\n",
    "import pandas as pd\n",
    "import matplotlib.pyplot as plt\n",
    "import seaborn as sns\n",
    "import plotly.express as px\n",
    "from plotly.subplots import make_subplots\n",
    "import plotly.graph_objects as go"
   ]
  },
  {
   "cell_type": "markdown",
   "metadata": {},
   "source": [
    "Downloading data"
   ]
  },
  {
   "cell_type": "code",
   "execution_count": 3,
   "metadata": {},
   "outputs": [],
   "source": [
    "# load_dotenv()\n",
    "\n",
    "# def download_file_from_s3(bucket_name, file_key, download_path):\n",
    "#     # Create a session using your AWS credentials\n",
    "#     session = boto3.Session(\n",
    "#         aws_access_key_id=os.getenv('AWS_ACCESS_KEY_ID'),\n",
    "#         aws_secret_access_key=os.getenv('AWS_SECRET_ACCESS_KEY'),\n",
    "#         region_name=os.getenv('AWS_REGION')\n",
    "#     )\n",
    "\n",
    "#     # Create an S3 client\n",
    "#     s3 = session.client('s3')\n",
    "\n",
    "#     try:\n",
    "#         # Download the file\n",
    "#         s3.download_file(bucket_name, file_key, download_path)\n",
    "#         print(f\"Downloaded {file_key} from {bucket_name} to {download_path}\")\n",
    "#     except Exception as e:\n",
    "#         print(f\"Error downloading file: {e}\")\n",
    "\n",
    "\n",
    "# bucket_name = 'zrive-ds-data'\n",
    "# file_key = 'groceries/box_builder_dataset/feature_frame.csv'\n",
    "# download_path = 'feature_frame.csv'\n",
    "\n",
    "\n",
    "# download_file_from_s3(bucket_name, file_key, download_path)"
   ]
  },
  {
   "cell_type": "code",
   "execution_count": 4,
   "metadata": {},
   "outputs": [],
   "source": [
    "data = pd.read_csv(r\"/home/raquel/zrive-ds/src/module_2/feature_frame.csv\")"
   ]
  },
  {
   "cell_type": "markdown",
   "metadata": {},
   "source": [
    "First checks"
   ]
  },
  {
   "cell_type": "code",
   "execution_count": 5,
   "metadata": {},
   "outputs": [
    {
     "name": "stdout",
     "output_type": "stream",
     "text": [
      "<class 'pandas.core.frame.DataFrame'>\n",
      "RangeIndex: 2880549 entries, 0 to 2880548\n",
      "Data columns (total 27 columns):\n",
      " #   Column                            Dtype  \n",
      "---  ------                            -----  \n",
      " 0   variant_id                        int64  \n",
      " 1   product_type                      object \n",
      " 2   order_id                          int64  \n",
      " 3   user_id                           int64  \n",
      " 4   created_at                        object \n",
      " 5   order_date                        object \n",
      " 6   user_order_seq                    int64  \n",
      " 7   outcome                           float64\n",
      " 8   ordered_before                    float64\n",
      " 9   abandoned_before                  float64\n",
      " 10  active_snoozed                    float64\n",
      " 11  set_as_regular                    float64\n",
      " 12  normalised_price                  float64\n",
      " 13  discount_pct                      float64\n",
      " 14  vendor                            object \n",
      " 15  global_popularity                 float64\n",
      " 16  count_adults                      float64\n",
      " 17  count_children                    float64\n",
      " 18  count_babies                      float64\n",
      " 19  count_pets                        float64\n",
      " 20  people_ex_baby                    float64\n",
      " 21  days_since_purchase_variant_id    float64\n",
      " 22  avg_days_to_buy_variant_id        float64\n",
      " 23  std_days_to_buy_variant_id        float64\n",
      " 24  days_since_purchase_product_type  float64\n",
      " 25  avg_days_to_buy_product_type      float64\n",
      " 26  std_days_to_buy_product_type      float64\n",
      "dtypes: float64(19), int64(4), object(4)\n",
      "memory usage: 593.4+ MB\n",
      "Dtypes None\n"
     ]
    }
   ],
   "source": [
    "data.shape  # (2880549, 27)\n",
    "data.isnull().sum()  # No NaN values\n",
    "print(\"Dtypes\", data.info())  # int64,object,float64\n",
    "target_counts = data[\"outcome\"].value_counts()\n",
    "# Disproportionate outcome\n",
    "# 0.0    2847317\n",
    "# 1.0      33232"
   ]
  },
  {
   "cell_type": "code",
   "execution_count": 6,
   "metadata": {},
   "outputs": [
    {
     "data": {
      "text/plain": [
       "Index(['variant_id', 'product_type', 'order_id', 'user_id', 'created_at',\n",
       "       'order_date', 'user_order_seq', 'outcome', 'ordered_before',\n",
       "       'abandoned_before', 'active_snoozed', 'set_as_regular',\n",
       "       'normalised_price', 'discount_pct', 'vendor', 'global_popularity',\n",
       "       'count_adults', 'count_children', 'count_babies', 'count_pets',\n",
       "       'people_ex_baby', 'days_since_purchase_variant_id',\n",
       "       'avg_days_to_buy_variant_id', 'std_days_to_buy_variant_id',\n",
       "       'days_since_purchase_product_type', 'avg_days_to_buy_product_type',\n",
       "       'std_days_to_buy_product_type'],\n",
       "      dtype='object')"
      ]
     },
     "execution_count": 6,
     "metadata": {},
     "output_type": "execute_result"
    }
   ],
   "source": [
    "data.columns"
   ]
  },
  {
   "cell_type": "markdown",
   "metadata": {},
   "source": [
    "It is interesting to understand how characteristics like 'product type' influence the outcome.\n",
    "\n",
    "Product_purchase_rate = out of the total number of times a product is selected, it is the proportion of times that the product was purchased."
   ]
  },
  {
   "cell_type": "code",
   "execution_count": 25,
   "metadata": {},
   "outputs": [
    {
     "name": "stdout",
     "output_type": "stream",
     "text": [
      "Top 5       product_type   outcome\n",
      "0        maternity  0.000589\n",
      "1     airfreshener  0.000791\n",
      "2  babymilkformula  0.000821\n",
      "3          nappies  0.000920\n",
      "4       nappypants  0.001065\n",
      "Back 5            product_type   outcome\n",
      "57           homebaking  0.020012\n",
      "58  snacksconfectionery  0.026277\n",
      "59   kitchenrolltissues  0.034691\n",
      "60              binbags  0.040990\n",
      "61           toiletroll  0.062475\n"
     ]
    },
    {
     "data": {
      "image/png": "[encoded data removed]",
      "text/plain": [
       "<Figure size 640x480 with 1 Axes>"
      ]
     },
     "metadata": {},
     "output_type": "display_data"
    }
   ],
   "source": [
    "product_purchase_rate = (\n",
    "    data.groupby(\"product_type\")[\"outcome\"].mean().sort_values().reset_index()\n",
    ")\n",
    "product_purchase_rate.plot(kind=\"bar\")\n",
    "\n",
    "print(\"Top 5\", product_purchase_rate.head(5))\n",
    "print(\"Back 5\", product_purchase_rate.tail(5))"
   ]
  },
  {
   "cell_type": "markdown",
   "metadata": {},
   "source": [
    "Data preparation for modeling"
   ]
  },
  {
   "cell_type": "code",
   "execution_count": 26,
   "metadata": {},
   "outputs": [
    {
     "data": {
      "text/plain": [
       "product_type     62\n",
       "vendor          264\n",
       "dtype: int64"
      ]
     },
     "execution_count": 26,
     "metadata": {},
     "output_type": "execute_result"
    }
   ],
   "source": [
    "not_predicitve_cols = [\"created_at\", \"order_date\", \"variant_id\", \"order_id\", \"user_id\"]\n",
    "y_col = \"outcome\"\n",
    "feature_cols = [col for col in data.columns if col not in not_predicitve_cols + [y_col]]\n",
    "\n",
    "categorical_cols = [\"product_type\", \"vendor\"]\n",
    "data[categorical_cols].nunique()"
   ]
  },
  {
   "cell_type": "markdown",
   "metadata": {},
   "source": [
    "The categorical columns have a high number of unique categories, making one-hot encoding impractical."
   ]
  },
  {
   "cell_type": "markdown",
   "metadata": {},
   "source": []
  }
 ],
 "metadata": {
  "kernelspec": {
   "display_name": "zrive-ds-A_ntz6FP-py3.11",
   "language": "python",
   "name": "python3"
  },
  "language_info": {
   "codemirror_mode": {
    "name": "ipython",
    "version": 3
   },
   "file_extension": ".py",
   "mimetype": "text/x-python",
   "name": "python",
   "nbconvert_exporter": "python",
   "pygments_lexer": "ipython3",
   "version": "3.11.0"
  }
 },
 "nbformat": 4,
 "nbformat_minor": 2
}
