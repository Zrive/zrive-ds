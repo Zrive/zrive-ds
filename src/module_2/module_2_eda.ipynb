{
 "cells": [
  {
   "cell_type": "markdown",
   "metadata": {},
   "source": [
    "Initializing"
   ]
  },
  {
   "cell_type": "code",
   "execution_count": 1,
   "metadata": {},
   "outputs": [],
   "source": [
    "#imports\n",
    "\n",
    "import pandas as pd\n",
    "import matplotlib.pyplot as plt\n",
    "import numpy as np\n",
    "import seaborn as sns\n",
    "\n",
    "#retrieving data\n",
    "path_data = '/Users/alvarochapela/Documents/DATOS_ZRIVE/Module2Data'\n",
    "\n",
    "orders = pd.read_parquet(f\"{path_data}/orders.parquet\")\n",
    "users = pd.read_parquet(f\"{path_data}/users.parquet\")\n",
    "regulars = pd.read_parquet(f\"{path_data}/regulars.parquet\")\n",
    "inventory = pd.read_parquet(f\"{path_data}/inventory.parquet\")\n",
    "abandoned_carts = pd.read_parquet(f\"{path_data}/abandoned_carts.parquet\")\n"
   ]
  },
  {
   "cell_type": "markdown",
   "metadata": {},
   "source": [
    "Starting the analysis"
   ]
  },
  {
   "cell_type": "code",
   "execution_count": 2,
   "metadata": {},
   "outputs": [
    {
     "data": {
      "text/html": [
       "<div>\n",
       "<style scoped>\n",
       "    .dataframe tbody tr th:only-of-type {\n",
       "        vertical-align: middle;\n",
       "    }\n",
       "\n",
       "    .dataframe tbody tr th {\n",
       "        vertical-align: top;\n",
       "    }\n",
       "\n",
       "    .dataframe thead th {\n",
       "        text-align: right;\n",
       "    }\n",
       "</style>\n",
       "<table border=\"1\" class=\"dataframe\">\n",
       "  <thead>\n",
       "    <tr style=\"text-align: right;\">\n",
       "      <th></th>\n",
       "      <th>user_id</th>\n",
       "      <th>user_segment</th>\n",
       "      <th>user_nuts1</th>\n",
       "      <th>first_ordered_at</th>\n",
       "      <th>customer_cohort_month</th>\n",
       "      <th>count_people</th>\n",
       "      <th>count_adults</th>\n",
       "      <th>count_children</th>\n",
       "      <th>count_babies</th>\n",
       "      <th>count_pets</th>\n",
       "      <th>n_regulars</th>\n",
       "    </tr>\n",
       "  </thead>\n",
       "  <tbody>\n",
       "    <tr>\n",
       "      <th>23</th>\n",
       "      <td>09d70e0b0778117aec5550c08032d56f8e06f992741680...</td>\n",
       "      <td>Proposition</td>\n",
       "      <td>UKI</td>\n",
       "      <td>2021-06-28 12:07:04</td>\n",
       "      <td>2021-06-01 00:00:00</td>\n",
       "      <td>1.0</td>\n",
       "      <td>1.0</td>\n",
       "      <td>0.0</td>\n",
       "      <td>0.0</td>\n",
       "      <td>0.0</td>\n",
       "      <td>0.0</td>\n",
       "    </tr>\n",
       "    <tr>\n",
       "      <th>27</th>\n",
       "      <td>4f5ff38ce5ed48096ba80dff80e167db1ad24b9ebdb00c...</td>\n",
       "      <td>Top Up</td>\n",
       "      <td>UKD</td>\n",
       "      <td>2020-06-12 12:07:35</td>\n",
       "      <td>2020-06-01 00:00:00</td>\n",
       "      <td>3.0</td>\n",
       "      <td>2.0</td>\n",
       "      <td>0.0</td>\n",
       "      <td>1.0</td>\n",
       "      <td>0.0</td>\n",
       "      <td>1.0</td>\n",
       "    </tr>\n",
       "    <tr>\n",
       "      <th>28</th>\n",
       "      <td>7b2ae50bb11646436fa613394fc3e71e1a0cdc3ba30cdb...</td>\n",
       "      <td>Proposition</td>\n",
       "      <td>UKF</td>\n",
       "      <td>2020-10-03 09:53:57</td>\n",
       "      <td>2020-10-01 00:00:00</td>\n",
       "      <td>2.0</td>\n",
       "      <td>2.0</td>\n",
       "      <td>0.0</td>\n",
       "      <td>0.0</td>\n",
       "      <td>2.0</td>\n",
       "      <td>25.0</td>\n",
       "    </tr>\n",
       "    <tr>\n",
       "      <th>35</th>\n",
       "      <td>5e977a4aa2c57f306b8a22f92eaaa177f7dc31a52df82c...</td>\n",
       "      <td>Proposition</td>\n",
       "      <td>UKI</td>\n",
       "      <td>2021-10-14 10:41:13</td>\n",
       "      <td>2021-10-01 00:00:00</td>\n",
       "      <td>2.0</td>\n",
       "      <td>1.0</td>\n",
       "      <td>1.0</td>\n",
       "      <td>0.0</td>\n",
       "      <td>1.0</td>\n",
       "      <td>72.0</td>\n",
       "    </tr>\n",
       "    <tr>\n",
       "      <th>66</th>\n",
       "      <td>eafb89ad33eb377adb98a915b6a5a65f1284c2db517d07...</td>\n",
       "      <td>Proposition</td>\n",
       "      <td>UKH</td>\n",
       "      <td>2022-01-20 15:53:09</td>\n",
       "      <td>2022-01-01 00:00:00</td>\n",
       "      <td>2.0</td>\n",
       "      <td>2.0</td>\n",
       "      <td>0.0</td>\n",
       "      <td>0.0</td>\n",
       "      <td>0.0</td>\n",
       "      <td>3.0</td>\n",
       "    </tr>\n",
       "  </tbody>\n",
       "</table>\n",
       "</div>"
      ],
      "text/plain": [
       "                                              user_id user_segment user_nuts1  \\\n",
       "23  09d70e0b0778117aec5550c08032d56f8e06f992741680...  Proposition        UKI   \n",
       "27  4f5ff38ce5ed48096ba80dff80e167db1ad24b9ebdb00c...       Top Up        UKD   \n",
       "28  7b2ae50bb11646436fa613394fc3e71e1a0cdc3ba30cdb...  Proposition        UKF   \n",
       "35  5e977a4aa2c57f306b8a22f92eaaa177f7dc31a52df82c...  Proposition        UKI   \n",
       "66  eafb89ad33eb377adb98a915b6a5a65f1284c2db517d07...  Proposition        UKH   \n",
       "\n",
       "       first_ordered_at customer_cohort_month  count_people  count_adults  \\\n",
       "23  2021-06-28 12:07:04   2021-06-01 00:00:00           1.0           1.0   \n",
       "27  2020-06-12 12:07:35   2020-06-01 00:00:00           3.0           2.0   \n",
       "28  2020-10-03 09:53:57   2020-10-01 00:00:00           2.0           2.0   \n",
       "35  2021-10-14 10:41:13   2021-10-01 00:00:00           2.0           1.0   \n",
       "66  2022-01-20 15:53:09   2022-01-01 00:00:00           2.0           2.0   \n",
       "\n",
       "    count_children  count_babies  count_pets  n_regulars  \n",
       "23             0.0           0.0         0.0         0.0  \n",
       "27             0.0           1.0         0.0         1.0  \n",
       "28             0.0           0.0         2.0        25.0  \n",
       "35             1.0           0.0         1.0        72.0  \n",
       "66             0.0           0.0         0.0         3.0  "
      ]
     },
     "execution_count": 2,
     "metadata": {},
     "output_type": "execute_result"
    }
   ],
   "source": [
    "n_regulars = regulars.groupby('user_id')['variant_id'].nunique().reset_index().rename(columns={'variant_id':'n_regulars'})\n",
    "users = users.merge(n_regulars, on='user_id', how = 'left').fillna({'n_regulars':0})\n",
    "# Veo los users y quito nulls\n",
    "users.dropna().head()"
   ]
  },
  {
   "cell_type": "markdown",
   "metadata": {},
   "source": [
    "Identificar tipos de compradores"
   ]
  },
  {
   "cell_type": "code",
   "execution_count": 3,
   "metadata": {},
   "outputs": [],
   "source": [
    "user_order_counts = orders.groupby('user_id').size()\n",
    "frequent_users_ids = user_order_counts[user_order_counts > 1].index\n",
    "frequent_users_details = users[users['user_id'].isin(frequent_users_ids)]\n",
    "\n",
    "regular_shoppers = regulars['user_id']\n",
    "cart_abandoners = abandoned_carts['user_id']\n",
    "popular_products = orders['id'].explode().value_counts()\n",
    "\n",
    "loyal_customers = regular_shoppers[regular_shoppers.isin(popular_products.index)]\n",
    "cart_abandoners_not_regular = cart_abandoners[~cart_abandoners.isin(regular_shoppers)]"
   ]
  },
  {
   "cell_type": "code",
   "execution_count": 5,
   "metadata": {},
   "outputs": [
    {
     "data": {
      "text/html": [
       "<div>\n",
       "<style scoped>\n",
       "    .dataframe tbody tr th:only-of-type {\n",
       "        vertical-align: middle;\n",
       "    }\n",
       "\n",
       "    .dataframe tbody tr th {\n",
       "        vertical-align: top;\n",
       "    }\n",
       "\n",
       "    .dataframe thead th {\n",
       "        text-align: right;\n",
       "    }\n",
       "</style>\n",
       "<table border=\"1\" class=\"dataframe\">\n",
       "  <thead>\n",
       "    <tr style=\"text-align: right;\">\n",
       "      <th></th>\n",
       "      <th>count_people</th>\n",
       "      <th>count_adults</th>\n",
       "      <th>count_children</th>\n",
       "      <th>count_babies</th>\n",
       "      <th>count_pets</th>\n",
       "      <th>n_regulars</th>\n",
       "    </tr>\n",
       "  </thead>\n",
       "  <tbody>\n",
       "    <tr>\n",
       "      <th>count</th>\n",
       "      <td>133.000000</td>\n",
       "      <td>133.000000</td>\n",
       "      <td>133.000000</td>\n",
       "      <td>133.000000</td>\n",
       "      <td>133.000000</td>\n",
       "      <td>1411.000000</td>\n",
       "    </tr>\n",
       "    <tr>\n",
       "      <th>mean</th>\n",
       "      <td>2.977444</td>\n",
       "      <td>2.052632</td>\n",
       "      <td>0.834586</td>\n",
       "      <td>0.090226</td>\n",
       "      <td>0.669173</td>\n",
       "      <td>5.343019</td>\n",
       "    </tr>\n",
       "    <tr>\n",
       "      <th>std</th>\n",
       "      <td>1.334088</td>\n",
       "      <td>0.907175</td>\n",
       "      <td>0.986119</td>\n",
       "      <td>0.312823</td>\n",
       "      <td>0.974849</td>\n",
       "      <td>11.522472</td>\n",
       "    </tr>\n",
       "    <tr>\n",
       "      <th>min</th>\n",
       "      <td>0.000000</td>\n",
       "      <td>0.000000</td>\n",
       "      <td>0.000000</td>\n",
       "      <td>0.000000</td>\n",
       "      <td>0.000000</td>\n",
       "      <td>0.000000</td>\n",
       "    </tr>\n",
       "    <tr>\n",
       "      <th>25%</th>\n",
       "      <td>2.000000</td>\n",
       "      <td>2.000000</td>\n",
       "      <td>0.000000</td>\n",
       "      <td>0.000000</td>\n",
       "      <td>0.000000</td>\n",
       "      <td>0.000000</td>\n",
       "    </tr>\n",
       "    <tr>\n",
       "      <th>50%</th>\n",
       "      <td>3.000000</td>\n",
       "      <td>2.000000</td>\n",
       "      <td>0.000000</td>\n",
       "      <td>0.000000</td>\n",
       "      <td>0.000000</td>\n",
       "      <td>1.000000</td>\n",
       "    </tr>\n",
       "    <tr>\n",
       "      <th>75%</th>\n",
       "      <td>4.000000</td>\n",
       "      <td>2.000000</td>\n",
       "      <td>2.000000</td>\n",
       "      <td>0.000000</td>\n",
       "      <td>1.000000</td>\n",
       "      <td>5.000000</td>\n",
       "    </tr>\n",
       "    <tr>\n",
       "      <th>max</th>\n",
       "      <td>7.000000</td>\n",
       "      <td>7.000000</td>\n",
       "      <td>3.000000</td>\n",
       "      <td>2.000000</td>\n",
       "      <td>6.000000</td>\n",
       "      <td>110.000000</td>\n",
       "    </tr>\n",
       "  </tbody>\n",
       "</table>\n",
       "</div>"
      ],
      "text/plain": [
       "       count_people  count_adults  count_children  count_babies  count_pets  \\\n",
       "count    133.000000    133.000000      133.000000    133.000000  133.000000   \n",
       "mean       2.977444      2.052632        0.834586      0.090226    0.669173   \n",
       "std        1.334088      0.907175        0.986119      0.312823    0.974849   \n",
       "min        0.000000      0.000000        0.000000      0.000000    0.000000   \n",
       "25%        2.000000      2.000000        0.000000      0.000000    0.000000   \n",
       "50%        3.000000      2.000000        0.000000      0.000000    0.000000   \n",
       "75%        4.000000      2.000000        2.000000      0.000000    1.000000   \n",
       "max        7.000000      7.000000        3.000000      2.000000    6.000000   \n",
       "\n",
       "        n_regulars  \n",
       "count  1411.000000  \n",
       "mean      5.343019  \n",
       "std      11.522472  \n",
       "min       0.000000  \n",
       "25%       0.000000  \n",
       "50%       1.000000  \n",
       "75%       5.000000  \n",
       "max     110.000000  "
      ]
     },
     "execution_count": 5,
     "metadata": {},
     "output_type": "execute_result"
    }
   ],
   "source": [
    "frequent_users_details.describe()"
   ]
  },
  {
   "cell_type": "code",
   "execution_count": 7,
   "metadata": {},
   "outputs": [
    {
     "data": {
      "text/plain": [
       "array([[<Axes: title={'center': 'count_people'}>,\n",
       "        <Axes: title={'center': 'count_adults'}>],\n",
       "       [<Axes: title={'center': 'count_children'}>,\n",
       "        <Axes: title={'center': 'count_babies'}>],\n",
       "       [<Axes: title={'center': 'count_pets'}>,\n",
       "        <Axes: title={'center': 'n_regulars'}>]], dtype=object)"
      ]
     },
     "execution_count": 7,
     "metadata": {},
     "output_type": "execute_result"
    },
    {
     "data": {
      "image/png": "[encoded data removed]",
      "text/plain": [
       "<Figure size 640x480 with 6 Axes>"
      ]
     },
     "metadata": {},
     "output_type": "display_data"
    }
   ],
   "source": [
    "frequent_users_details.hist(bins=100, log=True)"
   ]
  },
  {
   "cell_type": "code",
   "execution_count": 8,
   "metadata": {},
   "outputs": [
    {
     "data": {
      "text/plain": [
       "<Axes: >"
      ]
     },
     "execution_count": 8,
     "metadata": {},
     "output_type": "execute_result"
    },
    {
     "data": {
      "image/png": "[encoded data removed]",
      "text/plain": [
       "<Figure size 640x480 with 1 Axes>"
      ]
     },
     "metadata": {},
     "output_type": "display_data"
    }
   ],
   "source": [
    "users['n_regulars'].hist(bins=100, log=True)"
   ]
  },
  {
   "cell_type": "code",
   "execution_count": 9,
   "metadata": {},
   "outputs": [
    {
     "data": {
      "text/plain": [
       "0.09271523178807947"
      ]
     },
     "execution_count": 9,
     "metadata": {},
     "output_type": "execute_result"
    }
   ],
   "source": [
    "(users['n_regulars']>7).sum()/len(users)"
   ]
  },
  {
   "cell_type": "code",
   "execution_count": 11,
   "metadata": {},
   "outputs": [
    {
     "data": {
      "text/plain": [
       "0.2831627533614289"
      ]
     },
     "execution_count": 11,
     "metadata": {},
     "output_type": "execute_result"
    }
   ],
   "source": [
    "len(frequent_users_details)/len(users)"
   ]
  },
  {
   "cell_type": "code",
   "execution_count": 12,
   "metadata": {},
   "outputs": [
    {
     "data": {
      "text/plain": [
       "{'any_count_people': 0.9938461538461538,\n",
       " 'any_count_adults': 0.9907692307692307,\n",
       " 'any_count_children': 0.4,\n",
       " 'any_count_babies': 0.07076923076923076,\n",
       " 'any_count_pets': 0.40615384615384614}"
      ]
     },
     "execution_count": 12,
     "metadata": {},
     "output_type": "execute_result"
    }
   ],
   "source": [
    "family_cols = [col for col in users.columns if col.startswith('count_')]\n",
    "family_inputs = users.count_people.dropna().count()\n",
    "\n",
    "d = {f\"any_{col}\": (users[col] > 0).sum()/family_inputs for col in family_cols}\n",
    "d"
   ]
  },
  {
   "cell_type": "code",
   "execution_count": 13,
   "metadata": {},
   "outputs": [
    {
     "data": {
      "text/plain": [
       "0.4430769230769231"
      ]
     },
     "execution_count": 13,
     "metadata": {},
     "output_type": "execute_result"
    }
   ],
   "source": [
    "#Casas con niños\n",
    "(users[['count_children', 'count_babies']].sum(axis=1) > 0).sum() / family_inputs"
   ]
  },
  {
   "cell_type": "markdown",
   "metadata": {},
   "source": [
    "2. REGULAR PRODUCTS\n"
   ]
  }
 ],
 "metadata": {
  "kernelspec": {
   "display_name": "zrive-ds-y_kZvhtg-py3.11",
   "language": "python",
   "name": "python3"
  },
  "language_info": {
   "codemirror_mode": {
    "name": "ipython",
    "version": 3
   },
   "file_extension": ".py",
   "mimetype": "text/x-python",
   "name": "python",
   "nbconvert_exporter": "python",
   "pygments_lexer": "ipython3",
   "version": "3.11.5"
  },
  "orig_nbformat": 4
 },
 "nbformat": 4,
 "nbformat_minor": 2
}
