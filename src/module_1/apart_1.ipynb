{
 "cells": [
  {
   "cell_type": "markdown",
   "metadata": {},
   "source": [
    "SOLUTION OF PART 1\n",
    "\n",
    "- CONVERTIR NB A MARKDOWN\n",
    "- HACER MAKE LINT\n",
    "- REVISAR CONSEJOS PR 1"
   ]
  }
 ],
 "metadata": {
  "language_info": {
   "name": "python"
  }
 },
 "nbformat": 4,
 "nbformat_minor": 2
}
