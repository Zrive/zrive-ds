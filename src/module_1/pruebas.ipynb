{
 "cells": [
  {
   "cell_type": "code",
   "execution_count": 2,
   "metadata": {},
   "outputs": [],
   "source": [
    "# Rio de Janeiro\n",
    "latitude=-22.906847\n",
    "longitude=-43.172896\n",
    "\n",
    "\n",
    "start_date = '2010-01-01'\n",
    "end_date   = '2020-12-31'\n",
    "\n",
    "lista_variables = ['temperature_2m_mean', 'precipitation_sum', 'wind_speed_10m_max']\n",
    "\n",
    "def get_data_meteo_api(latitude, longitude, start_date, end_date, lista_variables, resolution='daily'):\n",
    "    '''\n",
    "    resolution: posibles valores 'daily' o 'hourly'.\n",
    "    '''\n",
    "    import requests\n",
    "    latitude  = str(latitude)\n",
    "    longitude = str(longitude)\n",
    "\n",
    "    # Tomar variables y pasarlas a \"formato url\"\n",
    "    latitude_url   = 'latitude=' + str(latitude)\n",
    "    longitude_url  = 'longitude='+ str(longitude)\n",
    "    start_date_url = 'start_date=' + start_date\n",
    "    end_date_url   = 'end_date=' + end_date\n",
    "    resolution_url = resolution\n",
    "    # variables_url\n",
    "    variables_url = ''\n",
    "    for variable in lista_variables:\n",
    "        variables_url+=variable\n",
    "        variables_url+=','\n",
    "    variables_url = variables_url[:-1] #Elimino la última coma residual\n",
    "\n",
    "    API_url = 'https://archive-api.open-meteo.com/v1/archive?'+latitude_url+'&'+longitude_url+'&'+start_date_url+'&'+end_date_url+'&'+resolution+'='+variables\n",
    "\n",
    "    # Construir URL\n",
    "    API_url = 'https://archive-api.open-meteo.com/v1/archive?'+'latitude='+latitude+'&'+'longitude='+longitude+'&'+'start_date='+start_date+'&'+'end_date='+end_date+'&'+resolution+'='+variables\n",
    "    \n",
    "    "
   ]
  },
  {
   "cell_type": "code",
   "execution_count": 4,
   "metadata": {},
   "outputs": [
    {
     "ename": "NameError",
     "evalue": "name 'variables_url' is not defined",
     "output_type": "error",
     "traceback": [
      "\u001b[0;31m---------------------------------------------------------------------------\u001b[0m",
      "\u001b[0;31mNameError\u001b[0m                                 Traceback (most recent call last)",
      "Cell \u001b[0;32mIn[4], line 1\u001b[0m\n\u001b[0;32m----> 1\u001b[0m \u001b[43mvariables_url\u001b[49m\n",
      "\u001b[0;31mNameError\u001b[0m: name 'variables_url' is not defined"
     ]
    }
   ],
   "source": [
    "variables_url"
   ]
  }
 ],
 "metadata": {
  "kernelspec": {
   "display_name": "zrive-ds-QKOBK8Z--py3.11",
   "language": "python",
   "name": "python3"
  },
  "language_info": {
   "codemirror_mode": {
    "name": "ipython",
    "version": 3
   },
   "file_extension": ".py",
   "mimetype": "text/x-python",
   "name": "python",
   "nbconvert_exporter": "python",
   "pygments_lexer": "ipython3",
   "version": "3.11.0"
  }
 },
 "nbformat": 4,
 "nbformat_minor": 2
}
