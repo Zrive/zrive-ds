{
 "cells": [
  {
   "cell_type": "code",
   "execution_count": 1,
   "metadata": {},
   "outputs": [
    {
     "name": "stdout",
     "output_type": "stream",
     "text": [
      "The following packages are already present in the pyproject.toml and will be skipped:\n",
      "\n",
      "  - \u001b[36mpandas\u001b[39m\n",
      "\n",
      "If you want to update it to the latest compatible version, you can use `poetry update package`.\n",
      "If you prefer to upgrade it to the latest available version, you can use `poetry add package@latest`.\n",
      "\n",
      "Nothing to add.\n",
      "Using version \u001b[39;1m^1.3.0\u001b[39;22m for \u001b[36mopenmeteo-requests\u001b[39m\n",
      "\n",
      "\u001b[34mUpdating dependencies\u001b[39m\n",
      "\u001b[2K\u001b[34mResolving dependencies...\u001b[39m \u001b[39;2m(1.9s)\u001b[39;22m\u001b[34mResolving dependencies...\u001b[39m \u001b[39;2m(1.5s)\u001b[39;22m\n",
      "\n",
      "\u001b[39;1mPackage operations\u001b[39;22m: \u001b[34m1\u001b[39m install, \u001b[34m0\u001b[39m updates, \u001b[34m0\u001b[39m removals\n",
      "\n",
      "  \u001b[34;1m-\u001b[39;22m \u001b[39mInstalling \u001b[39m\u001b[36msklearn\u001b[39m\u001b[39m (\u001b[39m\u001b[39;1m0.0.post12\u001b[39;22m\u001b[39m)\u001b[39m: \u001b[34mPending...\u001b[39m\n",
      "\u001b[1A\u001b[0J  \u001b[34;1m-\u001b[39;22m \u001b[39mInstalling \u001b[39m\u001b[36msklearn\u001b[39m\u001b[39m (\u001b[39m\u001b[39;1m0.0.post12\u001b[39;22m\u001b[39m)\u001b[39m: \u001b[34mPreparing...\u001b[39m\n",
      "\u001b[1A\u001b[0J  \u001b[31;1m-\u001b[39;22m \u001b[39mInstalling \u001b[39m\u001b[36msklearn\u001b[39m\u001b[39m (\u001b[39m\u001b[31;1m0.0.post12\u001b[39;22m\u001b[39m)\u001b[39m: \u001b[31;1mFailed\u001b[39;22m\n",
      "\n",
      "  \u001b[31;1mChefBuildError\u001b[39;22m\n",
      "\n",
      "  \u001b[39;1mBackend subprocess exited when trying to invoke get_requires_for_build_wheel\n",
      "  \n",
      "  The 'sklearn' PyPI package is deprecated, use 'scikit-learn'\n",
      "  rather than 'sklearn' for pip commands. \n",
      "  \n",
      "  Here is how to fix this error in the main use cases:\n",
      "  - use 'pip install scikit-learn' rather than 'pip install sklearn'\n",
      "  - replace 'sklearn' by 'scikit-learn' in your pip requirements files\n",
      "    (requirements.txt, setup.py, setup.cfg, Pipfile, etc ...)\n",
      "  - if the 'sklearn' package is used by one of your dependencies,\n",
      "    it would be great if you take some time to track which package uses\n",
      "    'sklearn' instead of 'scikit-learn' and report it to their issue tracker\n",
      "  - as a last resort, set the environment variable\n",
      "    SKLEARN_ALLOW_DEPRECATED_SKLEARN_PACKAGE_INSTALL=True to avoid this error\n",
      "  \n",
      "  More information is available at\n",
      "  https://github.com/scikit-learn/sklearn-pypi-package\n",
      "  \u001b[39;22m\n",
      "\n",
      "  at \u001b[32m~/.local/share/pypoetry/venv/lib/python3.10/site-packages/poetry/installation/chef.py\u001b[39m:\u001b[39;1m164\u001b[39;22m in \u001b[36m_prepare\u001b[39m\n",
      "      \u001b[39;2m160\u001b[39;22m\u001b[39;2m│\u001b[39;22m \n",
      "      \u001b[39;2m161\u001b[39;22m\u001b[39;2m│\u001b[39;22m \u001b[39m                error \u001b[39m\u001b[39;2m= \u001b[39;22m\u001b[39mChefBuildError\u001b[39m\u001b[39;2m(\u001b[39;22m\u001b[33;1m\"\\n\\n\"\u001b[39;22m\u001b[39;2m.\u001b[39;22m\u001b[39mjoin\u001b[39m\u001b[39;2m(\u001b[39;22m\u001b[39mmessage_parts\u001b[39m\u001b[39;2m))\u001b[39;22m\n",
      "      \u001b[39;2m162\u001b[39;22m\u001b[39;2m│\u001b[39;22m \n",
      "      \u001b[39;2m163\u001b[39;22m\u001b[39;2m│\u001b[39;22m \u001b[39m            \u001b[39m\u001b[35;1mif \u001b[39;22m\u001b[39merror \u001b[39m\u001b[35;1mis not None\u001b[39;22m\u001b[39;2m:\u001b[39;22m\n",
      "    \u001b[31;1m→\u001b[39;22m \u001b[39;1m164\u001b[39;22m\u001b[39;2m│\u001b[39;22m \u001b[39m                \u001b[39m\u001b[35;1mraise \u001b[39;22m\u001b[39merror \u001b[39m\u001b[35;1mfrom None\u001b[39;22m\n",
      "      \u001b[39;2m165\u001b[39;22m\u001b[39;2m│\u001b[39;22m \n",
      "      \u001b[39;2m166\u001b[39;22m\u001b[39;2m│\u001b[39;22m \u001b[39m            \u001b[39m\u001b[35;1mreturn \u001b[39;22m\u001b[39mpath\u001b[39m\n",
      "      \u001b[39;2m167\u001b[39;22m\u001b[39;2m│\u001b[39;22m \n",
      "      \u001b[39;2m168\u001b[39;22m\u001b[39;2m│\u001b[39;22m \u001b[39m    \u001b[39m\u001b[35;1mdef \u001b[39;22m\u001b[39m_prepare_sdist\u001b[39m\u001b[39;2m(\u001b[39;22m\u001b[39;1mself\u001b[39;22m\u001b[39;2m, \u001b[39;22m\u001b[39marchive\u001b[39m\u001b[39;2m: \u001b[39;22m\u001b[39mPath\u001b[39m\u001b[39;2m, \u001b[39;22m\u001b[39mdestination\u001b[39m\u001b[39;2m: \u001b[39;22m\u001b[39mPath \u001b[39m\u001b[39;2m| \u001b[39;22m\u001b[35;1mNone \u001b[39;22m\u001b[39;2m= \u001b[39;22m\u001b[35;1mNone\u001b[39;22m\u001b[39;2m) -> \u001b[39;22m\u001b[39mPath\u001b[39m\u001b[39;2m:\u001b[39;22m\n",
      "\n",
      "\u001b[34mNote: This error originates from the build backend, and is likely not a problem with poetry but with sklearn (0.0.post12) not supporting PEP 517 builds. You can verify this by running 'pip wheel --no-cache-dir --use-pep517 \"sklearn (==0.0.post12)\"'.\u001b[39m\n",
      "\n",
      "Using version \u001b[39;1m^2.0.0\u001b[39;22m for \u001b[36mretry-requests\u001b[39m\n",
      "\n",
      "\u001b[34mUpdating dependencies\u001b[39m\n",
      "\u001b[2K\u001b[34mResolving dependencies...\u001b[39m \u001b[39;2m(1.9s)\u001b[39;22m\n",
      "\n",
      "\u001b[39;1mPackage operations\u001b[39;22m: \u001b[34m1\u001b[39m install, \u001b[34m0\u001b[39m updates, \u001b[34m0\u001b[39m removals\n",
      "\n",
      "  \u001b[34;1m-\u001b[39;22m \u001b[39mInstalling \u001b[39m\u001b[36msklearn\u001b[39m\u001b[39m (\u001b[39m\u001b[39;1m0.0.post12\u001b[39;22m\u001b[39m)\u001b[39m: \u001b[34mPending...\u001b[39m\n",
      "\u001b[1A\u001b[0J  \u001b[34;1m-\u001b[39;22m \u001b[39mInstalling \u001b[39m\u001b[36msklearn\u001b[39m\u001b[39m (\u001b[39m\u001b[39;1m0.0.post12\u001b[39;22m\u001b[39m)\u001b[39m: \u001b[34mPreparing...\u001b[39m\n",
      "\u001b[1A\u001b[0J  \u001b[31;1m-\u001b[39;22m \u001b[39mInstalling \u001b[39m\u001b[36msklearn\u001b[39m\u001b[39m (\u001b[39m\u001b[31;1m0.0.post12\u001b[39;22m\u001b[39m)\u001b[39m: \u001b[31;1mFailed\u001b[39;22m\n",
      "\n",
      "  \u001b[31;1mChefBuildError\u001b[39;22m\n",
      "\n",
      "  \u001b[39;1mBackend subprocess exited when trying to invoke get_requires_for_build_wheel\n",
      "  \n",
      "  The 'sklearn' PyPI package is deprecated, use 'scikit-learn'\n",
      "  rather than 'sklearn' for pip commands. \n",
      "  \n",
      "  Here is how to fix this error in the main use cases:\n",
      "  - use 'pip install scikit-learn' rather than 'pip install sklearn'\n",
      "  - replace 'sklearn' by 'scikit-learn' in your pip requirements files\n",
      "    (requirements.txt, setup.py, setup.cfg, Pipfile, etc ...)\n",
      "  - if the 'sklearn' package is used by one of your dependencies,\n",
      "    it would be great if you take some time to track which package uses\n",
      "    'sklearn' instead of 'scikit-learn' and report it to their issue tracker\n",
      "  - as a last resort, set the environment variable\n",
      "    SKLEARN_ALLOW_DEPRECATED_SKLEARN_PACKAGE_INSTALL=True to avoid this error\n",
      "  \n",
      "  More information is available at\n",
      "  https://github.com/scikit-learn/sklearn-pypi-package\n",
      "  \u001b[39;22m\n",
      "\n",
      "  at \u001b[32m~/.local/share/pypoetry/venv/lib/python3.10/site-packages/poetry/installation/chef.py\u001b[39m:\u001b[39;1m164\u001b[39;22m in \u001b[36m_prepare\u001b[39m\n",
      "      \u001b[39;2m160\u001b[39;22m\u001b[39;2m│\u001b[39;22m \n",
      "      \u001b[39;2m161\u001b[39;22m\u001b[39;2m│\u001b[39;22m \u001b[39m                error \u001b[39m\u001b[39;2m= \u001b[39;22m\u001b[39mChefBuildError\u001b[39m\u001b[39;2m(\u001b[39;22m\u001b[33;1m\"\\n\\n\"\u001b[39;22m\u001b[39;2m.\u001b[39;22m\u001b[39mjoin\u001b[39m\u001b[39;2m(\u001b[39;22m\u001b[39mmessage_parts\u001b[39m\u001b[39;2m))\u001b[39;22m\n",
      "      \u001b[39;2m162\u001b[39;22m\u001b[39;2m│\u001b[39;22m \n",
      "      \u001b[39;2m163\u001b[39;22m\u001b[39;2m│\u001b[39;22m \u001b[39m            \u001b[39m\u001b[35;1mif \u001b[39;22m\u001b[39merror \u001b[39m\u001b[35;1mis not None\u001b[39;22m\u001b[39;2m:\u001b[39;22m\n",
      "    \u001b[31;1m→\u001b[39;22m \u001b[39;1m164\u001b[39;22m\u001b[39;2m│\u001b[39;22m \u001b[39m                \u001b[39m\u001b[35;1mraise \u001b[39;22m\u001b[39merror \u001b[39m\u001b[35;1mfrom None\u001b[39;22m\n",
      "      \u001b[39;2m165\u001b[39;22m\u001b[39;2m│\u001b[39;22m \n",
      "      \u001b[39;2m166\u001b[39;22m\u001b[39;2m│\u001b[39;22m \u001b[39m            \u001b[39m\u001b[35;1mreturn \u001b[39;22m\u001b[39mpath\u001b[39m\n",
      "      \u001b[39;2m167\u001b[39;22m\u001b[39;2m│\u001b[39;22m \n",
      "      \u001b[39;2m168\u001b[39;22m\u001b[39;2m│\u001b[39;22m \u001b[39m    \u001b[39m\u001b[35;1mdef \u001b[39;22m\u001b[39m_prepare_sdist\u001b[39m\u001b[39;2m(\u001b[39;22m\u001b[39;1mself\u001b[39;22m\u001b[39;2m, \u001b[39;22m\u001b[39marchive\u001b[39m\u001b[39;2m: \u001b[39;22m\u001b[39mPath\u001b[39m\u001b[39;2m, \u001b[39;22m\u001b[39mdestination\u001b[39m\u001b[39;2m: \u001b[39;22m\u001b[39mPath \u001b[39m\u001b[39;2m| \u001b[39;22m\u001b[35;1mNone \u001b[39;22m\u001b[39;2m= \u001b[39;22m\u001b[35;1mNone\u001b[39;22m\u001b[39;2m) -> \u001b[39;22m\u001b[39mPath\u001b[39m\u001b[39;2m:\u001b[39;22m\n",
      "\n",
      "\u001b[34mNote: This error originates from the build backend, and is likely not a problem with poetry but with sklearn (0.0.post12) not supporting PEP 517 builds. You can verify this by running 'pip wheel --no-cache-dir --use-pep517 \"sklearn (==0.0.post12)\"'.\u001b[39m\n",
      "\n"
     ]
    }
   ],
   "source": [
    "!poetry add pandas\n",
    "!poetry add openmeteo_requests\n",
    "!poetry add retry_requests"
   ]
  },
  {
   "cell_type": "code",
   "execution_count": 20,
   "metadata": {},
   "outputs": [],
   "source": [
    "import pandas as pd\n",
    "import openmeteo_requests\n",
    "import requests_cache\n",
    "from retry_requests import retry\n",
    "import requests"
   ]
  },
  {
   "cell_type": "code",
   "execution_count": 9,
   "metadata": {},
   "outputs": [],
   "source": [
    "cache_session = requests_cache.CachedSession('.cache', expire_after = -1)\n",
    "retry_session = retry(cache_session, retries = 5, backoff_factor = 0.2)\n",
    "openmeteo = openmeteo_requests.Client(session = retry_session)"
   ]
  },
  {
   "cell_type": "code",
   "execution_count": 45,
   "metadata": {},
   "outputs": [],
   "source": [
    "api_url =\"https://archive-api.open-meteo.com/v1/archive\""
   ]
  },
  {
   "cell_type": "markdown",
   "metadata": {},
   "source": []
  },
  {
   "cell_type": "code",
   "execution_count": 56,
   "metadata": {},
   "outputs": [],
   "source": [
    "COORDINATES = {\n",
    "    \"Madrid\": {\"latitude\": 40.416775, \"longitude\": -3.703790},\n",
    "    \"London\": {\"latitude\": 51.507351, \"longitude\": -0.127758},\n",
    "    \"Rio\": {\"latitude\": -22.906847, \"longitude\": -43.172896},\n",
    "}\n",
    "\n",
    "VARIABLES = [\"temperature_2m_mean\", \"precipitation_sum\", \"wind_speed_10m_max\"]\n",
    "\n",
    "# Define the date range\n",
    "params = {\n",
    "    \"latitude\": COORDINATES[\"Madrid\"][\"latitude\"],\n",
    "    \"longitude\": COORDINATES[\"Madrid\"][\"longitude\"],\n",
    "    \"start_date\": \"2024-01-17\",\n",
    "    \"end_date\": \"2024-10-30\",\n",
    "    \"hourly\": \"temperature_2m\"  # Single variable for testing\n",
    "}\n",
    "\n",
    "# Dictionary to store the combined dataframes for each location\n",
    "dataframes = {}\n"
   ]
  },
  {
   "cell_type": "code",
   "execution_count": null,
   "metadata": {},
   "outputs": [
    {
     "data": {
      "text/plain": [
       "[<openmeteo_sdk.WeatherApiResponse.WeatherApiResponse at 0x7f7faee3dae0>]"
      ]
     },
     "execution_count": 61,
     "metadata": {},
     "output_type": "execute_result"
    }
   ],
   "source": [
    "responses = openmeteo.weather_api(api_url,params)\n"
   ]
  },
  {
   "cell_type": "code",
   "execution_count": 59,
   "metadata": {},
   "outputs": [
    {
     "name": "stdout",
     "output_type": "stream",
     "text": [
      "Data for Madrid:\n",
      "Coordinates: 40.38664245605469°N -3.67608642578125°E\n",
      "Elevation: 666.0 m asl\n",
      "Timezone: None None\n",
      "Timezone difference to GMT+0: 0 s\n",
      "                          date  temperature_2m_mean\n",
      "0    2024-01-17 00:00:00+00:00            11.005000\n",
      "1    2024-01-17 01:00:00+00:00            11.105000\n",
      "2    2024-01-17 02:00:00+00:00            11.155001\n",
      "3    2024-01-17 03:00:00+00:00            11.255000\n",
      "4    2024-01-17 04:00:00+00:00            11.755000\n",
      "...                        ...                  ...\n",
      "6907 2024-10-30 19:00:00+00:00            14.655001\n",
      "6908 2024-10-30 20:00:00+00:00            13.105000\n",
      "6909 2024-10-30 21:00:00+00:00            12.055000\n",
      "6910 2024-10-30 22:00:00+00:00            12.305000\n",
      "6911 2024-10-30 23:00:00+00:00            12.255000\n",
      "\n",
      "[6912 rows x 2 columns]\n"
     ]
    }
   ],
   "source": [
    "if responses:\n",
    "    response = responses[0]\n",
    "    print(\"Data for Madrid:\")\n",
    "    print(f\"Coordinates: {response.Latitude()}°N {response.Longitude()}°E\")\n",
    "    print(f\"Elevation: {response.Elevation()} m asl\")\n",
    "    print(f\"Timezone: {response.Timezone()} {response.TimezoneAbbreviation()}\")\n",
    "    print(f\"Timezone difference to GMT+0: {response.UtcOffsetSeconds()} s\")\n",
    "\n",
    "    # Process hourly data for temperature_2m_mean\n",
    "    hourly = response.Hourly()\n",
    "    dates = pd.date_range(\n",
    "        start=pd.to_datetime(hourly.Time(), unit=\"s\", utc=True),\n",
    "        end=pd.to_datetime(hourly.TimeEnd(), unit=\"s\", utc=True),\n",
    "        freq=pd.Timedelta(seconds=hourly.Interval()),\n",
    "        inclusive=\"left\"\n",
    "    )\n",
    "    \n",
    "    # Create a DataFrame with dates and temperature values\n",
    "    madrid_data = pd.DataFrame({\n",
    "        \"date\": dates,\n",
    "        \"temperature_2m_mean\": hourly.Variables(0).ValuesAsNumpy()\n",
    "    })\n",
    "    \n",
    "    print(madrid_data)\n",
    "else:\n",
    "    print(\"Error fetching data for Madrid\")"
   ]
  }
 ],
 "metadata": {
  "kernelspec": {
   "display_name": "zrive-ds-zKI82jGH-py3.11",
   "language": "python",
   "name": "python3"
  },
  "language_info": {
   "codemirror_mode": {
    "name": "ipython",
    "version": 3
   },
   "file_extension": ".py",
   "mimetype": "text/x-python",
   "name": "python",
   "nbconvert_exporter": "python",
   "pygments_lexer": "ipython3",
   "version": "3.11.0"
  }
 },
 "nbformat": 4,
 "nbformat_minor": 2
}
