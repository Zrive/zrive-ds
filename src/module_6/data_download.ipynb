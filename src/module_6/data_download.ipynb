{
 "cells": [
  {
   "cell_type": "markdown",
   "metadata": {},
   "source": [
    "Download data and model"
   ]
  },
  {
   "cell_type": "code",
   "execution_count": null,
   "metadata": {},
   "outputs": [],
   "source": [
    "import boto3\n",
    "import os\n",
    "\n",
    "s3 = boto3.client(\n",
    "    's3',\n",
    "    #aws_access_key_id='',\n",
    "    #aws_secret_access_key=''\n",
    ")\n",
    "\n",
    "def download_file_from_s3(bucket: str, key: str, dest: str):\n",
    "    os.makedirs(os.path.dirname(dest), exist_ok=True)\n",
    "    s3.download_file(bucket, key, dest)\n",
    "\n",
    "data_bucket = 'zrive-ds-data'\n",
    "data_prefix = 'groceries/sampled-datasets'\n",
    "model_bucket = 'zrive-ds-data'\n",
    "model_key = 'groceries/trained-models/model.joblib'\n",
    "\n",
    "parquet_files = [\n",
    "    'orders.parquet',\n",
    "    'regulars.parquet',\n",
    "    'inventory.parquet'\n",
    "]\n",
    "\n",
    "for file in parquet_files:\n",
    "    download_file_from_s3(data_bucket, f\"{data_prefix}/{file}\", f\"data/{file}\")\n",
    "\n",
    "download_file_from_s3(model_bucket, model_key, 'bin/model.joblib')\n"
   ]
  }
 ],
 "metadata": {
  "kernelspec": {
   "display_name": "zrive-ds-djxvuVXx-py3.11",
   "language": "python",
   "name": "python3"
  },
  "language_info": {
   "codemirror_mode": {
    "name": "ipython",
    "version": 3
   },
   "file_extension": ".py",
   "mimetype": "text/x-python",
   "name": "python",
   "nbconvert_exporter": "python",
   "pygments_lexer": "ipython3",
   "version": "3.11.0"
  }
 },
 "nbformat": 4,
 "nbformat_minor": 2
}
